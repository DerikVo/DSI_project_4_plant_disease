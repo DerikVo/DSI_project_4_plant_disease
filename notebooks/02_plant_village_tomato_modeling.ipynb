{
  "cells": [
    {
      "cell_type": "code",
      "execution_count": 1,
      "metadata": {
        "id": "q0VQpQmo3V3q"
      },
      "outputs": [],
      "source": [
        "# imports\n",
        "import matplotlib.pyplot as plt\n",
        "import numpy as np\n",
        "import os\n",
        "import pandas as pd\n",
        "import seaborn as sns\n",
        "\n",
        "from tensorflow.keras.layers import Dense, Dropout, Flatten, Conv2D, MaxPooling2D\n",
        "from tensorflow.keras.regularizers import l2\n",
        "from tensorflow.keras.callbacks import EarlyStopping\n",
        "from tensorflow.keras.models import Sequential\n",
        "from tensorflow.keras.preprocessing.image import ImageDataGenerator\n",
        "from tensorflow.keras import layers\n",
        "\n",
        "from sklearn.model_selection import train_test_split\n",
        "from sklearn.metrics import confusion_matrix, classification_report"
      ]
    },
    {
      "cell_type": "markdown",
      "metadata": {
        "id": "4wiAqVWn3w2e"
      },
      "source": []
    },
    {
      "cell_type": "code",
      "source": [
        "from google.colab import drive\n",
        "drive.mount('/content/drive')"
      ],
      "metadata": {
        "colab": {
          "base_uri": "https://localhost:8080/"
        },
        "id": "pi1huuqLQvaL",
        "outputId": "9f2d0c53-93ef-4e6a-9329-e5ce7b891bbe"
      },
      "execution_count": 2,
      "outputs": [
        {
          "output_type": "stream",
          "name": "stdout",
          "text": [
            "Mounted at /content/drive\n"
          ]
        }
      ]
    },
    {
      "cell_type": "code",
      "execution_count": 3,
      "metadata": {
        "id": "ByqYzKd-4ohi"
      },
      "outputs": [],
      "source": [
        "!unzip -q /content/drive/MyDrive/datasets/Tomato.zip"
      ]
    },
    {
      "cell_type": "code",
      "execution_count": 4,
      "metadata": {
        "colab": {
          "base_uri": "https://localhost:8080/"
        },
        "id": "NFrXyUR-3eVK",
        "outputId": "88f20e0a-27ee-4928-e670-c9db89edcdf3"
      },
      "outputs": [
        {
          "output_type": "stream",
          "name": "stdout",
          "text": [
            "Found 3601 images belonging to 3 classes.\n",
            "Found 899 images belonging to 3 classes.\n"
          ]
        }
      ],
      "source": [
        "# initialize the data generator\n",
        "datagen = ImageDataGenerator(validation_split=0.2)\n",
        "\n",
        "# get training data\n",
        "train_ds = datagen.flow_from_directory(\n",
        "    '/content/Tomato',\n",
        "    target_size=(256, 256),\n",
        "    batch_size=32,\n",
        "    class_mode='categorical',\n",
        "    subset='training',  # set as training data\n",
        "    seed=42\n",
        ")\n",
        "\n",
        "# get validation data\n",
        "val_ds = datagen.flow_from_directory(\n",
        "    '/content/Tomato',\n",
        "    target_size=(256, 256),\n",
        "    batch_size=32,\n",
        "    class_mode='categorical',\n",
        "    subset='validation',  # set as validation data\n",
        "    seed=42,\n",
        "    shuffle=False\n",
        ")"
      ]
    },
    {
      "cell_type": "code",
      "source": [
        "train_ds.class_indices"
      ],
      "metadata": {
        "colab": {
          "base_uri": "https://localhost:8080/"
        },
        "id": "QwSmOQIA_ARs",
        "outputId": "856ac682-d4bb-4f51-a3e8-555da63108d7"
      },
      "execution_count": 5,
      "outputs": [
        {
          "output_type": "execute_result",
          "data": {
            "text/plain": [
              "{'Tomato_Early_blight': 0, 'Tomato_Late_blight': 1, 'Tomato_healthy': 2}"
            ]
          },
          "metadata": {},
          "execution_count": 5
        }
      ]
    },
    {
      "cell_type": "code",
      "execution_count": 6,
      "metadata": {
        "id": "32wHG4bY30mT"
      },
      "outputs": [],
      "source": [
        "es = EarlyStopping(patience = 5)\n",
        "\n",
        "model1 = Sequential()\n",
        "\n",
        "model1.add(layers.Input(shape=(256,256,3)))\n",
        "model1.add(layers.Rescaling(1./255))\n",
        "\n",
        "# Convolutional and pooling layers\n",
        "model1.add(Conv2D(64, (3,3), activation='relu'))\n",
        "model1.add(MaxPooling2D(pool_size=(2,2)))\n",
        "\n",
        "model1.add(Conv2D(64, (3,3), activation='relu'))\n",
        "model1.add(MaxPooling2D(pool_size=(2,2)))\n",
        "\n",
        "model1.add(Flatten())\n",
        "\n",
        "# Dense Layers\n",
        "model1.add(Dense(64, activation='relu'))\n",
        "\n",
        "# Output\n",
        "model1.add(Dense(3, activation='softmax'))\n",
        "\n",
        "model1.compile(\n",
        "    optimizer=\"adam\",\n",
        "    loss=\"categorical_crossentropy\",\n",
        "    metrics=['accuracy']\n",
        ")"
      ]
    },
    {
      "cell_type": "code",
      "source": [
        "model1.input_shape"
      ],
      "metadata": {
        "colab": {
          "base_uri": "https://localhost:8080/"
        },
        "id": "MLCzvvruR__K",
        "outputId": "ebe8ccf5-5f95-4fed-c96a-5b1786b6a838"
      },
      "execution_count": 7,
      "outputs": [
        {
          "output_type": "execute_result",
          "data": {
            "text/plain": [
              "(None, 256, 256, 3)"
            ]
          },
          "metadata": {},
          "execution_count": 7
        }
      ]
    },
    {
      "cell_type": "code",
      "source": [
        "model1.summary()"
      ],
      "metadata": {
        "colab": {
          "base_uri": "https://localhost:8080/"
        },
        "id": "4ZBd-PxxSBc_",
        "outputId": "0b0dd424-9572-4c5a-b4c2-e8f23e3e37a8"
      },
      "execution_count": 8,
      "outputs": [
        {
          "output_type": "stream",
          "name": "stdout",
          "text": [
            "Model: \"sequential\"\n",
            "_________________________________________________________________\n",
            " Layer (type)                Output Shape              Param #   \n",
            "=================================================================\n",
            " rescaling (Rescaling)       (None, 256, 256, 3)       0         \n",
            "                                                                 \n",
            " conv2d (Conv2D)             (None, 254, 254, 64)      1792      \n",
            "                                                                 \n",
            " max_pooling2d (MaxPooling2D  (None, 127, 127, 64)     0         \n",
            " )                                                               \n",
            "                                                                 \n",
            " conv2d_1 (Conv2D)           (None, 125, 125, 64)      36928     \n",
            "                                                                 \n",
            " max_pooling2d_1 (MaxPooling  (None, 62, 62, 64)       0         \n",
            " 2D)                                                             \n",
            "                                                                 \n",
            " flatten (Flatten)           (None, 246016)            0         \n",
            "                                                                 \n",
            " dense (Dense)               (None, 64)                15745088  \n",
            "                                                                 \n",
            " dense_1 (Dense)             (None, 3)                 195       \n",
            "                                                                 \n",
            "=================================================================\n",
            "Total params: 15,784,003\n",
            "Trainable params: 15,784,003\n",
            "Non-trainable params: 0\n",
            "_________________________________________________________________\n"
          ]
        }
      ]
    },
    {
      "cell_type": "code",
      "execution_count": 9,
      "metadata": {
        "colab": {
          "base_uri": "https://localhost:8080/"
        },
        "id": "1euSFn2q3-Pk",
        "outputId": "3417ebca-f7c8-443a-9454-7fa99fe7e03a"
      },
      "outputs": [
        {
          "output_type": "stream",
          "name": "stdout",
          "text": [
            "Epoch 1/20\n",
            "113/113 [==============================] - 27s 134ms/step - loss: 0.9394 - accuracy: 0.6359 - val_loss: 0.5367 - val_accuracy: 0.8220\n",
            "Epoch 2/20\n",
            "113/113 [==============================] - 13s 118ms/step - loss: 0.5596 - accuracy: 0.7817 - val_loss: 0.5301 - val_accuracy: 0.7976\n",
            "Epoch 3/20\n",
            "113/113 [==============================] - 14s 120ms/step - loss: 0.3590 - accuracy: 0.8642 - val_loss: 0.4523 - val_accuracy: 0.8265\n",
            "Epoch 4/20\n",
            "113/113 [==============================] - 15s 134ms/step - loss: 0.2226 - accuracy: 0.9231 - val_loss: 0.2859 - val_accuracy: 0.8843\n",
            "Epoch 5/20\n",
            "113/113 [==============================] - 14s 123ms/step - loss: 0.1303 - accuracy: 0.9572 - val_loss: 0.2789 - val_accuracy: 0.8966\n",
            "Epoch 6/20\n",
            "113/113 [==============================] - 14s 121ms/step - loss: 0.0834 - accuracy: 0.9717 - val_loss: 0.3014 - val_accuracy: 0.8943\n",
            "Epoch 7/20\n",
            "113/113 [==============================] - 14s 121ms/step - loss: 0.0596 - accuracy: 0.9814 - val_loss: 0.3350 - val_accuracy: 0.9077\n",
            "Epoch 8/20\n",
            "113/113 [==============================] - 14s 123ms/step - loss: 0.0248 - accuracy: 0.9936 - val_loss: 0.3423 - val_accuracy: 0.9043\n",
            "Epoch 9/20\n",
            "113/113 [==============================] - 14s 123ms/step - loss: 0.0105 - accuracy: 0.9975 - val_loss: 0.3418 - val_accuracy: 0.9066\n",
            "Epoch 10/20\n",
            "113/113 [==============================] - 14s 123ms/step - loss: 0.0152 - accuracy: 0.9958 - val_loss: 0.4251 - val_accuracy: 0.8954\n"
          ]
        }
      ],
      "source": [
        "h = model1.fit(train_ds,\n",
        "               validation_data=val_ds,\n",
        "               callbacks = [es],\n",
        "               epochs=20)"
      ]
    },
    {
      "cell_type": "markdown",
      "source": [
        "Prompted CHAT-GPT 4 to help grab the labels information from the validation dataset and get it into a numpy array, so that we can use that to make a confusion matrix."
      ],
      "metadata": {
        "id": "Bpyo6fADFqli"
      }
    },
    {
      "cell_type": "code",
      "source": [
        "def model_preds(model):\n",
        "  '''\n",
        "  This function will return the y_true_classes and y_pred_clasess\n",
        "  Which will allows us to build a confusion matrix\n",
        "  '''\n",
        "  \n",
        "  y_true_classes = val_ds.labels\n",
        "\n",
        "  y_pred_classes = model.predict(val_ds)\n",
        "\n",
        "  y_pred_classes = np.argmax(y_pred_classes, axis=1)\n",
        "\n",
        "  return (y_true_classes, y_pred_classes)"
      ],
      "metadata": {
        "id": "-aZUs9PKZrOX"
      },
      "execution_count": 10,
      "outputs": []
    },
    {
      "cell_type": "code",
      "source": [
        "y_true_classes, y_pred_classes = model_preds(model1)\n",
        "cm = confusion_matrix(y_true_classes, y_pred_classes)\n",
        "\n",
        "fig, ax = plt.subplots(figsize=(12, 5))\n",
        "\n",
        "sns.heatmap(cm, annot=True, fmt='d')\n",
        "\n",
        "ax.set_yticklabels(['Early Blight', 'Late Blight', 'Healthy'], rotation=0, va=\"center\")\n",
        "ax.set_xticklabels(['Early Blight', 'Late Blight', 'Healthy'], rotation=0, ha=\"center\")\n",
        "\n",
        "plt.xlabel('Predicted')\n",
        "plt.ylabel('Truth')\n",
        "plt.show()"
      ],
      "metadata": {
        "id": "dD2PjeaA_DXU",
        "colab": {
          "base_uri": "https://localhost:8080/",
          "height": 482
        },
        "outputId": "0315cf07-1eff-4b0e-d3aa-bcb219e74fb5"
      },
      "execution_count": 11,
      "outputs": [
        {
          "output_type": "stream",
          "name": "stdout",
          "text": [
            "29/29 [==============================] - 3s 102ms/step\n"
          ]
        },
        {
          "output_type": "display_data",
          "data": {
            "text/plain": [
              "<Figure size 1200x500 with 2 Axes>"
            ],
            "image/png": "[encoded data removed]"
          },
          "metadata": {}
        }
      ]
    },
    {
      "cell_type": "code",
      "source": [
        "report = classification_report(y_true_classes, y_pred_classes, target_names=val_ds.class_indices.keys())\n",
        "print(report)"
      ],
      "metadata": {
        "id": "sj4OuYi0_DeI",
        "colab": {
          "base_uri": "https://localhost:8080/"
        },
        "outputId": "877a6c05-ab6d-4493-ef64-c424fd3bee3a"
      },
      "execution_count": 12,
      "outputs": [
        {
          "output_type": "stream",
          "name": "stdout",
          "text": [
            "                     precision    recall  f1-score   support\n",
            "\n",
            "Tomato_Early_blight       0.80      0.74      0.77       200\n",
            " Tomato_Late_blight       0.87      0.90      0.89       381\n",
            "     Tomato_healthy       0.98      0.99      0.98       318\n",
            "\n",
            "           accuracy                           0.90       899\n",
            "          macro avg       0.88      0.88      0.88       899\n",
            "       weighted avg       0.89      0.90      0.89       899\n",
            "\n"
          ]
        }
      ]
    },
    {
      "cell_type": "code",
      "source": [
        "es = EarlyStopping(patience = 5)\n",
        "\n",
        "model2 = Sequential()\n",
        "\n",
        "model2.add(layers.Input(shape=(256,256,3)))\n",
        "model2.add(layers.Rescaling(1./255))\n",
        "\n",
        "# Convolutional and pooling layers\n",
        "model2.add(Conv2D(64, (3,3), activation='relu'))\n",
        "model2.add(MaxPooling2D(pool_size=(2,2)))\n",
        "\n",
        "model2.add(Conv2D(64, (3,3), activation='relu'))\n",
        "model2.add(MaxPooling2D(pool_size=(2,2)))\n",
        "\n",
        "model2.add(Flatten())\n",
        "\n",
        "# Dense Layers\n",
        "model2.add(Dense(32, activation='relu'))\n",
        "model2.add(Dense(32, activation='relu'))\n",
        "model2.add(Dense(32, activation='relu'))\n",
        "\n",
        "# Output\n",
        "model2.add(Dense(3, activation='softmax'))\n",
        "\n",
        "model2.compile(\n",
        "    optimizer=\"adam\",\n",
        "    loss=\"categorical_crossentropy\",\n",
        "    metrics=['accuracy']\n",
        ")\n",
        "h = model2.fit(train_ds,\n",
        "               validation_data=val_ds,\n",
        "               callbacks = [es],\n",
        "               epochs=20)"
      ],
      "metadata": {
        "id": "Y59cUr7w_BL9",
        "colab": {
          "base_uri": "https://localhost:8080/"
        },
        "outputId": "c478ab0f-9967-4f5d-9d23-462522489ff3"
      },
      "execution_count": 13,
      "outputs": [
        {
          "output_type": "stream",
          "name": "stdout",
          "text": [
            "Epoch 1/20\n",
            "113/113 [==============================] - 17s 128ms/step - loss: 0.7920 - accuracy: 0.6121 - val_loss: 0.4401 - val_accuracy: 0.7864\n",
            "Epoch 2/20\n",
            "113/113 [==============================] - 13s 119ms/step - loss: 0.3533 - accuracy: 0.8514 - val_loss: 0.3182 - val_accuracy: 0.8687\n",
            "Epoch 3/20\n",
            "113/113 [==============================] - 14s 120ms/step - loss: 0.2482 - accuracy: 0.8950 - val_loss: 0.2558 - val_accuracy: 0.9021\n",
            "Epoch 4/20\n",
            "113/113 [==============================] - 13s 117ms/step - loss: 0.1889 - accuracy: 0.9289 - val_loss: 0.2456 - val_accuracy: 0.8899\n",
            "Epoch 5/20\n",
            "113/113 [==============================] - 14s 120ms/step - loss: 0.1135 - accuracy: 0.9575 - val_loss: 0.2264 - val_accuracy: 0.9155\n",
            "Epoch 6/20\n",
            "113/113 [==============================] - 14s 122ms/step - loss: 0.0829 - accuracy: 0.9706 - val_loss: 0.3190 - val_accuracy: 0.9021\n",
            "Epoch 7/20\n",
            "113/113 [==============================] - 15s 131ms/step - loss: 0.0655 - accuracy: 0.9792 - val_loss: 0.3782 - val_accuracy: 0.8910\n",
            "Epoch 8/20\n",
            "113/113 [==============================] - 14s 125ms/step - loss: 0.0528 - accuracy: 0.9839 - val_loss: 0.3105 - val_accuracy: 0.8954\n",
            "Epoch 9/20\n",
            "113/113 [==============================] - 14s 126ms/step - loss: 0.0241 - accuracy: 0.9917 - val_loss: 0.4946 - val_accuracy: 0.8665\n",
            "Epoch 10/20\n",
            "113/113 [==============================] - 14s 126ms/step - loss: 0.0336 - accuracy: 0.9903 - val_loss: 0.4452 - val_accuracy: 0.9032\n"
          ]
        }
      ]
    },
    {
      "cell_type": "markdown",
      "source": [
        "Gets overfit so let's try some regularization."
      ],
      "metadata": {
        "id": "ltb9AQg7t8ld"
      }
    },
    {
      "cell_type": "code",
      "source": [
        "es = EarlyStopping(patience = 5)\n",
        "\n",
        "model3 = Sequential()\n",
        "\n",
        "model3.add(layers.Input(shape=(256,256,3)))\n",
        "model3.add(layers.Rescaling(1./255))\n",
        "\n",
        "# Convolutional and pooling layers\n",
        "model3.add(Conv2D(64, (3,3), activation='relu'))\n",
        "model3.add(MaxPooling2D(pool_size=(2,2)))\n",
        "\n",
        "model3.add(Conv2D(64, (3,3), activation='relu'))\n",
        "model3.add(MaxPooling2D(pool_size=(2,2)))\n",
        "\n",
        "model3.add(Flatten())\n",
        "\n",
        "# Dense Layers\n",
        "model3.add(Dense(32, activation='relu'))\n",
        "model3.add(Dense(32, activation='relu'))\n",
        "model3.add(Dense(32, activation='relu'))\n",
        "model3.add(Dropout(0.5))\n",
        "\n",
        "# Output\n",
        "model3.add(Dense(3, activation='softmax'))\n",
        "\n",
        "model3.compile(\n",
        "    optimizer=\"adam\",\n",
        "    loss=\"categorical_crossentropy\",\n",
        "    metrics=['accuracy']\n",
        ")\n",
        "h = model3.fit(train_ds,\n",
        "               validation_data=val_ds,\n",
        "               callbacks = [es],\n",
        "               epochs=20)"
      ],
      "metadata": {
        "id": "zgGwfLlprS1x",
        "colab": {
          "base_uri": "https://localhost:8080/"
        },
        "outputId": "8c7465fe-235c-4eaa-a132-220d28f36dba"
      },
      "execution_count": 14,
      "outputs": [
        {
          "output_type": "stream",
          "name": "stdout",
          "text": [
            "Epoch 1/20\n",
            "113/113 [==============================] - 16s 122ms/step - loss: 1.1356 - accuracy: 0.4257 - val_loss: 1.0324 - val_accuracy: 0.4238\n",
            "Epoch 2/20\n",
            "113/113 [==============================] - 14s 124ms/step - loss: 0.8578 - accuracy: 0.5982 - val_loss: 0.6090 - val_accuracy: 0.7853\n",
            "Epoch 3/20\n",
            "113/113 [==============================] - 14s 119ms/step - loss: 0.5083 - accuracy: 0.8095 - val_loss: 0.4910 - val_accuracy: 0.8076\n",
            "Epoch 4/20\n",
            "113/113 [==============================] - 13s 119ms/step - loss: 0.3208 - accuracy: 0.8836 - val_loss: 0.3682 - val_accuracy: 0.8509\n",
            "Epoch 5/20\n",
            "113/113 [==============================] - 13s 117ms/step - loss: 0.2382 - accuracy: 0.9309 - val_loss: 0.3451 - val_accuracy: 0.8765\n",
            "Epoch 6/20\n",
            "113/113 [==============================] - 14s 119ms/step - loss: 0.1331 - accuracy: 0.9603 - val_loss: 0.4254 - val_accuracy: 0.8776\n",
            "Epoch 7/20\n",
            "113/113 [==============================] - 14s 128ms/step - loss: 0.1023 - accuracy: 0.9700 - val_loss: 0.4546 - val_accuracy: 0.8687\n",
            "Epoch 8/20\n",
            "113/113 [==============================] - 14s 121ms/step - loss: 0.0944 - accuracy: 0.9756 - val_loss: 0.4801 - val_accuracy: 0.8832\n",
            "Epoch 9/20\n",
            "113/113 [==============================] - 14s 123ms/step - loss: 0.0533 - accuracy: 0.9858 - val_loss: 0.5877 - val_accuracy: 0.8665\n",
            "Epoch 10/20\n",
            "113/113 [==============================] - 14s 119ms/step - loss: 0.0261 - accuracy: 0.9936 - val_loss: 0.6105 - val_accuracy: 0.8877\n"
          ]
        }
      ]
    },
    {
      "cell_type": "markdown",
      "source": [
        "Still over fitting a lot, let's add another dropout layer."
      ],
      "metadata": {
        "id": "1M_HCrRSvi6a"
      }
    },
    {
      "cell_type": "code",
      "source": [
        "es = EarlyStopping(patience = 5)\n",
        "\n",
        "model4 = Sequential()\n",
        "\n",
        "model4.add(layers.Input(shape=(256,256,3)))\n",
        "model4.add(layers.Rescaling(1./255))\n",
        "\n",
        "# Convolutional and pooling layers\n",
        "model4.add(Conv2D(64, (3,3), activation='relu'))\n",
        "model4.add(MaxPooling2D(pool_size=(2,2)))\n",
        "\n",
        "model4.add(Conv2D(64, (3,3), activation='relu'))\n",
        "model4.add(MaxPooling2D(pool_size=(2,2)))\n",
        "\n",
        "model4.add(Flatten())\n",
        "\n",
        "# Dense Layers\n",
        "model4.add(Dense(32, activation='relu'))\n",
        "model4.add(Dense(32, activation='relu'))\n",
        "model4.add(Dropout(0.5))\n",
        "model4.add(Dense(32, activation='relu'))\n",
        "model4.add(Dropout(0.5))\n",
        "\n",
        "# Output\n",
        "model4.add(Dense(3, activation='softmax'))\n",
        "\n",
        "model4.compile(\n",
        "    optimizer=\"adam\",\n",
        "    loss=\"categorical_crossentropy\",\n",
        "    metrics=['accuracy']\n",
        ")\n",
        "h = model4.fit(train_ds,\n",
        "               validation_data=val_ds,\n",
        "               callbacks = [es],\n",
        "               epochs=20)"
      ],
      "metadata": {
        "id": "LiA4joACu2-l",
        "colab": {
          "base_uri": "https://localhost:8080/"
        },
        "outputId": "0cd64c1a-c247-4fee-be10-725832a555d5"
      },
      "execution_count": 15,
      "outputs": [
        {
          "output_type": "stream",
          "name": "stdout",
          "text": [
            "Epoch 1/20\n",
            "113/113 [==============================] - 18s 130ms/step - loss: 1.1227 - accuracy: 0.4768 - val_loss: 0.8662 - val_accuracy: 0.6240\n",
            "Epoch 2/20\n",
            "113/113 [==============================] - 15s 136ms/step - loss: 0.8310 - accuracy: 0.6334 - val_loss: 1.0457 - val_accuracy: 0.4316\n",
            "Epoch 3/20\n",
            "113/113 [==============================] - 13s 117ms/step - loss: 0.7788 - accuracy: 0.5882 - val_loss: 0.4900 - val_accuracy: 0.7508\n",
            "Epoch 4/20\n",
            "113/113 [==============================] - 14s 120ms/step - loss: 0.5399 - accuracy: 0.7559 - val_loss: 0.4008 - val_accuracy: 0.7664\n",
            "Epoch 5/20\n",
            "113/113 [==============================] - 14s 123ms/step - loss: 0.4204 - accuracy: 0.8028 - val_loss: 0.3155 - val_accuracy: 0.8665\n",
            "Epoch 6/20\n",
            "113/113 [==============================] - 14s 120ms/step - loss: 0.3593 - accuracy: 0.8520 - val_loss: 0.2751 - val_accuracy: 0.8888\n",
            "Epoch 7/20\n",
            "113/113 [==============================] - 13s 119ms/step - loss: 0.3064 - accuracy: 0.8692 - val_loss: 0.3369 - val_accuracy: 0.8799\n",
            "Epoch 8/20\n",
            "113/113 [==============================] - 14s 122ms/step - loss: 0.2685 - accuracy: 0.8948 - val_loss: 0.2553 - val_accuracy: 0.9032\n",
            "Epoch 9/20\n",
            "113/113 [==============================] - 14s 125ms/step - loss: 0.2138 - accuracy: 0.9264 - val_loss: 0.2726 - val_accuracy: 0.9032\n",
            "Epoch 10/20\n",
            "113/113 [==============================] - 14s 121ms/step - loss: 0.1613 - accuracy: 0.9481 - val_loss: 0.4464 - val_accuracy: 0.8821\n",
            "Epoch 11/20\n",
            "113/113 [==============================] - 14s 119ms/step - loss: 0.1325 - accuracy: 0.9572 - val_loss: 0.3692 - val_accuracy: 0.8977\n",
            "Epoch 12/20\n",
            "113/113 [==============================] - 14s 124ms/step - loss: 0.1283 - accuracy: 0.9622 - val_loss: 0.3775 - val_accuracy: 0.8966\n",
            "Epoch 13/20\n",
            "113/113 [==============================] - 14s 123ms/step - loss: 0.0798 - accuracy: 0.9775 - val_loss: 0.4403 - val_accuracy: 0.8877\n"
          ]
        }
      ]
    },
    {
      "cell_type": "markdown",
      "source": [
        "Still over fitting by a lot. Before trying another dropout layer, let's add in a l2 regularization, and see what the results are."
      ],
      "metadata": {
        "id": "-SfuCKwtwcEA"
      }
    },
    {
      "cell_type": "code",
      "source": [
        "es = EarlyStopping(patience = 5)\n",
        "\n",
        "model5 = Sequential()\n",
        "\n",
        "model5.add(layers.Input(shape=(256,256,3)))\n",
        "model5.add(layers.Rescaling(1./255))\n",
        "\n",
        "# Convolutional and pooling layers\n",
        "model5.add(Conv2D(64, (3,3), activation='relu'))\n",
        "model5.add(MaxPooling2D(pool_size=(2,2)))\n",
        "\n",
        "model5.add(Conv2D(64, (3,3), activation='relu'))\n",
        "model5.add(MaxPooling2D(pool_size=(2,2)))\n",
        "\n",
        "model5.add(Flatten())\n",
        "\n",
        "# Dense Layers\n",
        "model5.add(Dense(32, activation='relu', kernel_regularizer=l2(0.005)))\n",
        "model5.add(Dense(32, activation='relu', kernel_regularizer=l2(0.005)))\n",
        "model5.add(Dropout(0.5))\n",
        "model5.add(Dense(32, activation='relu', kernel_regularizer=l2(0.005)))\n",
        "model5.add(Dropout(0.5))\n",
        "\n",
        "# Output\n",
        "model5.add(Dense(3, activation='softmax'))\n",
        "\n",
        "model5.compile(\n",
        "    optimizer=\"adam\",\n",
        "    loss=\"categorical_crossentropy\",\n",
        "    metrics=['accuracy']\n",
        ")\n",
        "\n",
        "h = model5.fit(train_ds,\n",
        "               validation_data=val_ds,\n",
        "               callbacks = [es],\n",
        "               epochs=20)"
      ],
      "metadata": {
        "colab": {
          "base_uri": "https://localhost:8080/"
        },
        "id": "Vz8Abaj6vy78",
        "outputId": "a5ba046c-97d8-4734-d2dc-fa0e5cec95d3"
      },
      "execution_count": 16,
      "outputs": [
        {
          "output_type": "stream",
          "name": "stdout",
          "text": [
            "Epoch 1/20\n",
            "113/113 [==============================] - 16s 122ms/step - loss: 1.5523 - accuracy: 0.4729 - val_loss: 1.3139 - val_accuracy: 0.4238\n",
            "Epoch 2/20\n",
            "113/113 [==============================] - 13s 118ms/step - loss: 1.0973 - accuracy: 0.6115 - val_loss: 0.7646 - val_accuracy: 0.7497\n",
            "Epoch 3/20\n",
            "113/113 [==============================] - 14s 119ms/step - loss: 0.7775 - accuracy: 0.7334 - val_loss: 0.6360 - val_accuracy: 0.7675\n",
            "Epoch 4/20\n",
            "113/113 [==============================] - 14s 124ms/step - loss: 0.7379 - accuracy: 0.7395 - val_loss: 0.6074 - val_accuracy: 0.7686\n",
            "Epoch 5/20\n",
            "113/113 [==============================] - 14s 120ms/step - loss: 0.6189 - accuracy: 0.7659 - val_loss: 0.5403 - val_accuracy: 0.7709\n",
            "Epoch 6/20\n",
            "113/113 [==============================] - 20s 175ms/step - loss: 0.5577 - accuracy: 0.7884 - val_loss: 0.4865 - val_accuracy: 0.8610\n",
            "Epoch 7/20\n",
            "113/113 [==============================] - 15s 129ms/step - loss: 0.5462 - accuracy: 0.8153 - val_loss: 0.4707 - val_accuracy: 0.8398\n",
            "Epoch 8/20\n",
            "113/113 [==============================] - 14s 121ms/step - loss: 0.5228 - accuracy: 0.8314 - val_loss: 0.4771 - val_accuracy: 0.8532\n",
            "Epoch 9/20\n",
            "113/113 [==============================] - 13s 119ms/step - loss: 0.4834 - accuracy: 0.8634 - val_loss: 0.6994 - val_accuracy: 0.7898\n",
            "Epoch 10/20\n",
            "113/113 [==============================] - 14s 124ms/step - loss: 0.5450 - accuracy: 0.8420 - val_loss: 0.4756 - val_accuracy: 0.8598\n",
            "Epoch 11/20\n",
            "113/113 [==============================] - 15s 132ms/step - loss: 0.4813 - accuracy: 0.8573 - val_loss: 0.4311 - val_accuracy: 0.8443\n",
            "Epoch 12/20\n",
            "113/113 [==============================] - 15s 130ms/step - loss: 0.3988 - accuracy: 0.8956 - val_loss: 0.4143 - val_accuracy: 0.8888\n",
            "Epoch 13/20\n",
            "113/113 [==============================] - 14s 122ms/step - loss: 0.4280 - accuracy: 0.8928 - val_loss: 0.3914 - val_accuracy: 0.8888\n",
            "Epoch 14/20\n",
            "113/113 [==============================] - 14s 122ms/step - loss: 0.4117 - accuracy: 0.8950 - val_loss: 0.3246 - val_accuracy: 0.9199\n",
            "Epoch 15/20\n",
            "113/113 [==============================] - 14s 127ms/step - loss: 0.3537 - accuracy: 0.9156 - val_loss: 0.3590 - val_accuracy: 0.9188\n",
            "Epoch 16/20\n",
            "113/113 [==============================] - 16s 141ms/step - loss: 0.3322 - accuracy: 0.9322 - val_loss: 0.3382 - val_accuracy: 0.9132\n",
            "Epoch 17/20\n",
            "113/113 [==============================] - 13s 117ms/step - loss: 0.3774 - accuracy: 0.9225 - val_loss: 0.3416 - val_accuracy: 0.9210\n",
            "Epoch 18/20\n",
            "113/113 [==============================] - 14s 123ms/step - loss: 0.4513 - accuracy: 0.8875 - val_loss: 0.3454 - val_accuracy: 0.9210\n",
            "Epoch 19/20\n",
            "113/113 [==============================] - 14s 127ms/step - loss: 0.3275 - accuracy: 0.9389 - val_loss: 0.3194 - val_accuracy: 0.9266\n",
            "Epoch 20/20\n",
            "113/113 [==============================] - 13s 116ms/step - loss: 0.3359 - accuracy: 0.9356 - val_loss: 0.3463 - val_accuracy: 0.9199\n"
          ]
        }
      ]
    },
    {
      "cell_type": "markdown",
      "source": [
        "The model just so happened to start with a really low score, so it was able to hit 20 epochs, but in attempts to reproduce, the model would stil overfit and early stop."
      ],
      "metadata": {
        "id": "XnSvi5Rp0KyA"
      }
    },
    {
      "cell_type": "code",
      "source": [
        "es = EarlyStopping(patience = 5)\n",
        "\n",
        "model6 = Sequential()\n",
        "\n",
        "model6.add(layers.Input(shape=(256,256,3)))\n",
        "model6.add(layers.Rescaling(1./255))\n",
        "\n",
        "# Convolutional and pooling layers\n",
        "model6.add(Conv2D(64, (3,3), activation='relu'))\n",
        "model6.add(MaxPooling2D(pool_size=(2,2)))\n",
        "\n",
        "model6.add(Conv2D(64, (3,3), activation='relu'))\n",
        "model6.add(MaxPooling2D(pool_size=(2,2)))\n",
        "\n",
        "model6.add(Flatten())\n",
        "\n",
        "# Dense Layers\n",
        "model6.add(Dense(16, activation='relu', kernel_regularizer=l2(0.005)))\n",
        "model6.add(Dense(32, activation='relu', kernel_regularizer=l2(0.005)))\n",
        "model6.add(Dropout(0.5))\n",
        "model6.add(Dense(32, activation='relu', kernel_regularizer=l2(0.005)))\n",
        "model6.add(Dropout(0.5))\n",
        "model6.add(Dense(32, activation='relu', kernel_regularizer=l2(0.005)))\n",
        "\n",
        "# Output\n",
        "model6.add(Dense(3, activation='softmax'))\n",
        "\n",
        "model6.compile(\n",
        "    optimizer=\"adam\",\n",
        "    loss=\"categorical_crossentropy\",\n",
        "    metrics=['accuracy']\n",
        ")\n",
        "\n",
        "h = model6.fit(train_ds,\n",
        "               validation_data=val_ds,\n",
        "               callbacks = [es],\n",
        "               epochs=20)"
      ],
      "metadata": {
        "colab": {
          "base_uri": "https://localhost:8080/"
        },
        "id": "cZ-5VtJiy_fF",
        "outputId": "6aa2dc78-e087-40a5-9700-91458a7dcf64"
      },
      "execution_count": 17,
      "outputs": [
        {
          "output_type": "stream",
          "name": "stdout",
          "text": [
            "Epoch 1/20\n",
            "113/113 [==============================] - 16s 122ms/step - loss: 1.4344 - accuracy: 0.4654 - val_loss: 1.1137 - val_accuracy: 0.6719\n",
            "Epoch 2/20\n",
            "113/113 [==============================] - 13s 119ms/step - loss: 1.0233 - accuracy: 0.6695 - val_loss: 0.8635 - val_accuracy: 0.7264\n",
            "Epoch 3/20\n",
            "113/113 [==============================] - 13s 118ms/step - loss: 0.7812 - accuracy: 0.7417 - val_loss: 0.6583 - val_accuracy: 0.7697\n",
            "Epoch 4/20\n",
            "113/113 [==============================] - 13s 119ms/step - loss: 0.6669 - accuracy: 0.7537 - val_loss: 0.6123 - val_accuracy: 0.7575\n",
            "Epoch 5/20\n",
            "113/113 [==============================] - 13s 119ms/step - loss: 0.5972 - accuracy: 0.7620 - val_loss: 0.5682 - val_accuracy: 0.7642\n",
            "Epoch 6/20\n",
            "113/113 [==============================] - 14s 122ms/step - loss: 0.5711 - accuracy: 0.7623 - val_loss: 0.4638 - val_accuracy: 0.8587\n",
            "Epoch 7/20\n",
            "113/113 [==============================] - 14s 119ms/step - loss: 0.4926 - accuracy: 0.8528 - val_loss: 0.4626 - val_accuracy: 0.8598\n",
            "Epoch 8/20\n",
            "113/113 [==============================] - 13s 118ms/step - loss: 0.4740 - accuracy: 0.8611 - val_loss: 0.4451 - val_accuracy: 0.8665\n",
            "Epoch 9/20\n",
            "113/113 [==============================] - 14s 121ms/step - loss: 0.4541 - accuracy: 0.8711 - val_loss: 0.4255 - val_accuracy: 0.8899\n",
            "Epoch 10/20\n",
            "113/113 [==============================] - 13s 117ms/step - loss: 0.4182 - accuracy: 0.8881 - val_loss: 0.4290 - val_accuracy: 0.8754\n",
            "Epoch 11/20\n",
            "113/113 [==============================] - 14s 125ms/step - loss: 0.4441 - accuracy: 0.8784 - val_loss: 0.3880 - val_accuracy: 0.8832\n",
            "Epoch 12/20\n",
            "113/113 [==============================] - 14s 121ms/step - loss: 0.3981 - accuracy: 0.8989 - val_loss: 0.5114 - val_accuracy: 0.8343\n",
            "Epoch 13/20\n",
            "113/113 [==============================] - 14s 120ms/step - loss: 0.3873 - accuracy: 0.9009 - val_loss: 0.4454 - val_accuracy: 0.8676\n",
            "Epoch 14/20\n",
            "113/113 [==============================] - 13s 118ms/step - loss: 0.3611 - accuracy: 0.9175 - val_loss: 0.4315 - val_accuracy: 0.8732\n",
            "Epoch 15/20\n",
            "113/113 [==============================] - 14s 120ms/step - loss: 0.4104 - accuracy: 0.8981 - val_loss: 0.3745 - val_accuracy: 0.9043\n",
            "Epoch 16/20\n",
            "113/113 [==============================] - 14s 120ms/step - loss: 0.3725 - accuracy: 0.9097 - val_loss: 0.4679 - val_accuracy: 0.8610\n",
            "Epoch 17/20\n",
            "113/113 [==============================] - 14s 124ms/step - loss: 0.3276 - accuracy: 0.9309 - val_loss: 0.4774 - val_accuracy: 0.8765\n",
            "Epoch 18/20\n",
            "113/113 [==============================] - 13s 118ms/step - loss: 0.3213 - accuracy: 0.9247 - val_loss: 0.3606 - val_accuracy: 0.9121\n",
            "Epoch 19/20\n",
            "113/113 [==============================] - 13s 119ms/step - loss: 0.2773 - accuracy: 0.9467 - val_loss: 0.3527 - val_accuracy: 0.9099\n",
            "Epoch 20/20\n",
            "113/113 [==============================] - 15s 129ms/step - loss: 0.2942 - accuracy: 0.9420 - val_loss: 0.3679 - val_accuracy: 0.9110\n"
          ]
        }
      ]
    },
    {
      "cell_type": "markdown",
      "source": [
        "We've been tackling overfitting, but the accuracy on training is still worse than the validation of the original simple but overfit model. Adding more complexity hasn't really helped us that much. Let's start over, but now mess around with convolutions"
      ],
      "metadata": {
        "id": "cNDvE_A54ng7"
      }
    },
    {
      "cell_type": "code",
      "source": [
        "es = EarlyStopping(patience = 5)\n",
        "\n",
        "model7 = Sequential()\n",
        "\n",
        "model7.add(layers.Input(shape=(256,256,3)))\n",
        "model7.add(layers.Rescaling(1./255))\n",
        "\n",
        "# Convolutional and pooling layers\n",
        "model7.add(Conv2D(64, (4,4), activation='relu'))\n",
        "model7.add(MaxPooling2D(pool_size=(2,2)))\n",
        "\n",
        "model7.add(Conv2D(64, (4,4), activation='relu'))\n",
        "model7.add(MaxPooling2D(pool_size=(2,2)))\n",
        "\n",
        "model7.add(Flatten())\n",
        "\n",
        "# Dense Layers\n",
        "model7.add(Dense(64, activation='relu'))\n",
        "\n",
        "# Output\n",
        "model7.add(Dense(3, activation='softmax'))\n",
        "\n",
        "model7.compile(\n",
        "    optimizer=\"adam\",\n",
        "    loss=\"categorical_crossentropy\",\n",
        "    metrics=['accuracy']\n",
        ")\n",
        "\n",
        "h = model7.fit(train_ds,\n",
        "               validation_data=val_ds,\n",
        "               callbacks = [es],\n",
        "               epochs=20)"
      ],
      "metadata": {
        "colab": {
          "base_uri": "https://localhost:8080/"
        },
        "id": "1A0yds_Y0pTC",
        "outputId": "9e7efad7-58db-4653-c584-eb6c98fcec65"
      },
      "execution_count": 18,
      "outputs": [
        {
          "output_type": "stream",
          "name": "stdout",
          "text": [
            "Epoch 1/20\n",
            "113/113 [==============================] - 19s 136ms/step - loss: 1.0875 - accuracy: 0.5787 - val_loss: 0.4595 - val_accuracy: 0.8209\n",
            "Epoch 2/20\n",
            "113/113 [==============================] - 14s 122ms/step - loss: 0.4872 - accuracy: 0.8045 - val_loss: 0.2902 - val_accuracy: 0.8843\n",
            "Epoch 3/20\n",
            "113/113 [==============================] - 14s 124ms/step - loss: 0.2531 - accuracy: 0.9036 - val_loss: 0.3266 - val_accuracy: 0.8632\n",
            "Epoch 4/20\n",
            "113/113 [==============================] - 15s 132ms/step - loss: 0.1594 - accuracy: 0.9381 - val_loss: 0.2934 - val_accuracy: 0.8932\n",
            "Epoch 5/20\n",
            "113/113 [==============================] - 14s 125ms/step - loss: 0.0795 - accuracy: 0.9761 - val_loss: 0.5039 - val_accuracy: 0.8420\n",
            "Epoch 6/20\n",
            "113/113 [==============================] - 14s 127ms/step - loss: 0.0735 - accuracy: 0.9772 - val_loss: 0.3460 - val_accuracy: 0.9055\n",
            "Epoch 7/20\n",
            "113/113 [==============================] - 15s 130ms/step - loss: 0.0666 - accuracy: 0.9808 - val_loss: 0.5204 - val_accuracy: 0.8420\n"
          ]
        }
      ]
    },
    {
      "cell_type": "markdown",
      "source": [
        "changing the convolution input matrix from 3 x 3 to 4 x 4 didn't have a great effect. Let's go back to 3 x 3 and instead see what happens if we add a conv layer and remove a conv layer."
      ],
      "metadata": {
        "id": "hyIVt4US6GT6"
      }
    },
    {
      "cell_type": "code",
      "source": [
        "es = EarlyStopping(patience = 5)\n",
        "\n",
        "model8 = Sequential()\n",
        "\n",
        "model8.add(layers.Input(shape=(256,256,3)))\n",
        "model8.add(layers.Rescaling(1./255))\n",
        "\n",
        "# Convolutional and pooling layers\n",
        "model8.add(Conv2D(64, (3,3), activation='relu'))\n",
        "model8.add(MaxPooling2D(pool_size=(2,2)))\n",
        "\n",
        "model8.add(Conv2D(64, (3,3), activation='relu'))\n",
        "model8.add(MaxPooling2D(pool_size=(2,2)))\n",
        "\n",
        "model8.add(Conv2D(64, (3,3), activation='relu'))\n",
        "model8.add(MaxPooling2D(pool_size=(2,2)))\n",
        "\n",
        "model8.add(Flatten())\n",
        "\n",
        "# Dense Layers\n",
        "model8.add(Dense(64, activation='relu'))\n",
        "\n",
        "# Output\n",
        "model8.add(Dense(3, activation='softmax'))\n",
        "\n",
        "model8.compile(\n",
        "    optimizer=\"adam\",\n",
        "    loss=\"categorical_crossentropy\",\n",
        "    metrics=['accuracy']\n",
        ")\n",
        "\n",
        "h = model8.fit(train_ds,\n",
        "               validation_data=val_ds,\n",
        "               callbacks = [es],\n",
        "               epochs=20)"
      ],
      "metadata": {
        "colab": {
          "base_uri": "https://localhost:8080/"
        },
        "id": "cPjURya55SSt",
        "outputId": "fe167bf3-32d9-4a63-8e12-d41e5fb4a277"
      },
      "execution_count": 19,
      "outputs": [
        {
          "output_type": "stream",
          "name": "stdout",
          "text": [
            "Epoch 1/20\n",
            "113/113 [==============================] - 16s 124ms/step - loss: 0.7082 - accuracy: 0.6673 - val_loss: 0.4071 - val_accuracy: 0.8287\n",
            "Epoch 2/20\n",
            "113/113 [==============================] - 14s 120ms/step - loss: 0.3375 - accuracy: 0.8600 - val_loss: 0.3538 - val_accuracy: 0.8598\n",
            "Epoch 3/20\n",
            "113/113 [==============================] - 22s 196ms/step - loss: 0.2981 - accuracy: 0.8784 - val_loss: 0.2639 - val_accuracy: 0.8988\n",
            "Epoch 4/20\n",
            "113/113 [==============================] - 14s 120ms/step - loss: 0.1958 - accuracy: 0.9284 - val_loss: 0.2283 - val_accuracy: 0.9155\n",
            "Epoch 5/20\n",
            "113/113 [==============================] - 14s 121ms/step - loss: 0.1974 - accuracy: 0.9231 - val_loss: 0.1718 - val_accuracy: 0.9355\n",
            "Epoch 6/20\n",
            "113/113 [==============================] - 14s 123ms/step - loss: 0.1177 - accuracy: 0.9578 - val_loss: 0.2688 - val_accuracy: 0.9021\n",
            "Epoch 7/20\n",
            "113/113 [==============================] - 14s 127ms/step - loss: 0.0901 - accuracy: 0.9656 - val_loss: 0.2070 - val_accuracy: 0.9277\n",
            "Epoch 8/20\n",
            "113/113 [==============================] - 14s 121ms/step - loss: 0.0548 - accuracy: 0.9814 - val_loss: 0.1777 - val_accuracy: 0.9433\n",
            "Epoch 9/20\n",
            "113/113 [==============================] - 14s 125ms/step - loss: 0.0630 - accuracy: 0.9778 - val_loss: 0.3882 - val_accuracy: 0.8854\n",
            "Epoch 10/20\n",
            "113/113 [==============================] - 15s 136ms/step - loss: 0.0529 - accuracy: 0.9822 - val_loss: 0.2115 - val_accuracy: 0.9377\n"
          ]
        }
      ]
    },
    {
      "cell_type": "code",
      "source": [
        "es = EarlyStopping(patience = 5)\n",
        "\n",
        "model9 = Sequential()\n",
        "\n",
        "model9.add(layers.Input(shape=(256,256,3)))\n",
        "model9.add(layers.Rescaling(1./255))\n",
        "\n",
        "# Convolutional and pooling layers\n",
        "model9.add(Conv2D(64, (3,3), activation='relu'))\n",
        "model9.add(MaxPooling2D(pool_size=(2,2)))\n",
        "\n",
        "model9.add(Flatten())\n",
        "\n",
        "# Dense Layers\n",
        "model9.add(Dense(64, activation='relu'))\n",
        "\n",
        "# Output\n",
        "model9.add(Dense(3, activation='softmax'))\n",
        "\n",
        "model9.compile(\n",
        "    optimizer=\"adam\",\n",
        "    loss=\"categorical_crossentropy\",\n",
        "    metrics=['accuracy']\n",
        ")\n",
        "\n",
        "h = model9.fit(train_ds,\n",
        "               validation_data=val_ds,\n",
        "               callbacks = [es],\n",
        "               epochs=20)"
      ],
      "metadata": {
        "colab": {
          "base_uri": "https://localhost:8080/"
        },
        "id": "B7HTw9sR7WKB",
        "outputId": "93a72b41-f36c-478f-ddcb-a98fccb1904a"
      },
      "execution_count": 20,
      "outputs": [
        {
          "output_type": "stream",
          "name": "stdout",
          "text": [
            "Epoch 1/20\n",
            "113/113 [==============================] - 15s 122ms/step - loss: 3.3388 - accuracy: 0.7651 - val_loss: 0.3054 - val_accuracy: 0.8899\n",
            "Epoch 2/20\n",
            "113/113 [==============================] - 13s 117ms/step - loss: 0.1871 - accuracy: 0.9328 - val_loss: 0.2301 - val_accuracy: 0.9132\n",
            "Epoch 3/20\n",
            "113/113 [==============================] - 13s 117ms/step - loss: 0.0561 - accuracy: 0.9883 - val_loss: 0.3230 - val_accuracy: 0.8910\n",
            "Epoch 4/20\n",
            "113/113 [==============================] - 12s 108ms/step - loss: 0.0331 - accuracy: 0.9917 - val_loss: 0.2416 - val_accuracy: 0.9110\n",
            "Epoch 5/20\n",
            "113/113 [==============================] - 13s 113ms/step - loss: 0.0116 - accuracy: 0.9989 - val_loss: 0.2411 - val_accuracy: 0.9232\n",
            "Epoch 6/20\n",
            "113/113 [==============================] - 14s 128ms/step - loss: 0.0119 - accuracy: 0.9978 - val_loss: 0.3687 - val_accuracy: 0.8854\n",
            "Epoch 7/20\n",
            "113/113 [==============================] - 14s 120ms/step - loss: 0.0072 - accuracy: 0.9994 - val_loss: 0.3680 - val_accuracy: 0.8999\n"
          ]
        }
      ]
    },
    {
      "cell_type": "markdown",
      "source": [
        "Looks like our training accuracy is much more overfit with less validation accuracy. Currently model 8 seems to have the best performance, it has the highest accuracy (~96-99%% on training and ~92-95% on validation accuracy) and is less over fit than other models. Our second best model was model 2 with a train accuracy of ~99% and a validation accuracy of ~92%.\n",
        "\n",
        "Lets see how well they do with a confusion matrix, because of their similar accuacy scores it is most likely they are going to have similar misclassifiations.\n",
        "___________________________"
      ],
      "metadata": {
        "id": "ZaT2Gmq7yeGY"
      }
    },
    {
      "cell_type": "markdown",
      "source": [
        "## Confusion matrixs"
      ],
      "metadata": {
        "id": "D0ia5-eJ02JU"
      }
    },
    {
      "cell_type": "code",
      "source": [
        "y_true_classes, y_pred_classes = model_preds(model8)\n",
        "cm = confusion_matrix(y_true_classes, y_pred_classes)\n",
        "\n",
        "fig, ax = plt.subplots(figsize=(12, 5))\n",
        "\n",
        "sns.heatmap(cm, annot=True, fmt='d')\n",
        "\n",
        "ax.set_yticklabels(['Early Blight', 'Late Blight', 'Healthy'], rotation=0, va=\"center\")\n",
        "ax.set_xticklabels(['Early Blight', 'Late Blight', 'Healthy'], rotation=0, ha=\"center\")\n",
        "plt.title('model 8 matrix')\n",
        "plt.xlabel('Predicted')\n",
        "plt.ylabel('Truth')\n",
        "plt.show()\n",
        "plt.savefig('Model_8_Matrix.png')"
      ],
      "metadata": {
        "colab": {
          "base_uri": "https://localhost:8080/",
          "height": 522
        },
        "id": "WlyuQWSN2GJb",
        "outputId": "ec792af8-269a-40ce-e8e7-82bbcdf476c1"
      },
      "execution_count": 21,
      "outputs": [
        {
          "output_type": "stream",
          "name": "stdout",
          "text": [
            "29/29 [==============================] - 2s 77ms/step\n"
          ]
        },
        {
          "output_type": "display_data",
          "data": {
            "text/plain": [
              "<Figure size 1200x500 with 2 Axes>"
            ],
            "image/png": "[encoded data removed]"
          },
          "metadata": {}
        },
        {
          "output_type": "display_data",
          "data": {
            "text/plain": [
              "<Figure size 640x480 with 0 Axes>"
            ]
          },
          "metadata": {}
        }
      ]
    },
    {
      "cell_type": "code",
      "source": [
        "report = classification_report(y_true_classes, y_pred_classes, target_names=val_ds.class_indices.keys())\n",
        "print(report)"
      ],
      "metadata": {
        "colab": {
          "base_uri": "https://localhost:8080/"
        },
        "id": "Syt-58WG4DQK",
        "outputId": "c9ea501f-5675-4bc5-e704-52f182753f69"
      },
      "execution_count": 22,
      "outputs": [
        {
          "output_type": "stream",
          "name": "stdout",
          "text": [
            "                     precision    recall  f1-score   support\n",
            "\n",
            "Tomato_Early_blight       0.91      0.81      0.85       200\n",
            " Tomato_Late_blight       0.91      0.95      0.93       381\n",
            "     Tomato_healthy       1.00      1.00      1.00       318\n",
            "\n",
            "           accuracy                           0.94       899\n",
            "          macro avg       0.94      0.92      0.93       899\n",
            "       weighted avg       0.94      0.94      0.94       899\n",
            "\n"
          ]
        }
      ]
    },
    {
      "cell_type": "code",
      "source": [
        "y_true_classes, y_pred_classes = model_preds(model2)\n",
        "cm = confusion_matrix(y_true_classes, y_pred_classes)\n",
        "\n",
        "fig, ax = plt.subplots(figsize=(12, 5))\n",
        "\n",
        "sns.heatmap(cm, annot=True, fmt='d')\n",
        "\n",
        "ax.set_yticklabels(['Early Blight', 'Late Blight', 'Healthy'], rotation=0, va=\"center\")\n",
        "ax.set_xticklabels(['Early Blight', 'Late Blight', 'Healthy'], rotation=0, ha=\"center\")\n",
        "plt.title('model 2 matrix')\n",
        "plt.xlabel('Predicted')\n",
        "plt.ylabel('Truth')\n",
        "plt.show()"
      ],
      "metadata": {
        "colab": {
          "base_uri": "https://localhost:8080/",
          "height": 504
        },
        "id": "1B6M9Mjx05QK",
        "outputId": "2235706b-1cde-46dd-d248-b4452c7c8424"
      },
      "execution_count": 23,
      "outputs": [
        {
          "output_type": "stream",
          "name": "stdout",
          "text": [
            "29/29 [==============================] - 2s 75ms/step\n"
          ]
        },
        {
          "output_type": "display_data",
          "data": {
            "text/plain": [
              "<Figure size 1200x500 with 2 Axes>"
            ],
            "image/png": "[encoded data removed]"
          },
          "metadata": {}
        }
      ]
    },
    {
      "cell_type": "code",
      "source": [
        "report = classification_report(y_true_classes, y_pred_classes, target_names=val_ds.class_indices.keys())\n",
        "print(report)"
      ],
      "metadata": {
        "colab": {
          "base_uri": "https://localhost:8080/"
        },
        "id": "1G4s3W_H4HX0",
        "outputId": "4a121abb-de7d-4959-c89c-d06e7f91423e"
      },
      "execution_count": 24,
      "outputs": [
        {
          "output_type": "stream",
          "name": "stdout",
          "text": [
            "                     precision    recall  f1-score   support\n",
            "\n",
            "Tomato_Early_blight       0.87      0.70      0.78       200\n",
            " Tomato_Late_blight       0.86      0.94      0.90       381\n",
            "     Tomato_healthy       0.98      0.99      0.98       318\n",
            "\n",
            "           accuracy                           0.90       899\n",
            "          macro avg       0.90      0.88      0.89       899\n",
            "       weighted avg       0.90      0.90      0.90       899\n",
            "\n"
          ]
        }
      ]
    },
    {
      "cell_type": "markdown",
      "source": [
        "As expected since, they have similar accuracy scores we see they have similar classification rates. Lets just check a third model, in this case lets look at our most over fit model, model 9. Which has a training accuracy of 100%, but a validation accuracy of 90%."
      ],
      "metadata": {
        "id": "afgVFwVI2WFi"
      }
    },
    {
      "cell_type": "code",
      "source": [
        "y_true_classes, y_pred_classes = model_preds(model9)\n",
        "cm = confusion_matrix(y_true_classes, y_pred_classes)\n",
        "\n",
        "fig, ax = plt.subplots(figsize=(12, 5))\n",
        "\n",
        "sns.heatmap(cm, annot=True, fmt='d')\n",
        "\n",
        "ax.set_yticklabels(['Early Blight', 'Late Blight', 'Healthy'], rotation=0, va=\"center\")\n",
        "ax.set_xticklabels(['Early Blight', 'Late Blight', 'Healthy'], rotation=0, ha=\"center\")\n",
        "plt.title('model 2 matrix')\n",
        "plt.xlabel('Predicted')\n",
        "plt.ylabel('Truth')\n",
        "plt.show()"
      ],
      "metadata": {
        "colab": {
          "base_uri": "https://localhost:8080/",
          "height": 504
        },
        "id": "kl4KTu4C23oK",
        "outputId": "31c99bf6-6849-4efe-f2da-ff2335e8a4e2"
      },
      "execution_count": 25,
      "outputs": [
        {
          "output_type": "stream",
          "name": "stdout",
          "text": [
            "29/29 [==============================] - 2s 81ms/step\n"
          ]
        },
        {
          "output_type": "display_data",
          "data": {
            "text/plain": [
              "<Figure size 1200x500 with 2 Axes>"
            ],
            "image/png": "[encoded data removed]"
          },
          "metadata": {}
        }
      ]
    },
    {
      "cell_type": "code",
      "source": [
        "report = classification_report(y_true_classes, y_pred_classes, target_names=val_ds.class_indices.keys())\n",
        "print(report)"
      ],
      "metadata": {
        "colab": {
          "base_uri": "https://localhost:8080/"
        },
        "id": "CLZRNs6J4PPL",
        "outputId": "0a656aa3-3838-4f5c-878b-6aa5aaed8e68"
      },
      "execution_count": 26,
      "outputs": [
        {
          "output_type": "stream",
          "name": "stdout",
          "text": [
            "                     precision    recall  f1-score   support\n",
            "\n",
            "Tomato_Early_blight       0.88      0.66      0.75       200\n",
            " Tomato_Late_blight       0.85      0.94      0.90       381\n",
            "     Tomato_healthy       0.97      1.00      0.98       318\n",
            "\n",
            "           accuracy                           0.90       899\n",
            "          macro avg       0.90      0.87      0.88       899\n",
            "       weighted avg       0.90      0.90      0.90       899\n",
            "\n"
          ]
        }
      ]
    },
    {
      "cell_type": "markdown",
      "source": [
        "# Conclusion\n",
        "\n",
        "Model 8 does pretty well on the accuracy score, along with good precision scores.The model can struggle a bit between late blight and early blight, but that is fine because it is very good a distinguishing between healthy and blight as a whole. In the use case of this model, we want a model that can minimizes the number of blighted plants being predicted healthy. The reverse can just cause a waste of time when the user double checks only to find out the plant is heathly. But if a blighted plant passing as a healthy plant can do lots of damage to a crop base as whole. Model 8 does really well in this regard as well, having only 1 misclassified blight case as healthy. "
      ],
      "metadata": {
        "id": "9XWtCRnrzLZy"
      }
    }
  ],
  "metadata": {
    "accelerator": "GPU",
    "colab": {
      "provenance": [],
      "gpuType": "T4"
    },
    "gpuClass": "standard",
    "kernelspec": {
      "display_name": "Python 3",
      "name": "python3"
    },
    "language_info": {
      "name": "python"
    }
  },
  "nbformat": 4,
  "nbformat_minor": 0
}