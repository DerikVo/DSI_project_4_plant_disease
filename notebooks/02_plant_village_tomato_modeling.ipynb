{
  "cells": [
    {
      "cell_type": "code",
      "execution_count": 1,
      "metadata": {
        "id": "q0VQpQmo3V3q"
      },
      "outputs": [],
      "source": [
        "# imports\n",
        "import matplotlib.pyplot as plt\n",
        "import numpy as np\n",
        "import os\n",
        "import pandas as pd\n",
        "import seaborn as sns\n",
        "\n",
        "from tensorflow.keras.layers import Dense, Dropout, Flatten, Conv2D, MaxPooling2D\n",
        "from tensorflow.keras.regularizers import l2\n",
        "from tensorflow.keras.callbacks import EarlyStopping\n",
        "from tensorflow.keras.models import Sequential\n",
        "from tensorflow.keras.preprocessing.image import ImageDataGenerator\n",
        "from tensorflow.keras import layers\n",
        "\n",
        "from sklearn.model_selection import train_test_split\n",
        "from sklearn.metrics import confusion_matrix, classification_report"
      ]
    },
    {
      "cell_type": "code",
      "source": [
        "import numpy as np\n",
        "np.random.seed(1)\n",
        "from tensorflow.keras.utils import set_random_seed\n",
        "set_random_seed(1)"
      ],
      "metadata": {
        "id": "uFCxahI0InHK"
      },
      "execution_count": 2,
      "outputs": []
    },
    {
      "cell_type": "markdown",
      "metadata": {
        "id": "4wiAqVWn3w2e"
      },
      "source": []
    },
    {
      "cell_type": "code",
      "source": [
        "from google.colab import drive\n",
        "drive.mount('/content/drive')"
      ],
      "metadata": {
        "colab": {
          "base_uri": "https://localhost:8080/"
        },
        "id": "pi1huuqLQvaL",
        "outputId": "06f32a9d-85dc-4291-ef18-63aa2b6a2d1c"
      },
      "execution_count": 3,
      "outputs": [
        {
          "output_type": "stream",
          "name": "stdout",
          "text": [
            "Mounted at /content/drive\n"
          ]
        }
      ]
    },
    {
      "cell_type": "code",
      "execution_count": 4,
      "metadata": {
        "id": "ByqYzKd-4ohi"
      },
      "outputs": [],
      "source": [
        "!unzip -q /content/drive/MyDrive/datasets/Tomato.zip"
      ]
    },
    {
      "cell_type": "code",
      "execution_count": 5,
      "metadata": {
        "colab": {
          "base_uri": "https://localhost:8080/"
        },
        "id": "NFrXyUR-3eVK",
        "outputId": "67144cbc-b667-4487-aa57-6d8e7f8670a8"
      },
      "outputs": [
        {
          "output_type": "stream",
          "name": "stdout",
          "text": [
            "Found 3601 images belonging to 3 classes.\n",
            "Found 899 images belonging to 3 classes.\n"
          ]
        }
      ],
      "source": [
        "# initialize the data generator\n",
        "datagen = ImageDataGenerator(validation_split=0.2)\n",
        "\n",
        "# get training data\n",
        "train_ds = datagen.flow_from_directory(\n",
        "    '/content/Tomato',\n",
        "    target_size=(256, 256),\n",
        "    batch_size=32,\n",
        "    class_mode='categorical',\n",
        "    subset='training',  # set as training data\n",
        "    seed=42\n",
        ")\n",
        "\n",
        "# get validation data\n",
        "val_ds = datagen.flow_from_directory(\n",
        "    '/content/Tomato',\n",
        "    target_size=(256, 256),\n",
        "    batch_size=32,\n",
        "    class_mode='categorical',\n",
        "    subset='validation',  # set as validation data\n",
        "    seed=42,\n",
        "    shuffle=False\n",
        ")"
      ]
    },
    {
      "cell_type": "code",
      "source": [
        "train_ds.class_indices"
      ],
      "metadata": {
        "colab": {
          "base_uri": "https://localhost:8080/"
        },
        "id": "QwSmOQIA_ARs",
        "outputId": "238abde3-76e5-4260-c39b-f518d8278fc6"
      },
      "execution_count": 6,
      "outputs": [
        {
          "output_type": "execute_result",
          "data": {
            "text/plain": [
              "{'Tomato_Early_blight': 0, 'Tomato_Late_blight': 1, 'Tomato_healthy': 2}"
            ]
          },
          "metadata": {},
          "execution_count": 6
        }
      ]
    },
    {
      "cell_type": "code",
      "execution_count": 7,
      "metadata": {
        "id": "32wHG4bY30mT"
      },
      "outputs": [],
      "source": [
        "es = EarlyStopping(patience = 5)\n",
        "\n",
        "model1 = Sequential()\n",
        "\n",
        "model1.add(layers.Input(shape=(256,256,3)))\n",
        "model1.add(layers.Rescaling(1./255))\n",
        "\n",
        "# Convolutional and pooling layers\n",
        "model1.add(Conv2D(64, (3,3), activation='relu'))\n",
        "model1.add(MaxPooling2D(pool_size=(2,2)))\n",
        "\n",
        "model1.add(Conv2D(64, (3,3), activation='relu'))\n",
        "model1.add(MaxPooling2D(pool_size=(2,2)))\n",
        "\n",
        "model1.add(Flatten())\n",
        "\n",
        "# Dense Layers\n",
        "model1.add(Dense(64, activation='relu'))\n",
        "\n",
        "# Output\n",
        "model1.add(Dense(3, activation='softmax'))\n",
        "\n",
        "model1.compile(\n",
        "    optimizer=\"adam\",\n",
        "    loss=\"categorical_crossentropy\",\n",
        "    metrics=['accuracy']\n",
        ")"
      ]
    },
    {
      "cell_type": "code",
      "source": [
        "model1.input_shape"
      ],
      "metadata": {
        "colab": {
          "base_uri": "https://localhost:8080/"
        },
        "id": "MLCzvvruR__K",
        "outputId": "0dd486b5-c942-432c-ed11-4da70c5b118d"
      },
      "execution_count": 8,
      "outputs": [
        {
          "output_type": "execute_result",
          "data": {
            "text/plain": [
              "(None, 256, 256, 3)"
            ]
          },
          "metadata": {},
          "execution_count": 8
        }
      ]
    },
    {
      "cell_type": "code",
      "source": [
        "model1.summary()"
      ],
      "metadata": {
        "colab": {
          "base_uri": "https://localhost:8080/"
        },
        "id": "4ZBd-PxxSBc_",
        "outputId": "80398a21-92d5-46c4-8fc6-88c37eab16ad"
      },
      "execution_count": 9,
      "outputs": [
        {
          "output_type": "stream",
          "name": "stdout",
          "text": [
            "Model: \"sequential\"\n",
            "_________________________________________________________________\n",
            " Layer (type)                Output Shape              Param #   \n",
            "=================================================================\n",
            " rescaling (Rescaling)       (None, 256, 256, 3)       0         \n",
            "                                                                 \n",
            " conv2d (Conv2D)             (None, 254, 254, 64)      1792      \n",
            "                                                                 \n",
            " max_pooling2d (MaxPooling2D  (None, 127, 127, 64)     0         \n",
            " )                                                               \n",
            "                                                                 \n",
            " conv2d_1 (Conv2D)           (None, 125, 125, 64)      36928     \n",
            "                                                                 \n",
            " max_pooling2d_1 (MaxPooling  (None, 62, 62, 64)       0         \n",
            " 2D)                                                             \n",
            "                                                                 \n",
            " flatten (Flatten)           (None, 246016)            0         \n",
            "                                                                 \n",
            " dense (Dense)               (None, 64)                15745088  \n",
            "                                                                 \n",
            " dense_1 (Dense)             (None, 3)                 195       \n",
            "                                                                 \n",
            "=================================================================\n",
            "Total params: 15,784,003\n",
            "Trainable params: 15,784,003\n",
            "Non-trainable params: 0\n",
            "_________________________________________________________________\n"
          ]
        }
      ]
    },
    {
      "cell_type": "code",
      "execution_count": 10,
      "metadata": {
        "colab": {
          "base_uri": "https://localhost:8080/"
        },
        "id": "1euSFn2q3-Pk",
        "outputId": "b98db080-2c76-42c6-e5f8-d95c6e5e56b2"
      },
      "outputs": [
        {
          "output_type": "stream",
          "name": "stdout",
          "text": [
            "Epoch 1/20\n",
            "113/113 [==============================] - 28s 140ms/step - loss: 0.8326 - accuracy: 0.7134 - val_loss: 0.3233 - val_accuracy: 0.8565\n",
            "Epoch 2/20\n",
            "113/113 [==============================] - 13s 118ms/step - loss: 0.2582 - accuracy: 0.8936 - val_loss: 0.2789 - val_accuracy: 0.8832\n",
            "Epoch 3/20\n",
            "113/113 [==============================] - 14s 126ms/step - loss: 0.1591 - accuracy: 0.9392 - val_loss: 0.4511 - val_accuracy: 0.8509\n",
            "Epoch 4/20\n",
            "113/113 [==============================] - 14s 124ms/step - loss: 0.0946 - accuracy: 0.9661 - val_loss: 0.2550 - val_accuracy: 0.9066\n",
            "Epoch 5/20\n",
            "113/113 [==============================] - 14s 123ms/step - loss: 0.0373 - accuracy: 0.9883 - val_loss: 0.2899 - val_accuracy: 0.9121\n",
            "Epoch 6/20\n",
            "113/113 [==============================] - 13s 117ms/step - loss: 0.0333 - accuracy: 0.9903 - val_loss: 0.2642 - val_accuracy: 0.9210\n",
            "Epoch 7/20\n",
            "113/113 [==============================] - 13s 113ms/step - loss: 0.0452 - accuracy: 0.9847 - val_loss: 0.2845 - val_accuracy: 0.9110\n",
            "Epoch 8/20\n",
            "113/113 [==============================] - 17s 146ms/step - loss: 0.0194 - accuracy: 0.9936 - val_loss: 0.4648 - val_accuracy: 0.8932\n",
            "Epoch 9/20\n",
            "113/113 [==============================] - 14s 122ms/step - loss: 0.0070 - accuracy: 0.9981 - val_loss: 0.3901 - val_accuracy: 0.9199\n"
          ]
        }
      ],
      "source": [
        "h = model1.fit(train_ds,\n",
        "               validation_data=val_ds,\n",
        "               callbacks = [es],\n",
        "               epochs=20)"
      ]
    },
    {
      "cell_type": "markdown",
      "source": [
        "Prompted CHAT-GPT 4 to help grab the labels information from the validation dataset and get it into a numpy array, so that we can use that to make a confusion matrix."
      ],
      "metadata": {
        "id": "Bpyo6fADFqli"
      }
    },
    {
      "cell_type": "code",
      "source": [
        "def model_preds(model):\n",
        "  '''\n",
        "  This function will return the y_true_classes and y_pred_clasess\n",
        "  Which will allows us to build a confusion matrix\n",
        "  '''\n",
        "  \n",
        "  y_true_classes = val_ds.labels\n",
        "\n",
        "  y_pred_classes = model.predict(val_ds)\n",
        "\n",
        "  y_pred_classes = np.argmax(y_pred_classes, axis=1)\n",
        "\n",
        "  return (y_true_classes, y_pred_classes)"
      ],
      "metadata": {
        "id": "-aZUs9PKZrOX"
      },
      "execution_count": 11,
      "outputs": []
    },
    {
      "cell_type": "code",
      "source": [
        "y_true_classes, y_pred_classes = model_preds(model1)\n",
        "cm = confusion_matrix(y_true_classes, y_pred_classes)\n",
        "\n",
        "fig, ax = plt.subplots(figsize=(12, 5))\n",
        "\n",
        "sns.heatmap(cm, annot=True, fmt='d')\n",
        "\n",
        "ax.set_yticklabels(['Early Blight', 'Late Blight', 'Healthy'], rotation=0, va=\"center\")\n",
        "ax.set_xticklabels(['Early Blight', 'Late Blight', 'Healthy'], rotation=0, ha=\"center\")\n",
        "\n",
        "plt.xlabel('Predicted')\n",
        "plt.ylabel('Truth')\n",
        "plt.show()"
      ],
      "metadata": {
        "id": "dD2PjeaA_DXU",
        "colab": {
          "base_uri": "https://localhost:8080/",
          "height": 483
        },
        "outputId": "e1952937-19f6-4385-d65f-7f754456b8a5"
      },
      "execution_count": 12,
      "outputs": [
        {
          "output_type": "stream",
          "name": "stdout",
          "text": [
            "29/29 [==============================] - 2s 74ms/step\n"
          ]
        },
        {
          "output_type": "display_data",
          "data": {
            "text/plain": [
              "<Figure size 1200x500 with 2 Axes>"
            ],
            "image/png": "[encoded data removed]"
          },
          "metadata": {}
        }
      ]
    },
    {
      "cell_type": "code",
      "source": [
        "report = classification_report(y_true_classes, y_pred_classes, target_names=val_ds.class_indices.keys())\n",
        "print(report)"
      ],
      "metadata": {
        "id": "sj4OuYi0_DeI",
        "colab": {
          "base_uri": "https://localhost:8080/"
        },
        "outputId": "6eb9a795-decf-4041-d08d-913fb8cb179c"
      },
      "execution_count": 13,
      "outputs": [
        {
          "output_type": "stream",
          "name": "stdout",
          "text": [
            "                     precision    recall  f1-score   support\n",
            "\n",
            "Tomato_Early_blight       0.87      0.78      0.82       200\n",
            " Tomato_Late_blight       0.90      0.93      0.91       381\n",
            "     Tomato_healthy       0.97      1.00      0.99       318\n",
            "\n",
            "           accuracy                           0.92       899\n",
            "          macro avg       0.91      0.90      0.91       899\n",
            "       weighted avg       0.92      0.92      0.92       899\n",
            "\n"
          ]
        }
      ]
    },
    {
      "cell_type": "code",
      "source": [
        "es = EarlyStopping(patience = 5)\n",
        "\n",
        "model2 = Sequential()\n",
        "\n",
        "model2.add(layers.Input(shape=(256,256,3)))\n",
        "model2.add(layers.Rescaling(1./255))\n",
        "\n",
        "# Convolutional and pooling layers\n",
        "model2.add(Conv2D(64, (3,3), activation='relu'))\n",
        "model2.add(MaxPooling2D(pool_size=(2,2)))\n",
        "\n",
        "model2.add(Conv2D(64, (3,3), activation='relu'))\n",
        "model2.add(MaxPooling2D(pool_size=(2,2)))\n",
        "\n",
        "model2.add(Flatten())\n",
        "\n",
        "# Dense Layers\n",
        "model2.add(Dense(32, activation='relu'))\n",
        "model2.add(Dense(32, activation='relu'))\n",
        "model2.add(Dense(32, activation='relu'))\n",
        "\n",
        "# Output\n",
        "model2.add(Dense(3, activation='softmax'))\n",
        "\n",
        "model2.compile(\n",
        "    optimizer=\"adam\",\n",
        "    loss=\"categorical_crossentropy\",\n",
        "    metrics=['accuracy']\n",
        ")\n",
        "h = model2.fit(train_ds,\n",
        "               validation_data=val_ds,\n",
        "               callbacks = [es],\n",
        "               epochs=20)"
      ],
      "metadata": {
        "id": "Y59cUr7w_BL9",
        "colab": {
          "base_uri": "https://localhost:8080/"
        },
        "outputId": "63ac305d-ed08-4c8f-9ff3-ce1ccb416301"
      },
      "execution_count": 14,
      "outputs": [
        {
          "output_type": "stream",
          "name": "stdout",
          "text": [
            "Epoch 1/20\n",
            "113/113 [==============================] - 16s 123ms/step - loss: 0.6800 - accuracy: 0.6812 - val_loss: 0.3193 - val_accuracy: 0.8521\n",
            "Epoch 2/20\n",
            "113/113 [==============================] - 15s 135ms/step - loss: 0.3103 - accuracy: 0.8698 - val_loss: 0.2645 - val_accuracy: 0.8854\n",
            "Epoch 3/20\n",
            "113/113 [==============================] - 14s 119ms/step - loss: 0.2294 - accuracy: 0.9072 - val_loss: 0.2461 - val_accuracy: 0.8932\n",
            "Epoch 4/20\n",
            "113/113 [==============================] - 13s 116ms/step - loss: 0.1538 - accuracy: 0.9464 - val_loss: 0.2289 - val_accuracy: 0.9010\n",
            "Epoch 5/20\n",
            "113/113 [==============================] - 14s 122ms/step - loss: 0.1237 - accuracy: 0.9550 - val_loss: 0.2354 - val_accuracy: 0.9166\n",
            "Epoch 6/20\n",
            "113/113 [==============================] - 13s 116ms/step - loss: 0.0502 - accuracy: 0.9825 - val_loss: 0.2376 - val_accuracy: 0.9299\n",
            "Epoch 7/20\n",
            "113/113 [==============================] - 14s 119ms/step - loss: 0.0347 - accuracy: 0.9917 - val_loss: 0.2351 - val_accuracy: 0.9188\n",
            "Epoch 8/20\n",
            "113/113 [==============================] - 14s 120ms/step - loss: 0.1369 - accuracy: 0.9528 - val_loss: 0.2960 - val_accuracy: 0.9143\n",
            "Epoch 9/20\n",
            "113/113 [==============================] - 13s 119ms/step - loss: 0.0355 - accuracy: 0.9864 - val_loss: 0.3251 - val_accuracy: 0.9143\n"
          ]
        }
      ]
    },
    {
      "cell_type": "markdown",
      "source": [
        "Gets overfit so let's try some regularization."
      ],
      "metadata": {
        "id": "ltb9AQg7t8ld"
      }
    },
    {
      "cell_type": "code",
      "source": [
        "es = EarlyStopping(patience = 5)\n",
        "\n",
        "model3 = Sequential()\n",
        "\n",
        "model3.add(layers.Input(shape=(256,256,3)))\n",
        "model3.add(layers.Rescaling(1./255))\n",
        "\n",
        "# Convolutional and pooling layers\n",
        "model3.add(Conv2D(64, (3,3), activation='relu'))\n",
        "model3.add(MaxPooling2D(pool_size=(2,2)))\n",
        "\n",
        "model3.add(Conv2D(64, (3,3), activation='relu'))\n",
        "model3.add(MaxPooling2D(pool_size=(2,2)))\n",
        "\n",
        "model3.add(Flatten())\n",
        "\n",
        "# Dense Layers\n",
        "model3.add(Dense(32, activation='relu'))\n",
        "model3.add(Dense(32, activation='relu'))\n",
        "model3.add(Dense(32, activation='relu'))\n",
        "model3.add(Dropout(0.5))\n",
        "\n",
        "# Output\n",
        "model3.add(Dense(3, activation='softmax'))\n",
        "\n",
        "model3.compile(\n",
        "    optimizer=\"adam\",\n",
        "    loss=\"categorical_crossentropy\",\n",
        "    metrics=['accuracy']\n",
        ")\n",
        "h = model3.fit(train_ds,\n",
        "               validation_data=val_ds,\n",
        "               callbacks = [es],\n",
        "               epochs=20)"
      ],
      "metadata": {
        "id": "zgGwfLlprS1x",
        "colab": {
          "base_uri": "https://localhost:8080/"
        },
        "outputId": "395c5ee3-8290-4b52-b5ad-ab02637cd1cd"
      },
      "execution_count": 15,
      "outputs": [
        {
          "output_type": "stream",
          "name": "stdout",
          "text": [
            "Epoch 1/20\n",
            "113/113 [==============================] - 16s 122ms/step - loss: 0.9690 - accuracy: 0.5096 - val_loss: 0.6675 - val_accuracy: 0.6785\n",
            "Epoch 2/20\n",
            "113/113 [==============================] - 13s 117ms/step - loss: 0.6218 - accuracy: 0.6920 - val_loss: 0.5270 - val_accuracy: 0.7219\n",
            "Epoch 3/20\n",
            "113/113 [==============================] - 13s 118ms/step - loss: 0.5310 - accuracy: 0.7387 - val_loss: 0.4053 - val_accuracy: 0.7920\n",
            "Epoch 4/20\n",
            "113/113 [==============================] - 14s 122ms/step - loss: 0.4648 - accuracy: 0.7587 - val_loss: 0.3836 - val_accuracy: 0.7998\n",
            "Epoch 5/20\n",
            "113/113 [==============================] - 14s 120ms/step - loss: 0.4134 - accuracy: 0.8039 - val_loss: 0.2922 - val_accuracy: 0.8665\n",
            "Epoch 6/20\n",
            "113/113 [==============================] - 13s 118ms/step - loss: 0.3553 - accuracy: 0.8412 - val_loss: 0.3263 - val_accuracy: 0.8487\n",
            "Epoch 7/20\n",
            "113/113 [==============================] - 13s 116ms/step - loss: 0.3086 - accuracy: 0.8748 - val_loss: 0.3184 - val_accuracy: 0.8865\n",
            "Epoch 8/20\n",
            "113/113 [==============================] - 13s 118ms/step - loss: 0.2301 - accuracy: 0.9120 - val_loss: 0.2787 - val_accuracy: 0.8910\n",
            "Epoch 9/20\n",
            "113/113 [==============================] - 13s 117ms/step - loss: 0.1762 - accuracy: 0.9322 - val_loss: 0.3378 - val_accuracy: 0.8799\n",
            "Epoch 10/20\n",
            "113/113 [==============================] - 13s 115ms/step - loss: 0.1540 - accuracy: 0.9447 - val_loss: 0.4185 - val_accuracy: 0.8721\n",
            "Epoch 11/20\n",
            "113/113 [==============================] - 13s 116ms/step - loss: 0.1285 - accuracy: 0.9483 - val_loss: 0.4552 - val_accuracy: 0.8799\n",
            "Epoch 12/20\n",
            "113/113 [==============================] - 13s 117ms/step - loss: 0.1147 - accuracy: 0.9553 - val_loss: 0.8446 - val_accuracy: 0.8565\n",
            "Epoch 13/20\n",
            "113/113 [==============================] - 13s 117ms/step - loss: 0.1410 - accuracy: 0.9553 - val_loss: 0.4812 - val_accuracy: 0.8587\n"
          ]
        }
      ]
    },
    {
      "cell_type": "markdown",
      "source": [
        "Still over fitting a lot, let's add another dropout layer."
      ],
      "metadata": {
        "id": "1M_HCrRSvi6a"
      }
    },
    {
      "cell_type": "code",
      "source": [
        "es = EarlyStopping(patience = 5)\n",
        "\n",
        "model4 = Sequential()\n",
        "\n",
        "model4.add(layers.Input(shape=(256,256,3)))\n",
        "model4.add(layers.Rescaling(1./255))\n",
        "\n",
        "# Convolutional and pooling layers\n",
        "model4.add(Conv2D(64, (3,3), activation='relu'))\n",
        "model4.add(MaxPooling2D(pool_size=(2,2)))\n",
        "\n",
        "model4.add(Conv2D(64, (3,3), activation='relu'))\n",
        "model4.add(MaxPooling2D(pool_size=(2,2)))\n",
        "\n",
        "model4.add(Flatten())\n",
        "\n",
        "# Dense Layers\n",
        "model4.add(Dense(32, activation='relu'))\n",
        "model4.add(Dense(32, activation='relu'))\n",
        "model4.add(Dropout(0.5))\n",
        "model4.add(Dense(32, activation='relu'))\n",
        "model4.add(Dropout(0.5))\n",
        "\n",
        "# Output\n",
        "model4.add(Dense(3, activation='softmax'))\n",
        "\n",
        "model4.compile(\n",
        "    optimizer=\"adam\",\n",
        "    loss=\"categorical_crossentropy\",\n",
        "    metrics=['accuracy']\n",
        ")\n",
        "h = model4.fit(train_ds,\n",
        "               validation_data=val_ds,\n",
        "               callbacks = [es],\n",
        "               epochs=20)"
      ],
      "metadata": {
        "id": "LiA4joACu2-l",
        "colab": {
          "base_uri": "https://localhost:8080/"
        },
        "outputId": "4578fe2c-98b9-476b-a637-6b447227ee66"
      },
      "execution_count": 16,
      "outputs": [
        {
          "output_type": "stream",
          "name": "stdout",
          "text": [
            "Epoch 1/20\n",
            "113/113 [==============================] - 15s 119ms/step - loss: 1.0695 - accuracy: 0.4790 - val_loss: 0.9354 - val_accuracy: 0.6174\n",
            "Epoch 2/20\n",
            "113/113 [==============================] - 13s 113ms/step - loss: 0.7758 - accuracy: 0.7001 - val_loss: 0.9579 - val_accuracy: 0.5684\n",
            "Epoch 3/20\n",
            "113/113 [==============================] - 13s 114ms/step - loss: 0.6397 - accuracy: 0.7481 - val_loss: 0.6983 - val_accuracy: 0.7386\n",
            "Epoch 4/20\n",
            "113/113 [==============================] - 19s 168ms/step - loss: 0.5805 - accuracy: 0.7495 - val_loss: 0.4897 - val_accuracy: 0.7664\n",
            "Epoch 5/20\n",
            "113/113 [==============================] - 13s 115ms/step - loss: 0.5724 - accuracy: 0.7445 - val_loss: 0.4894 - val_accuracy: 0.7709\n",
            "Epoch 6/20\n",
            "113/113 [==============================] - 13s 116ms/step - loss: 0.5153 - accuracy: 0.7565 - val_loss: 0.4738 - val_accuracy: 0.7697\n",
            "Epoch 7/20\n",
            "113/113 [==============================] - 14s 121ms/step - loss: 0.5139 - accuracy: 0.7562 - val_loss: 0.4519 - val_accuracy: 0.7686\n",
            "Epoch 8/20\n",
            "113/113 [==============================] - 14s 122ms/step - loss: 0.4810 - accuracy: 0.7634 - val_loss: 0.4569 - val_accuracy: 0.7675\n",
            "Epoch 9/20\n",
            "113/113 [==============================] - 14s 123ms/step - loss: 0.5033 - accuracy: 0.7587 - val_loss: 0.4068 - val_accuracy: 0.7720\n",
            "Epoch 10/20\n",
            "113/113 [==============================] - 14s 123ms/step - loss: 0.4712 - accuracy: 0.7590 - val_loss: 0.4319 - val_accuracy: 0.7731\n",
            "Epoch 11/20\n",
            "113/113 [==============================] - 13s 119ms/step - loss: 0.4437 - accuracy: 0.7648 - val_loss: 0.3933 - val_accuracy: 0.7597\n",
            "Epoch 12/20\n",
            "113/113 [==============================] - 13s 118ms/step - loss: 0.3944 - accuracy: 0.7706 - val_loss: 0.3399 - val_accuracy: 0.7709\n",
            "Epoch 13/20\n",
            "113/113 [==============================] - 14s 122ms/step - loss: 0.3837 - accuracy: 0.7706 - val_loss: 0.3230 - val_accuracy: 0.7742\n",
            "Epoch 14/20\n",
            "113/113 [==============================] - 13s 113ms/step - loss: 0.4531 - accuracy: 0.7570 - val_loss: 0.3901 - val_accuracy: 0.7686\n",
            "Epoch 15/20\n",
            "113/113 [==============================] - 14s 121ms/step - loss: 0.3825 - accuracy: 0.7670 - val_loss: 0.3602 - val_accuracy: 0.7720\n",
            "Epoch 16/20\n",
            "113/113 [==============================] - 13s 118ms/step - loss: 0.3438 - accuracy: 0.7734 - val_loss: 0.4068 - val_accuracy: 0.7620\n",
            "Epoch 17/20\n",
            "113/113 [==============================] - 15s 136ms/step - loss: 0.3575 - accuracy: 0.7776 - val_loss: 0.3233 - val_accuracy: 0.7742\n",
            "Epoch 18/20\n",
            "113/113 [==============================] - 13s 118ms/step - loss: 0.3423 - accuracy: 0.7762 - val_loss: 0.3237 - val_accuracy: 0.7920\n"
          ]
        }
      ]
    },
    {
      "cell_type": "markdown",
      "source": [
        "Still over fitting by a lot. Before trying another dropout layer, let's add in a l2 regularization, and see what the results are."
      ],
      "metadata": {
        "id": "-SfuCKwtwcEA"
      }
    },
    {
      "cell_type": "code",
      "source": [
        "es = EarlyStopping(patience = 5)\n",
        "\n",
        "model5 = Sequential()\n",
        "\n",
        "model5.add(layers.Input(shape=(256,256,3)))\n",
        "model5.add(layers.Rescaling(1./255))\n",
        "\n",
        "# Convolutional and pooling layers\n",
        "model5.add(Conv2D(64, (3,3), activation='relu'))\n",
        "model5.add(MaxPooling2D(pool_size=(2,2)))\n",
        "\n",
        "model5.add(Conv2D(64, (3,3), activation='relu'))\n",
        "model5.add(MaxPooling2D(pool_size=(2,2)))\n",
        "\n",
        "model5.add(Flatten())\n",
        "\n",
        "# Dense Layers\n",
        "model5.add(Dense(32, activation='relu', kernel_regularizer=l2(0.005)))\n",
        "model5.add(Dense(32, activation='relu', kernel_regularizer=l2(0.005)))\n",
        "model5.add(Dropout(0.5))\n",
        "model5.add(Dense(32, activation='relu', kernel_regularizer=l2(0.005)))\n",
        "model5.add(Dropout(0.5))\n",
        "\n",
        "# Output\n",
        "model5.add(Dense(3, activation='softmax'))\n",
        "\n",
        "model5.compile(\n",
        "    optimizer=\"adam\",\n",
        "    loss=\"categorical_crossentropy\",\n",
        "    metrics=['accuracy']\n",
        ")\n",
        "\n",
        "h = model5.fit(train_ds,\n",
        "               validation_data=val_ds,\n",
        "               callbacks = [es],\n",
        "               epochs=20)"
      ],
      "metadata": {
        "colab": {
          "base_uri": "https://localhost:8080/"
        },
        "id": "Vz8Abaj6vy78",
        "outputId": "eaf47aad-94c1-4652-9a97-62e48dbd5f75"
      },
      "execution_count": 17,
      "outputs": [
        {
          "output_type": "stream",
          "name": "stdout",
          "text": [
            "Epoch 1/20\n",
            "113/113 [==============================] - 16s 121ms/step - loss: 1.4334 - accuracy: 0.5568 - val_loss: 0.8581 - val_accuracy: 0.7241\n",
            "Epoch 2/20\n",
            "113/113 [==============================] - 14s 121ms/step - loss: 0.9160 - accuracy: 0.6934 - val_loss: 0.7121 - val_accuracy: 0.7519\n",
            "Epoch 3/20\n",
            "113/113 [==============================] - 13s 119ms/step - loss: 0.7345 - accuracy: 0.7448 - val_loss: 0.5919 - val_accuracy: 0.7775\n",
            "Epoch 4/20\n",
            "113/113 [==============================] - 13s 115ms/step - loss: 0.6846 - accuracy: 0.7767 - val_loss: 0.8799 - val_accuracy: 0.7230\n",
            "Epoch 5/20\n",
            "113/113 [==============================] - 13s 117ms/step - loss: 0.6267 - accuracy: 0.8139 - val_loss: 0.5484 - val_accuracy: 0.8320\n",
            "Epoch 6/20\n",
            "113/113 [==============================] - 15s 128ms/step - loss: 0.5664 - accuracy: 0.8278 - val_loss: 0.5485 - val_accuracy: 0.8176\n",
            "Epoch 7/20\n",
            "113/113 [==============================] - 14s 122ms/step - loss: 0.5447 - accuracy: 0.8373 - val_loss: 0.5097 - val_accuracy: 0.8465\n",
            "Epoch 8/20\n",
            "113/113 [==============================] - 14s 122ms/step - loss: 0.5421 - accuracy: 0.8373 - val_loss: 0.4576 - val_accuracy: 0.8843\n",
            "Epoch 9/20\n",
            "113/113 [==============================] - 14s 121ms/step - loss: 0.5322 - accuracy: 0.8495 - val_loss: 0.4718 - val_accuracy: 0.8732\n",
            "Epoch 10/20\n",
            "113/113 [==============================] - 13s 116ms/step - loss: 0.5272 - accuracy: 0.8603 - val_loss: 0.4386 - val_accuracy: 0.8888\n",
            "Epoch 11/20\n",
            "113/113 [==============================] - 14s 121ms/step - loss: 0.4726 - accuracy: 0.8761 - val_loss: 0.3934 - val_accuracy: 0.8943\n",
            "Epoch 12/20\n",
            "113/113 [==============================] - 13s 119ms/step - loss: 0.4481 - accuracy: 0.8798 - val_loss: 0.4114 - val_accuracy: 0.8943\n",
            "Epoch 13/20\n",
            "113/113 [==============================] - 14s 120ms/step - loss: 0.4385 - accuracy: 0.8961 - val_loss: 0.4282 - val_accuracy: 0.8999\n",
            "Epoch 14/20\n",
            "113/113 [==============================] - 14s 120ms/step - loss: 0.4437 - accuracy: 0.8934 - val_loss: 0.4156 - val_accuracy: 0.8943\n",
            "Epoch 15/20\n",
            "113/113 [==============================] - 14s 123ms/step - loss: 0.4376 - accuracy: 0.9006 - val_loss: 0.4054 - val_accuracy: 0.9043\n",
            "Epoch 16/20\n",
            "113/113 [==============================] - 14s 123ms/step - loss: 0.4270 - accuracy: 0.9028 - val_loss: 0.3626 - val_accuracy: 0.9132\n",
            "Epoch 17/20\n",
            "113/113 [==============================] - 14s 121ms/step - loss: 0.4445 - accuracy: 0.9042 - val_loss: 0.3731 - val_accuracy: 0.9132\n",
            "Epoch 18/20\n",
            "113/113 [==============================] - 13s 118ms/step - loss: 0.3824 - accuracy: 0.9164 - val_loss: 0.3350 - val_accuracy: 0.9132\n",
            "Epoch 19/20\n",
            "113/113 [==============================] - 13s 118ms/step - loss: 0.3804 - accuracy: 0.9245 - val_loss: 0.3671 - val_accuracy: 0.9099\n",
            "Epoch 20/20\n",
            "113/113 [==============================] - 14s 121ms/step - loss: 0.4430 - accuracy: 0.9086 - val_loss: 0.4005 - val_accuracy: 0.9099\n"
          ]
        }
      ]
    },
    {
      "cell_type": "markdown",
      "source": [
        "The model just so happened to start with a really low score, so it was able to hit 20 epochs, but in attempts to reproduce, the model would stil overfit and early stop."
      ],
      "metadata": {
        "id": "XnSvi5Rp0KyA"
      }
    },
    {
      "cell_type": "code",
      "source": [
        "es = EarlyStopping(patience = 5)\n",
        "\n",
        "model6 = Sequential()\n",
        "\n",
        "model6.add(layers.Input(shape=(256,256,3)))\n",
        "model6.add(layers.Rescaling(1./255))\n",
        "\n",
        "# Convolutional and pooling layers\n",
        "model6.add(Conv2D(64, (3,3), activation='relu'))\n",
        "model6.add(MaxPooling2D(pool_size=(2,2)))\n",
        "\n",
        "model6.add(Conv2D(64, (3,3), activation='relu'))\n",
        "model6.add(MaxPooling2D(pool_size=(2,2)))\n",
        "\n",
        "model6.add(Flatten())\n",
        "\n",
        "# Dense Layers\n",
        "model6.add(Dense(16, activation='relu', kernel_regularizer=l2(0.005)))\n",
        "model6.add(Dense(32, activation='relu', kernel_regularizer=l2(0.005)))\n",
        "model6.add(Dropout(0.5))\n",
        "model6.add(Dense(32, activation='relu', kernel_regularizer=l2(0.005)))\n",
        "model6.add(Dropout(0.5))\n",
        "model6.add(Dense(32, activation='relu', kernel_regularizer=l2(0.005)))\n",
        "\n",
        "# Output\n",
        "model6.add(Dense(3, activation='softmax'))\n",
        "\n",
        "model6.compile(\n",
        "    optimizer=\"adam\",\n",
        "    loss=\"categorical_crossentropy\",\n",
        "    metrics=['accuracy']\n",
        ")\n",
        "\n",
        "h = model6.fit(train_ds,\n",
        "               validation_data=val_ds,\n",
        "               callbacks = [es],\n",
        "               epochs=20)"
      ],
      "metadata": {
        "colab": {
          "base_uri": "https://localhost:8080/"
        },
        "id": "cZ-5VtJiy_fF",
        "outputId": "6a160b8a-a5dd-471f-b5fd-96428999e6ac"
      },
      "execution_count": 18,
      "outputs": [
        {
          "output_type": "stream",
          "name": "stdout",
          "text": [
            "Epoch 1/20\n",
            "113/113 [==============================] - 16s 120ms/step - loss: 1.5210 - accuracy: 0.4135 - val_loss: 1.3457 - val_accuracy: 0.4238\n",
            "Epoch 2/20\n",
            "113/113 [==============================] - 13s 118ms/step - loss: 1.2881 - accuracy: 0.4224 - val_loss: 1.2286 - val_accuracy: 0.4238\n",
            "Epoch 3/20\n",
            "113/113 [==============================] - 13s 118ms/step - loss: 1.2086 - accuracy: 0.4249 - val_loss: 1.1800 - val_accuracy: 0.4238\n",
            "Epoch 4/20\n",
            "113/113 [==============================] - 14s 120ms/step - loss: 1.1758 - accuracy: 0.4243 - val_loss: 1.1845 - val_accuracy: 0.4238\n",
            "Epoch 5/20\n",
            "113/113 [==============================] - 13s 117ms/step - loss: 1.1668 - accuracy: 0.4243 - val_loss: 1.1462 - val_accuracy: 0.4238\n",
            "Epoch 6/20\n",
            "113/113 [==============================] - 13s 116ms/step - loss: 1.1192 - accuracy: 0.4243 - val_loss: 1.1098 - val_accuracy: 0.4238\n",
            "Epoch 7/20\n",
            "113/113 [==============================] - 13s 119ms/step - loss: 1.1046 - accuracy: 0.4243 - val_loss: 1.1091 - val_accuracy: 0.4238\n",
            "Epoch 8/20\n",
            "113/113 [==============================] - 13s 117ms/step - loss: 1.0929 - accuracy: 0.4243 - val_loss: 1.0867 - val_accuracy: 0.4238\n",
            "Epoch 9/20\n",
            "113/113 [==============================] - 13s 118ms/step - loss: 1.0759 - accuracy: 0.4243 - val_loss: 1.0767 - val_accuracy: 0.4238\n",
            "Epoch 10/20\n",
            "113/113 [==============================] - 13s 117ms/step - loss: 1.0784 - accuracy: 0.4243 - val_loss: 1.0715 - val_accuracy: 0.4238\n",
            "Epoch 11/20\n",
            "113/113 [==============================] - 13s 118ms/step - loss: 1.0622 - accuracy: 0.4243 - val_loss: 1.0651 - val_accuracy: 0.4238\n",
            "Epoch 12/20\n",
            "113/113 [==============================] - 14s 120ms/step - loss: 1.0599 - accuracy: 0.4243 - val_loss: 1.0990 - val_accuracy: 0.4238\n",
            "Epoch 13/20\n",
            "113/113 [==============================] - 14s 119ms/step - loss: 1.0917 - accuracy: 0.4243 - val_loss: 1.0817 - val_accuracy: 0.4238\n",
            "Epoch 14/20\n",
            "113/113 [==============================] - 14s 121ms/step - loss: 1.0771 - accuracy: 0.4243 - val_loss: 1.0720 - val_accuracy: 0.4238\n",
            "Epoch 15/20\n",
            "113/113 [==============================] - 14s 125ms/step - loss: 1.0685 - accuracy: 0.4243 - val_loss: 1.0598 - val_accuracy: 0.4238\n",
            "Epoch 16/20\n",
            "113/113 [==============================] - 13s 117ms/step - loss: 1.0504 - accuracy: 0.4243 - val_loss: 1.0548 - val_accuracy: 0.4238\n",
            "Epoch 17/20\n",
            "113/113 [==============================] - 13s 116ms/step - loss: 1.0474 - accuracy: 0.4243 - val_loss: 1.0681 - val_accuracy: 0.4238\n",
            "Epoch 18/20\n",
            "113/113 [==============================] - 13s 117ms/step - loss: 1.0531 - accuracy: 0.4243 - val_loss: 1.0511 - val_accuracy: 0.4238\n",
            "Epoch 19/20\n",
            "113/113 [==============================] - 13s 116ms/step - loss: 1.0451 - accuracy: 0.4243 - val_loss: 1.0516 - val_accuracy: 0.4238\n",
            "Epoch 20/20\n",
            "113/113 [==============================] - 13s 114ms/step - loss: 1.0256 - accuracy: 0.4529 - val_loss: 0.9294 - val_accuracy: 0.5528\n"
          ]
        }
      ]
    },
    {
      "cell_type": "markdown",
      "source": [
        "We've been tackling overfitting, but the accuracy on training is still worse than the validation of the original simple but overfit model. Adding more complexity hasn't really helped us that much. Let's start over, but now mess around with convolutions"
      ],
      "metadata": {
        "id": "cNDvE_A54ng7"
      }
    },
    {
      "cell_type": "code",
      "source": [
        "es = EarlyStopping(patience = 5)\n",
        "\n",
        "model7 = Sequential()\n",
        "\n",
        "model7.add(layers.Input(shape=(256,256,3)))\n",
        "model7.add(layers.Rescaling(1./255))\n",
        "\n",
        "# Convolutional and pooling layers\n",
        "model7.add(Conv2D(64, (4,4), activation='relu'))\n",
        "model7.add(MaxPooling2D(pool_size=(2,2)))\n",
        "\n",
        "model7.add(Conv2D(64, (4,4), activation='relu'))\n",
        "model7.add(MaxPooling2D(pool_size=(2,2)))\n",
        "\n",
        "model7.add(Flatten())\n",
        "\n",
        "# Dense Layers\n",
        "model7.add(Dense(64, activation='relu'))\n",
        "\n",
        "# Output\n",
        "model7.add(Dense(3, activation='softmax'))\n",
        "\n",
        "model7.compile(\n",
        "    optimizer=\"adam\",\n",
        "    loss=\"categorical_crossentropy\",\n",
        "    metrics=['accuracy']\n",
        ")\n",
        "\n",
        "h = model7.fit(train_ds,\n",
        "               validation_data=val_ds,\n",
        "               callbacks = [es],\n",
        "               epochs=20)"
      ],
      "metadata": {
        "colab": {
          "base_uri": "https://localhost:8080/"
        },
        "id": "1A0yds_Y0pTC",
        "outputId": "9fba1628-7bfd-4c86-eb2c-e213f28ef571"
      },
      "execution_count": 19,
      "outputs": [
        {
          "output_type": "stream",
          "name": "stdout",
          "text": [
            "Epoch 1/20\n",
            "113/113 [==============================] - 19s 135ms/step - loss: 1.1411 - accuracy: 0.5496 - val_loss: 1.0088 - val_accuracy: 0.5495\n",
            "Epoch 2/20\n",
            "113/113 [==============================] - 14s 124ms/step - loss: 0.9707 - accuracy: 0.5451 - val_loss: 0.8317 - val_accuracy: 0.6607\n",
            "Epoch 3/20\n",
            "113/113 [==============================] - 14s 120ms/step - loss: 0.7909 - accuracy: 0.6723 - val_loss: 0.8058 - val_accuracy: 0.6752\n",
            "Epoch 4/20\n",
            "113/113 [==============================] - 14s 121ms/step - loss: 0.5624 - accuracy: 0.7884 - val_loss: 0.6833 - val_accuracy: 0.7253\n",
            "Epoch 5/20\n",
            "113/113 [==============================] - 14s 121ms/step - loss: 0.4959 - accuracy: 0.7976 - val_loss: 0.7954 - val_accuracy: 0.7286\n",
            "Epoch 6/20\n",
            "113/113 [==============================] - 14s 122ms/step - loss: 0.3383 - accuracy: 0.8861 - val_loss: 0.7265 - val_accuracy: 0.7464\n",
            "Epoch 7/20\n",
            "113/113 [==============================] - 14s 121ms/step - loss: 0.2028 - accuracy: 0.9384 - val_loss: 0.8730 - val_accuracy: 0.7375\n",
            "Epoch 8/20\n",
            "113/113 [==============================] - 14s 123ms/step - loss: 0.1003 - accuracy: 0.9731 - val_loss: 0.9929 - val_accuracy: 0.7464\n",
            "Epoch 9/20\n",
            "113/113 [==============================] - 14s 123ms/step - loss: 0.0541 - accuracy: 0.9886 - val_loss: 1.1942 - val_accuracy: 0.7486\n"
          ]
        }
      ]
    },
    {
      "cell_type": "markdown",
      "source": [
        "changing the convolution input matrix from 3 x 3 to 4 x 4 didn't have a great effect. Let's go back to 3 x 3 and instead see what happens if we add a conv layer and remove a conv layer."
      ],
      "metadata": {
        "id": "hyIVt4US6GT6"
      }
    },
    {
      "cell_type": "code",
      "source": [
        "es = EarlyStopping(patience = 5)\n",
        "\n",
        "model8 = Sequential()\n",
        "\n",
        "model8.add(layers.Input(shape=(256,256,3)))\n",
        "model8.add(layers.Rescaling(1./255))\n",
        "\n",
        "# Convolutional and pooling layers\n",
        "model8.add(Conv2D(64, (3,3), activation='relu'))\n",
        "model8.add(MaxPooling2D(pool_size=(2,2)))\n",
        "\n",
        "model8.add(Conv2D(64, (3,3), activation='relu'))\n",
        "model8.add(MaxPooling2D(pool_size=(2,2)))\n",
        "\n",
        "model8.add(Conv2D(64, (3,3), activation='relu'))\n",
        "model8.add(MaxPooling2D(pool_size=(2,2)))\n",
        "\n",
        "model8.add(Flatten())\n",
        "\n",
        "# Dense Layers\n",
        "model8.add(Dense(64, activation='relu'))\n",
        "\n",
        "# Output\n",
        "model8.add(Dense(3, activation='softmax'))\n",
        "\n",
        "model8.compile(\n",
        "    optimizer=\"adam\",\n",
        "    loss=\"categorical_crossentropy\",\n",
        "    metrics=['accuracy']\n",
        ")\n",
        "\n",
        "h = model8.fit(train_ds,\n",
        "               validation_data=val_ds,\n",
        "               callbacks = [es],\n",
        "               epochs=20)"
      ],
      "metadata": {
        "colab": {
          "base_uri": "https://localhost:8080/"
        },
        "id": "cPjURya55SSt",
        "outputId": "bba2ce8d-7b4f-45a9-ec03-ebac55a9d9f0"
      },
      "execution_count": 20,
      "outputs": [
        {
          "output_type": "stream",
          "name": "stdout",
          "text": [
            "Epoch 1/20\n",
            "113/113 [==============================] - 16s 120ms/step - loss: 0.7404 - accuracy: 0.6454 - val_loss: 0.3634 - val_accuracy: 0.8331\n",
            "Epoch 2/20\n",
            "113/113 [==============================] - 13s 119ms/step - loss: 0.3217 - accuracy: 0.8534 - val_loss: 0.3490 - val_accuracy: 0.8465\n",
            "Epoch 3/20\n",
            "113/113 [==============================] - 14s 119ms/step - loss: 0.3064 - accuracy: 0.8739 - val_loss: 0.4659 - val_accuracy: 0.8209\n",
            "Epoch 4/20\n",
            "113/113 [==============================] - 14s 125ms/step - loss: 0.2194 - accuracy: 0.9147 - val_loss: 0.1971 - val_accuracy: 0.9143\n",
            "Epoch 5/20\n",
            "113/113 [==============================] - 14s 120ms/step - loss: 0.1754 - accuracy: 0.9317 - val_loss: 0.1937 - val_accuracy: 0.9143\n",
            "Epoch 6/20\n",
            "113/113 [==============================] - 14s 120ms/step - loss: 0.1292 - accuracy: 0.9506 - val_loss: 0.1943 - val_accuracy: 0.9199\n",
            "Epoch 7/20\n",
            "113/113 [==============================] - 13s 118ms/step - loss: 0.0986 - accuracy: 0.9658 - val_loss: 0.1476 - val_accuracy: 0.9466\n",
            "Epoch 8/20\n",
            "113/113 [==============================] - 13s 119ms/step - loss: 0.0822 - accuracy: 0.9692 - val_loss: 0.3599 - val_accuracy: 0.8910\n",
            "Epoch 9/20\n",
            "113/113 [==============================] - 14s 120ms/step - loss: 0.0632 - accuracy: 0.9781 - val_loss: 0.2736 - val_accuracy: 0.9132\n",
            "Epoch 10/20\n",
            "113/113 [==============================] - 14s 121ms/step - loss: 0.0406 - accuracy: 0.9869 - val_loss: 0.2064 - val_accuracy: 0.9388\n",
            "Epoch 11/20\n",
            "113/113 [==============================] - 14s 123ms/step - loss: 0.0870 - accuracy: 0.9681 - val_loss: 0.2513 - val_accuracy: 0.9143\n",
            "Epoch 12/20\n",
            "113/113 [==============================] - 14s 126ms/step - loss: 0.0370 - accuracy: 0.9872 - val_loss: 0.2386 - val_accuracy: 0.9199\n"
          ]
        }
      ]
    },
    {
      "cell_type": "code",
      "source": [
        "es = EarlyStopping(patience = 5)\n",
        "\n",
        "model9 = Sequential()\n",
        "\n",
        "model9.add(layers.Input(shape=(256,256,3)))\n",
        "model9.add(layers.Rescaling(1./255))\n",
        "\n",
        "# Convolutional and pooling layers\n",
        "model9.add(Conv2D(64, (3,3), activation='relu'))\n",
        "model9.add(MaxPooling2D(pool_size=(2,2)))\n",
        "\n",
        "model9.add(Flatten())\n",
        "\n",
        "# Dense Layers\n",
        "model9.add(Dense(64, activation='relu'))\n",
        "\n",
        "# Output\n",
        "model9.add(Dense(3, activation='softmax'))\n",
        "\n",
        "model9.compile(\n",
        "    optimizer=\"adam\",\n",
        "    loss=\"categorical_crossentropy\",\n",
        "    metrics=['accuracy']\n",
        ")\n",
        "\n",
        "h = model9.fit(train_ds,\n",
        "               validation_data=val_ds,\n",
        "               callbacks = [es],\n",
        "               epochs=20)"
      ],
      "metadata": {
        "colab": {
          "base_uri": "https://localhost:8080/"
        },
        "id": "B7HTw9sR7WKB",
        "outputId": "f2746e50-92cb-4e4b-c394-a4dc21e011d2"
      },
      "execution_count": 21,
      "outputs": [
        {
          "output_type": "stream",
          "name": "stdout",
          "text": [
            "Epoch 1/20\n",
            "113/113 [==============================] - 17s 136ms/step - loss: 3.6017 - accuracy: 0.6754 - val_loss: 0.4043 - val_accuracy: 0.8420\n",
            "Epoch 2/20\n",
            "113/113 [==============================] - 13s 115ms/step - loss: 0.2823 - accuracy: 0.8942 - val_loss: 0.2558 - val_accuracy: 0.8932\n",
            "Epoch 3/20\n",
            "113/113 [==============================] - 13s 113ms/step - loss: 0.1104 - accuracy: 0.9670 - val_loss: 0.2362 - val_accuracy: 0.8999\n",
            "Epoch 4/20\n",
            "113/113 [==============================] - 13s 113ms/step - loss: 0.0413 - accuracy: 0.9897 - val_loss: 0.2254 - val_accuracy: 0.9155\n",
            "Epoch 5/20\n",
            "113/113 [==============================] - 13s 115ms/step - loss: 0.0210 - accuracy: 0.9956 - val_loss: 0.3152 - val_accuracy: 0.8966\n",
            "Epoch 6/20\n",
            "113/113 [==============================] - 13s 115ms/step - loss: 0.0068 - accuracy: 0.9992 - val_loss: 0.2654 - val_accuracy: 0.9210\n",
            "Epoch 7/20\n",
            "113/113 [==============================] - 13s 114ms/step - loss: 0.0014 - accuracy: 1.0000 - val_loss: 0.2725 - val_accuracy: 0.9177\n",
            "Epoch 8/20\n",
            "113/113 [==============================] - 13s 112ms/step - loss: 7.2649e-04 - accuracy: 1.0000 - val_loss: 0.3033 - val_accuracy: 0.9188\n",
            "Epoch 9/20\n",
            "113/113 [==============================] - 13s 115ms/step - loss: 3.8801e-04 - accuracy: 1.0000 - val_loss: 0.3098 - val_accuracy: 0.9221\n"
          ]
        }
      ]
    },
    {
      "cell_type": "markdown",
      "source": [
        "Looks like our training accuracy is much more overfit with less validation accuracy. Currently model 8 seems to have the best performance it has the highest accuracy (96% on training and 92% on validation accuracy) and is less over fit than other models. Our second best model was model 2 with a train accuracy of 99% and a validation accuracy of 92%.\n",
        "\n",
        "Lets see how well they do with a confusion matrix, because of their similar accuacy scores it is most likely they are going to have similar misclassifiations.\n",
        "___________________________"
      ],
      "metadata": {
        "id": "ZaT2Gmq7yeGY"
      }
    },
    {
      "cell_type": "markdown",
      "source": [
        "## Confusion matrixs"
      ],
      "metadata": {
        "id": "D0ia5-eJ02JU"
      }
    },
    {
      "cell_type": "code",
      "source": [
        "y_true_classes, y_pred_classes = model_preds(model8)\n",
        "cm = confusion_matrix(y_true_classes, y_pred_classes)\n",
        "\n",
        "fig, ax = plt.subplots(figsize=(12, 5))\n",
        "\n",
        "sns.heatmap(cm, annot=True, fmt='d')\n",
        "\n",
        "ax.set_yticklabels(['Early Blight', 'Late Blight', 'Healthy'], rotation=0, va=\"center\")\n",
        "ax.set_xticklabels(['Early Blight', 'Late Blight', 'Healthy'], rotation=0, ha=\"center\")\n",
        "plt.title('model 8 matrix')\n",
        "plt.xlabel('Predicted')\n",
        "plt.ylabel('Truth')\n",
        "plt.savefig('Model_8_Matrix.png')\n",
        "plt.show()"
      ],
      "metadata": {
        "colab": {
          "base_uri": "https://localhost:8080/",
          "height": 504
        },
        "id": "WlyuQWSN2GJb",
        "outputId": "e1bdfb25-ae5d-4fb0-ee3b-a20d52fb80cf"
      },
      "execution_count": 28,
      "outputs": [
        {
          "output_type": "stream",
          "name": "stdout",
          "text": [
            "29/29 [==============================] - 4s 144ms/step\n"
          ]
        },
        {
          "output_type": "display_data",
          "data": {
            "text/plain": [
              "<Figure size 1200x500 with 2 Axes>"
            ],
            "image/png": "[encoded data removed]"
          },
          "metadata": {}
        }
      ]
    },
    {
      "cell_type": "code",
      "source": [
        "report = classification_report(y_true_classes, y_pred_classes, target_names=val_ds.class_indices.keys())\n",
        "print(report)"
      ],
      "metadata": {
        "colab": {
          "base_uri": "https://localhost:8080/"
        },
        "id": "Syt-58WG4DQK",
        "outputId": "40b75847-9f76-4ed4-a680-270f35f98074"
      },
      "execution_count": 23,
      "outputs": [
        {
          "output_type": "stream",
          "name": "stdout",
          "text": [
            "                     precision    recall  f1-score   support\n",
            "\n",
            "Tomato_Early_blight       0.88      0.77      0.82       200\n",
            " Tomato_Late_blight       0.88      0.94      0.91       381\n",
            "     Tomato_healthy       0.99      0.99      0.99       318\n",
            "\n",
            "           accuracy                           0.92       899\n",
            "          macro avg       0.92      0.90      0.91       899\n",
            "       weighted avg       0.92      0.92      0.92       899\n",
            "\n"
          ]
        }
      ]
    },
    {
      "cell_type": "code",
      "source": [
        "y_true_classes, y_pred_classes = model_preds(model2)\n",
        "cm = confusion_matrix(y_true_classes, y_pred_classes)\n",
        "\n",
        "fig, ax = plt.subplots(figsize=(12, 5))\n",
        "\n",
        "sns.heatmap(cm, annot=True, fmt='d')\n",
        "\n",
        "ax.set_yticklabels(['Early Blight', 'Late Blight', 'Healthy'], rotation=0, va=\"center\")\n",
        "ax.set_xticklabels(['Early Blight', 'Late Blight', 'Healthy'], rotation=0, ha=\"center\")\n",
        "plt.title('model 2 matrix')\n",
        "plt.xlabel('Predicted')\n",
        "plt.ylabel('Truth')\n",
        "plt.show()"
      ],
      "metadata": {
        "colab": {
          "base_uri": "https://localhost:8080/",
          "height": 504
        },
        "id": "1B6M9Mjx05QK",
        "outputId": "df32a057-b016-4396-c89b-90c5ce910b26"
      },
      "execution_count": 24,
      "outputs": [
        {
          "output_type": "stream",
          "name": "stdout",
          "text": [
            "29/29 [==============================] - 2s 76ms/step\n"
          ]
        },
        {
          "output_type": "display_data",
          "data": {
            "text/plain": [
              "<Figure size 1200x500 with 2 Axes>"
            ],
            "image/png": "[encoded data removed]"
          },
          "metadata": {}
        }
      ]
    },
    {
      "cell_type": "code",
      "source": [
        "report = classification_report(y_true_classes, y_pred_classes, target_names=val_ds.class_indices.keys())\n",
        "print(report)"
      ],
      "metadata": {
        "colab": {
          "base_uri": "https://localhost:8080/"
        },
        "id": "1G4s3W_H4HX0",
        "outputId": "c0eaffb0-6632-402f-eff7-5984b645c415"
      },
      "execution_count": 25,
      "outputs": [
        {
          "output_type": "stream",
          "name": "stdout",
          "text": [
            "                     precision    recall  f1-score   support\n",
            "\n",
            "Tomato_Early_blight       0.87      0.76      0.81       200\n",
            " Tomato_Late_blight       0.89      0.93      0.91       381\n",
            "     Tomato_healthy       0.97      0.99      0.98       318\n",
            "\n",
            "           accuracy                           0.91       899\n",
            "          macro avg       0.91      0.89      0.90       899\n",
            "       weighted avg       0.91      0.91      0.91       899\n",
            "\n"
          ]
        }
      ]
    },
    {
      "cell_type": "markdown",
      "source": [
        "As expected since, they have similar accuracy scores we see they have similar classification rates. Lets just check a third model, in this case lets look at our most over fit model, model 9. Which has a training accuracy of 100%, but a validation accuracy of 90%."
      ],
      "metadata": {
        "id": "afgVFwVI2WFi"
      }
    },
    {
      "cell_type": "code",
      "source": [
        "y_true_classes, y_pred_classes = model_preds(model9)\n",
        "cm = confusion_matrix(y_true_classes, y_pred_classes)\n",
        "\n",
        "fig, ax = plt.subplots(figsize=(12, 5))\n",
        "\n",
        "sns.heatmap(cm, annot=True, fmt='d')\n",
        "\n",
        "ax.set_yticklabels(['Early Blight', 'Late Blight', 'Healthy'], rotation=0, va=\"center\")\n",
        "ax.set_xticklabels(['Early Blight', 'Late Blight', 'Healthy'], rotation=0, ha=\"center\")\n",
        "plt.title('model 2 matrix')\n",
        "plt.xlabel('Predicted')\n",
        "plt.ylabel('Truth')\n",
        "plt.show()"
      ],
      "metadata": {
        "colab": {
          "base_uri": "https://localhost:8080/",
          "height": 504
        },
        "id": "kl4KTu4C23oK",
        "outputId": "009079cc-d364-421a-fba6-47421f475180"
      },
      "execution_count": 26,
      "outputs": [
        {
          "output_type": "stream",
          "name": "stdout",
          "text": [
            "29/29 [==============================] - 3s 88ms/step\n"
          ]
        },
        {
          "output_type": "display_data",
          "data": {
            "text/plain": [
              "<Figure size 1200x500 with 2 Axes>"
            ],
            "image/png": "[encoded data removed]"
          },
          "metadata": {}
        }
      ]
    },
    {
      "cell_type": "code",
      "source": [
        "report = classification_report(y_true_classes, y_pred_classes, target_names=val_ds.class_indices.keys())\n",
        "print(report)"
      ],
      "metadata": {
        "colab": {
          "base_uri": "https://localhost:8080/"
        },
        "id": "CLZRNs6J4PPL",
        "outputId": "4ca2ff9d-e00d-4a80-fddc-b033cf7ecc68"
      },
      "execution_count": 27,
      "outputs": [
        {
          "output_type": "stream",
          "name": "stdout",
          "text": [
            "                     precision    recall  f1-score   support\n",
            "\n",
            "Tomato_Early_blight       0.89      0.76      0.82       200\n",
            " Tomato_Late_blight       0.88      0.95      0.92       381\n",
            "     Tomato_healthy       0.99      0.99      0.99       318\n",
            "\n",
            "           accuracy                           0.92       899\n",
            "          macro avg       0.92      0.90      0.91       899\n",
            "       weighted avg       0.92      0.92      0.92       899\n",
            "\n"
          ]
        }
      ]
    },
    {
      "cell_type": "markdown",
      "source": [
        "# Conclusion\n",
        "\n",
        "Model 8 does pretty well on the accuracy score, but misclassifies a few blight plants as healthy which is something we dont want. Model 8 will beused due to being less overfit since the increase in validation accuracy is marginal. Because it has a low recall score on Early blight, that means we have a risk of missing the early stages of prevenative blight. Missclassifying a healthy plant as unhealthy is not as much of an issue since it would simply require a framer to check up on the plant.\n",
        "\n",
        "The next goal is to improve the recall score of Early blight so farmers can intervenue before the disease spreads and effects other crops."
      ],
      "metadata": {
        "id": "9XWtCRnrzLZy"
      }
    }
  ],
  "metadata": {
    "accelerator": "GPU",
    "colab": {
      "provenance": [],
      "gpuType": "T4"
    },
    "gpuClass": "standard",
    "kernelspec": {
      "display_name": "Python 3",
      "name": "python3"
    },
    "language_info": {
      "name": "python"
    }
  },
  "nbformat": 4,
  "nbformat_minor": 0
}