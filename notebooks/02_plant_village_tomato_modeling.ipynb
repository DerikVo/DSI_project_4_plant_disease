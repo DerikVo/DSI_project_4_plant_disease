{
  "cells": [
    {
      "cell_type": "code",
      "execution_count": 30,
      "metadata": {
        "id": "q0VQpQmo3V3q"
      },
      "outputs": [],
      "source": [
        "# imports\n",
        "import matplotlib.pyplot as plt\n",
        "import numpy as np\n",
        "import os\n",
        "import pandas as pd\n",
        "import seaborn as sns\n",
        "\n",
        "from tensorflow.keras.layers import Dense, Dropout, Flatten, Conv2D, MaxPooling2D\n",
        "from tensorflow.keras.regularizers import l2\n",
        "from tensorflow.keras.callbacks import EarlyStopping\n",
        "from tensorflow.keras.models import Sequential\n",
        "from tensorflow.keras.preprocessing.image import ImageDataGenerator\n",
        "from tensorflow.keras import layers\n",
        "\n",
        "from sklearn.model_selection import train_test_split\n",
        "from sklearn.metrics import confusion_matrix, classification_report"
      ]
    },
    {
      "cell_type": "markdown",
      "metadata": {
        "id": "4wiAqVWn3w2e"
      },
      "source": []
    },
    {
      "cell_type": "code",
      "source": [
        "from google.colab import drive\n",
        "drive.mount('/content/drive')"
      ],
      "metadata": {
        "colab": {
          "base_uri": "https://localhost:8080/"
        },
        "id": "pi1huuqLQvaL",
        "outputId": "6f43862d-a3dd-4ef9-dbe7-8f81d26f5d08"
      },
      "execution_count": 2,
      "outputs": [
        {
          "output_type": "stream",
          "name": "stdout",
          "text": [
            "Drive already mounted at /content/drive; to attempt to forcibly remount, call drive.mount(\"/content/drive\", force_remount=True).\n"
          ]
        }
      ]
    },
    {
      "cell_type": "code",
      "execution_count": 3,
      "metadata": {
        "id": "ByqYzKd-4ohi",
        "colab": {
          "base_uri": "https://localhost:8080/"
        },
        "outputId": "4e6b3b93-8f09-411c-8364-70bbc9de1fa7"
      },
      "outputs": [
        {
          "output_type": "stream",
          "name": "stdout",
          "text": [
            "replace Tomato/Tomato_Late_blight/03d8267a-c675-439f-9b98-a9c7653dd05e___GHLB2 Leaf 8558.JPG? [y]es, [n]o, [A]ll, [N]one, [r]ename: A\n",
            "y\n"
          ]
        }
      ],
      "source": [
        "!unzip -q /content/drive/MyDrive/datasets/Tomato.zip"
      ]
    },
    {
      "cell_type": "code",
      "execution_count": 4,
      "metadata": {
        "colab": {
          "base_uri": "https://localhost:8080/"
        },
        "id": "NFrXyUR-3eVK",
        "outputId": "ff644cd6-4754-46e6-f9c9-e1cc01dc4b71"
      },
      "outputs": [
        {
          "output_type": "stream",
          "name": "stdout",
          "text": [
            "Found 3601 images belonging to 3 classes.\n",
            "Found 899 images belonging to 3 classes.\n"
          ]
        }
      ],
      "source": [
        "# initialize the data generator\n",
        "datagen = ImageDataGenerator(validation_split=0.2)\n",
        "\n",
        "# get training data\n",
        "train_ds = datagen.flow_from_directory(\n",
        "    '/content/Tomato',\n",
        "    target_size=(256, 256),\n",
        "    batch_size=32,\n",
        "    class_mode='categorical',\n",
        "    subset='training',  # set as training data\n",
        "    seed=42\n",
        ")\n",
        "\n",
        "# get validation data\n",
        "val_ds = datagen.flow_from_directory(\n",
        "    '/content/Tomato',\n",
        "    target_size=(256, 256),\n",
        "    batch_size=32,\n",
        "    class_mode='categorical',\n",
        "    subset='validation',  # set as validation data\n",
        "    seed=42,\n",
        "    shuffle=False\n",
        ")"
      ]
    },
    {
      "cell_type": "code",
      "source": [
        "train_ds.class_indices"
      ],
      "metadata": {
        "colab": {
          "base_uri": "https://localhost:8080/"
        },
        "id": "QwSmOQIA_ARs",
        "outputId": "6937559d-a1e6-4e92-bd1c-7d7acb04c4dc"
      },
      "execution_count": 5,
      "outputs": [
        {
          "output_type": "execute_result",
          "data": {
            "text/plain": [
              "{'Tomato_Early_blight': 0, 'Tomato_Late_blight': 1, 'Tomato_healthy': 2}"
            ]
          },
          "metadata": {},
          "execution_count": 5
        }
      ]
    },
    {
      "cell_type": "code",
      "execution_count": 6,
      "metadata": {
        "id": "32wHG4bY30mT"
      },
      "outputs": [],
      "source": [
        "es = EarlyStopping(patience = 5)\n",
        "\n",
        "model1 = Sequential()\n",
        "\n",
        "model1.add(layers.Input(shape=(256,256,3)))\n",
        "model1.add(layers.Rescaling(1./255))\n",
        "\n",
        "# Convolutional and pooling layers\n",
        "model1.add(Conv2D(64, (3,3), activation='relu'))\n",
        "model1.add(MaxPooling2D(pool_size=(2,2)))\n",
        "\n",
        "model1.add(Conv2D(64, (3,3), activation='relu'))\n",
        "model1.add(MaxPooling2D(pool_size=(2,2)))\n",
        "\n",
        "model1.add(Flatten())\n",
        "\n",
        "# Dense Layers\n",
        "model1.add(Dense(64, activation='relu'))\n",
        "\n",
        "# Output\n",
        "model1.add(Dense(3, activation='softmax'))\n",
        "\n",
        "model1.compile(\n",
        "    optimizer=\"adam\",\n",
        "    loss=\"categorical_crossentropy\",\n",
        "    metrics=['accuracy']\n",
        ")"
      ]
    },
    {
      "cell_type": "code",
      "source": [
        "model1.input_shape"
      ],
      "metadata": {
        "colab": {
          "base_uri": "https://localhost:8080/"
        },
        "id": "MLCzvvruR__K",
        "outputId": "019ef354-d71f-4259-dd5a-e12d06bafa5c"
      },
      "execution_count": 7,
      "outputs": [
        {
          "output_type": "execute_result",
          "data": {
            "text/plain": [
              "(None, 256, 256, 3)"
            ]
          },
          "metadata": {},
          "execution_count": 7
        }
      ]
    },
    {
      "cell_type": "code",
      "source": [
        "model1.summary()"
      ],
      "metadata": {
        "colab": {
          "base_uri": "https://localhost:8080/"
        },
        "id": "4ZBd-PxxSBc_",
        "outputId": "bc6f1778-3b63-4e1f-c59b-43afebdda6c2"
      },
      "execution_count": 8,
      "outputs": [
        {
          "output_type": "stream",
          "name": "stdout",
          "text": [
            "Model: \"sequential\"\n",
            "_________________________________________________________________\n",
            " Layer (type)                Output Shape              Param #   \n",
            "=================================================================\n",
            " rescaling (Rescaling)       (None, 256, 256, 3)       0         \n",
            "                                                                 \n",
            " conv2d (Conv2D)             (None, 254, 254, 64)      1792      \n",
            "                                                                 \n",
            " max_pooling2d (MaxPooling2D  (None, 127, 127, 64)     0         \n",
            " )                                                               \n",
            "                                                                 \n",
            " conv2d_1 (Conv2D)           (None, 125, 125, 64)      36928     \n",
            "                                                                 \n",
            " max_pooling2d_1 (MaxPooling  (None, 62, 62, 64)       0         \n",
            " 2D)                                                             \n",
            "                                                                 \n",
            " flatten (Flatten)           (None, 246016)            0         \n",
            "                                                                 \n",
            " dense (Dense)               (None, 64)                15745088  \n",
            "                                                                 \n",
            " dense_1 (Dense)             (None, 3)                 195       \n",
            "                                                                 \n",
            "=================================================================\n",
            "Total params: 15,784,003\n",
            "Trainable params: 15,784,003\n",
            "Non-trainable params: 0\n",
            "_________________________________________________________________\n"
          ]
        }
      ]
    },
    {
      "cell_type": "code",
      "execution_count": 11,
      "metadata": {
        "colab": {
          "base_uri": "https://localhost:8080/"
        },
        "id": "1euSFn2q3-Pk",
        "outputId": "d095aaf6-2d48-47db-c484-a42c39a6304a"
      },
      "outputs": [
        {
          "output_type": "stream",
          "name": "stdout",
          "text": [
            "Epoch 1/20\n",
            "113/113 [==============================] - 14s 125ms/step - loss: 0.0787 - accuracy: 0.9761 - val_loss: 0.4509 - val_accuracy: 0.8977\n",
            "Epoch 2/20\n",
            "113/113 [==============================] - 14s 126ms/step - loss: 0.0428 - accuracy: 0.9839 - val_loss: 0.3950 - val_accuracy: 0.8899\n",
            "Epoch 3/20\n",
            "113/113 [==============================] - 14s 124ms/step - loss: 0.0101 - accuracy: 0.9978 - val_loss: 0.3930 - val_accuracy: 0.9077\n",
            "Epoch 4/20\n",
            "113/113 [==============================] - 14s 122ms/step - loss: 0.0061 - accuracy: 0.9986 - val_loss: 0.4539 - val_accuracy: 0.9055\n",
            "Epoch 5/20\n",
            "113/113 [==============================] - 14s 122ms/step - loss: 0.0035 - accuracy: 0.9994 - val_loss: 0.5047 - val_accuracy: 0.9088\n",
            "Epoch 6/20\n",
            "113/113 [==============================] - 14s 126ms/step - loss: 0.0138 - accuracy: 0.9956 - val_loss: 0.5719 - val_accuracy: 0.8932\n",
            "Epoch 7/20\n",
            "113/113 [==============================] - 14s 123ms/step - loss: 0.0212 - accuracy: 0.9933 - val_loss: 0.4973 - val_accuracy: 0.9099\n",
            "Epoch 8/20\n",
            "113/113 [==============================] - 14s 124ms/step - loss: 0.0091 - accuracy: 0.9981 - val_loss: 0.4591 - val_accuracy: 0.9244\n"
          ]
        }
      ],
      "source": [
        "h = model1.fit(train_ds,\n",
        "               validation_data=val_ds,\n",
        "               callbacks = [es],\n",
        "               epochs=20)"
      ]
    },
    {
      "cell_type": "markdown",
      "source": [
        "Prompted CHAT-GPT 4 to help grab the labels information from the validation dataset and get it into a numpy array, so that we can use that to make a confusion matrix."
      ],
      "metadata": {
        "id": "Bpyo6fADFqli"
      }
    },
    {
      "cell_type": "code",
      "source": [
        "y_true_classes = val_ds.labels\n",
        "\n",
        "y_pred_classes = model1.predict(val_ds)\n",
        "\n",
        "y_pred_classes = np.argmax(y_pred_classes, axis=1)"
      ],
      "metadata": {
        "colab": {
          "base_uri": "https://localhost:8080/"
        },
        "id": "-aZUs9PKZrOX",
        "outputId": "a657fccf-e9c7-43b1-e960-1b83ff2ea70d"
      },
      "execution_count": 12,
      "outputs": [
        {
          "output_type": "stream",
          "name": "stdout",
          "text": [
            "29/29 [==============================] - 3s 83ms/step\n"
          ]
        }
      ]
    },
    {
      "cell_type": "code",
      "source": [
        "cm = confusion_matrix(y_true_classes, y_pred_classes)\n",
        "\n",
        "fig, ax = plt.subplots(figsize=(12, 5))\n",
        "\n",
        "sns.heatmap(cm, annot=True, fmt='d')\n",
        "\n",
        "ax.set_yticklabels(['Early Blight', 'Late Blight', 'Healthy'], rotation=0, va=\"center\")\n",
        "ax.set_xticklabels(['Early Blight', 'Late Blight', 'Healthy'], rotation=0, ha=\"center\")\n",
        "\n",
        "plt.xlabel('Predicted')\n",
        "plt.ylabel('Truth')\n",
        "plt.show()"
      ],
      "metadata": {
        "id": "dD2PjeaA_DXU",
        "colab": {
          "base_uri": "https://localhost:8080/",
          "height": 465
        },
        "outputId": "b3c29ce3-9e4f-4736-9066-bdc9b26be5c3"
      },
      "execution_count": 13,
      "outputs": [
        {
          "output_type": "display_data",
          "data": {
            "text/plain": [
              "<Figure size 1200x500 with 2 Axes>"
            ],
            "image/png": "[encoded data removed]"
          },
          "metadata": {}
        }
      ]
    },
    {
      "cell_type": "code",
      "source": [
        "report = classification_report(y_true_classes, y_pred_classes, target_names=val_ds.class_indices.keys())\n",
        "print(report)"
      ],
      "metadata": {
        "id": "sj4OuYi0_DeI",
        "colab": {
          "base_uri": "https://localhost:8080/"
        },
        "outputId": "1a2c3464-0118-43a9-df67-ba521614fa10"
      },
      "execution_count": 14,
      "outputs": [
        {
          "output_type": "stream",
          "name": "stdout",
          "text": [
            "                     precision    recall  f1-score   support\n",
            "\n",
            "Tomato_Early_blight       0.87      0.80      0.83       200\n",
            " Tomato_Late_blight       0.89      0.94      0.92       381\n",
            "     Tomato_healthy       0.99      0.99      0.99       318\n",
            "\n",
            "           accuracy                           0.92       899\n",
            "          macro avg       0.92      0.91      0.91       899\n",
            "       weighted avg       0.92      0.92      0.92       899\n",
            "\n"
          ]
        }
      ]
    },
    {
      "cell_type": "code",
      "source": [
        "es = EarlyStopping(patience = 5)\n",
        "\n",
        "model2 = Sequential()\n",
        "\n",
        "model2.add(layers.Input(shape=(256,256,3)))\n",
        "model2.add(layers.Rescaling(1./255))\n",
        "\n",
        "# Convolutional and pooling layers\n",
        "model2.add(Conv2D(64, (3,3), activation='relu'))\n",
        "model2.add(MaxPooling2D(pool_size=(2,2)))\n",
        "\n",
        "model2.add(Conv2D(64, (3,3), activation='relu'))\n",
        "model2.add(MaxPooling2D(pool_size=(2,2)))\n",
        "\n",
        "model2.add(Flatten())\n",
        "\n",
        "# Dense Layers\n",
        "model2.add(Dense(32, activation='relu'))\n",
        "model2.add(Dense(32, activation='relu'))\n",
        "model2.add(Dense(32, activation='relu'))\n",
        "\n",
        "# Output\n",
        "model2.add(Dense(3, activation='softmax'))\n",
        "\n",
        "model2.compile(\n",
        "    optimizer=\"adam\",\n",
        "    loss=\"categorical_crossentropy\",\n",
        "    metrics=['accuracy']\n",
        ")\n",
        "h = model2.fit(train_ds,\n",
        "               validation_data=val_ds,\n",
        "               callbacks = [es],\n",
        "               epochs=20)"
      ],
      "metadata": {
        "id": "Y59cUr7w_BL9"
      },
      "execution_count": 21,
      "outputs": []
    },
    {
      "cell_type": "markdown",
      "source": [
        "Gets overfit so let's try some regularization."
      ],
      "metadata": {
        "id": "ltb9AQg7t8ld"
      }
    },
    {
      "cell_type": "code",
      "source": [
        "es = EarlyStopping(patience = 5)\n",
        "\n",
        "model3 = Sequential()\n",
        "\n",
        "model3.add(layers.Input(shape=(256,256,3)))\n",
        "model3.add(layers.Rescaling(1./255))\n",
        "\n",
        "# Convolutional and pooling layers\n",
        "model3.add(Conv2D(64, (3,3), activation='relu'))\n",
        "model3.add(MaxPooling2D(pool_size=(2,2)))\n",
        "\n",
        "model3.add(Conv2D(64, (3,3), activation='relu'))\n",
        "model3.add(MaxPooling2D(pool_size=(2,2)))\n",
        "\n",
        "model3.add(Flatten())\n",
        "\n",
        "# Dense Layers\n",
        "model3.add(Dense(32, activation='relu'))\n",
        "model3.add(Dense(32, activation='relu'))\n",
        "model3.add(Dense(32, activation='relu'))\n",
        "model3.add(Dropout(0.5))\n",
        "\n",
        "# Output\n",
        "model3.add(Dense(3, activation='softmax'))\n",
        "\n",
        "model3.compile(\n",
        "    optimizer=\"adam\",\n",
        "    loss=\"categorical_crossentropy\",\n",
        "    metrics=['accuracy']\n",
        ")\n",
        "h = model3.fit(train_ds,\n",
        "               validation_data=val_ds,\n",
        "               callbacks = [es],\n",
        "               epochs=20)"
      ],
      "metadata": {
        "id": "zgGwfLlprS1x"
      },
      "execution_count": 25,
      "outputs": []
    },
    {
      "cell_type": "markdown",
      "source": [
        "Still over fitting a lot, let's add another dropout layer."
      ],
      "metadata": {
        "id": "1M_HCrRSvi6a"
      }
    },
    {
      "cell_type": "code",
      "source": [
        "es = EarlyStopping(patience = 5)\n",
        "\n",
        "model4 = Sequential()\n",
        "\n",
        "model4.add(layers.Input(shape=(256,256,3)))\n",
        "model4.add(layers.Rescaling(1./255))\n",
        "\n",
        "# Convolutional and pooling layers\n",
        "model4.add(Conv2D(64, (3,3), activation='relu'))\n",
        "model4.add(MaxPooling2D(pool_size=(2,2)))\n",
        "\n",
        "model4.add(Conv2D(64, (3,3), activation='relu'))\n",
        "model4.add(MaxPooling2D(pool_size=(2,2)))\n",
        "\n",
        "model4.add(Flatten())\n",
        "\n",
        "# Dense Layers\n",
        "model4.add(Dense(32, activation='relu'))\n",
        "model4.add(Dense(32, activation='relu'))\n",
        "model4.add(Dropout(0.5))\n",
        "model4.add(Dense(32, activation='relu'))\n",
        "model4.add(Dropout(0.5))\n",
        "\n",
        "# Output\n",
        "model4.add(Dense(3, activation='softmax'))\n",
        "\n",
        "model4.compile(\n",
        "    optimizer=\"adam\",\n",
        "    loss=\"categorical_crossentropy\",\n",
        "    metrics=['accuracy']\n",
        ")\n",
        "h = model4.fit(train_ds,\n",
        "               validation_data=val_ds,\n",
        "               callbacks = [es],\n",
        "               epochs=20)"
      ],
      "metadata": {
        "id": "LiA4joACu2-l"
      },
      "execution_count": 27,
      "outputs": []
    },
    {
      "cell_type": "markdown",
      "source": [
        "Still over fitting by a lot. Before trying another dropout layer, let's add in a l2 regularization, and see what the results are."
      ],
      "metadata": {
        "id": "-SfuCKwtwcEA"
      }
    },
    {
      "cell_type": "code",
      "source": [
        "es = EarlyStopping(patience = 5)\n",
        "\n",
        "model5 = Sequential()\n",
        "\n",
        "model5.add(layers.Input(shape=(256,256,3)))\n",
        "model5.add(layers.Rescaling(1./255))\n",
        "\n",
        "# Convolutional and pooling layers\n",
        "model5.add(Conv2D(64, (3,3), activation='relu'))\n",
        "model5.add(MaxPooling2D(pool_size=(2,2)))\n",
        "\n",
        "model5.add(Conv2D(64, (3,3), activation='relu'))\n",
        "model5.add(MaxPooling2D(pool_size=(2,2)))\n",
        "\n",
        "model5.add(Flatten())\n",
        "\n",
        "# Dense Layers\n",
        "model5.add(Dense(32, activation='relu', kernel_regularizer=l2(0.005)))\n",
        "model5.add(Dense(32, activation='relu', kernel_regularizer=l2(0.005)))\n",
        "model5.add(Dropout(0.5))\n",
        "model5.add(Dense(32, activation='relu', kernel_regularizer=l2(0.005)))\n",
        "model5.add(Dropout(0.5))\n",
        "\n",
        "# Output\n",
        "model5.add(Dense(3, activation='softmax'))\n",
        "\n",
        "model5.compile(\n",
        "    optimizer=\"adam\",\n",
        "    loss=\"categorical_crossentropy\",\n",
        "    metrics=['accuracy']\n",
        ")\n",
        "\n",
        "h = model5.fit(train_ds,\n",
        "               validation_data=val_ds,\n",
        "               callbacks = [es],\n",
        "               epochs=20)"
      ],
      "metadata": {
        "colab": {
          "base_uri": "https://localhost:8080/"
        },
        "id": "Vz8Abaj6vy78",
        "outputId": "eb7ddc0e-74e8-4831-a84a-2e95d507b1d8"
      },
      "execution_count": 34,
      "outputs": [
        {
          "output_type": "stream",
          "name": "stdout",
          "text": [
            "Epoch 1/20\n",
            "113/113 [==============================] - 16s 121ms/step - loss: 1.4675 - accuracy: 0.4157 - val_loss: 1.1653 - val_accuracy: 0.4238\n",
            "Epoch 2/20\n",
            "113/113 [==============================] - 14s 120ms/step - loss: 1.0452 - accuracy: 0.5429 - val_loss: 0.7973 - val_accuracy: 0.7386\n",
            "Epoch 3/20\n",
            "113/113 [==============================] - 13s 119ms/step - loss: 0.8106 - accuracy: 0.6934 - val_loss: 0.6570 - val_accuracy: 0.7230\n",
            "Epoch 4/20\n",
            "113/113 [==============================] - 13s 118ms/step - loss: 0.7180 - accuracy: 0.7262 - val_loss: 0.5805 - val_accuracy: 0.7508\n",
            "Epoch 5/20\n",
            "113/113 [==============================] - 14s 119ms/step - loss: 0.6353 - accuracy: 0.7551 - val_loss: 0.5832 - val_accuracy: 0.7831\n",
            "Epoch 6/20\n",
            "113/113 [==============================] - 14s 126ms/step - loss: 0.6275 - accuracy: 0.7506 - val_loss: 0.5222 - val_accuracy: 0.7798\n",
            "Epoch 7/20\n",
            "113/113 [==============================] - 14s 122ms/step - loss: 0.5631 - accuracy: 0.7742 - val_loss: 0.4960 - val_accuracy: 0.8231\n",
            "Epoch 8/20\n",
            "113/113 [==============================] - 14s 124ms/step - loss: 0.5556 - accuracy: 0.7839 - val_loss: 0.5321 - val_accuracy: 0.7931\n",
            "Epoch 9/20\n",
            "113/113 [==============================] - 14s 127ms/step - loss: 0.5509 - accuracy: 0.7992 - val_loss: 0.5122 - val_accuracy: 0.8065\n",
            "Epoch 10/20\n",
            "113/113 [==============================] - 14s 123ms/step - loss: 0.5202 - accuracy: 0.8114 - val_loss: 0.5151 - val_accuracy: 0.8242\n",
            "Epoch 11/20\n",
            "113/113 [==============================] - 14s 121ms/step - loss: 0.5317 - accuracy: 0.8209 - val_loss: 0.4838 - val_accuracy: 0.8331\n",
            "Epoch 12/20\n",
            "113/113 [==============================] - 13s 119ms/step - loss: 0.4943 - accuracy: 0.8328 - val_loss: 0.4607 - val_accuracy: 0.8265\n",
            "Epoch 13/20\n",
            "113/113 [==============================] - 14s 120ms/step - loss: 0.4795 - accuracy: 0.8420 - val_loss: 0.4984 - val_accuracy: 0.8465\n",
            "Epoch 14/20\n",
            "113/113 [==============================] - 14s 121ms/step - loss: 0.4479 - accuracy: 0.8686 - val_loss: 0.3939 - val_accuracy: 0.8743\n",
            "Epoch 15/20\n",
            "113/113 [==============================] - 14s 119ms/step - loss: 0.4590 - accuracy: 0.8648 - val_loss: 0.5399 - val_accuracy: 0.8465\n",
            "Epoch 16/20\n",
            "113/113 [==============================] - 13s 116ms/step - loss: 0.4632 - accuracy: 0.8506 - val_loss: 0.4114 - val_accuracy: 0.8643\n",
            "Epoch 17/20\n",
            "113/113 [==============================] - 13s 116ms/step - loss: 0.4105 - accuracy: 0.8806 - val_loss: 0.4859 - val_accuracy: 0.8521\n",
            "Epoch 18/20\n",
            "113/113 [==============================] - 16s 141ms/step - loss: 0.4341 - accuracy: 0.8706 - val_loss: 0.3782 - val_accuracy: 0.8910\n",
            "Epoch 19/20\n",
            "113/113 [==============================] - 14s 119ms/step - loss: 0.3905 - accuracy: 0.8850 - val_loss: 0.3517 - val_accuracy: 0.8843\n",
            "Epoch 20/20\n",
            "113/113 [==============================] - 14s 120ms/step - loss: 0.4433 - accuracy: 0.8600 - val_loss: 0.3712 - val_accuracy: 0.8754\n"
          ]
        }
      ]
    },
    {
      "cell_type": "markdown",
      "source": [
        "The model just so happened to start with a really low score, so it was able to hit 20 epochs, but in attempts to reproduce, the model would stil overfit and early stop."
      ],
      "metadata": {
        "id": "XnSvi5Rp0KyA"
      }
    },
    {
      "cell_type": "code",
      "source": [
        "es = EarlyStopping(patience = 5)\n",
        "\n",
        "model6 = Sequential()\n",
        "\n",
        "model6.add(layers.Input(shape=(256,256,3)))\n",
        "model6.add(layers.Rescaling(1./255))\n",
        "\n",
        "# Convolutional and pooling layers\n",
        "model6.add(Conv2D(64, (3,3), activation='relu'))\n",
        "model6.add(MaxPooling2D(pool_size=(2,2)))\n",
        "\n",
        "model6.add(Conv2D(64, (3,3), activation='relu'))\n",
        "model6.add(MaxPooling2D(pool_size=(2,2)))\n",
        "\n",
        "model6.add(Flatten())\n",
        "\n",
        "# Dense Layers\n",
        "model6.add(Dense(16, activation='relu', kernel_regularizer=l2(0.005)))\n",
        "model6.add(Dense(32, activation='relu', kernel_regularizer=l2(0.005)))\n",
        "model6.add(Dropout(0.5))\n",
        "model6.add(Dense(32, activation='relu', kernel_regularizer=l2(0.005)))\n",
        "model6.add(Dropout(0.5))\n",
        "model6.add(Dense(32, activation='relu', kernel_regularizer=l2(0.005)))\n",
        "\n",
        "# Output\n",
        "model6.add(Dense(3, activation='softmax'))\n",
        "\n",
        "model6.compile(\n",
        "    optimizer=\"adam\",\n",
        "    loss=\"categorical_crossentropy\",\n",
        "    metrics=['accuracy']\n",
        ")\n",
        "\n",
        "h = model6.fit(train_ds,\n",
        "               validation_data=val_ds,\n",
        "               callbacks = [es],\n",
        "               epochs=20)"
      ],
      "metadata": {
        "colab": {
          "base_uri": "https://localhost:8080/"
        },
        "id": "cZ-5VtJiy_fF",
        "outputId": "0199a267-9317-4852-ec2d-ffb001b06107"
      },
      "execution_count": 41,
      "outputs": [
        {
          "output_type": "stream",
          "name": "stdout",
          "text": [
            "Epoch 1/20\n",
            "113/113 [==============================] - 18s 122ms/step - loss: 1.5680 - accuracy: 0.4116 - val_loss: 1.3482 - val_accuracy: 0.4238\n",
            "Epoch 2/20\n",
            "113/113 [==============================] - 14s 121ms/step - loss: 1.2810 - accuracy: 0.4218 - val_loss: 1.2442 - val_accuracy: 0.4238\n",
            "Epoch 3/20\n",
            "113/113 [==============================] - 13s 119ms/step - loss: 1.1934 - accuracy: 0.4427 - val_loss: 1.1081 - val_accuracy: 0.5918\n",
            "Epoch 4/20\n",
            "113/113 [==============================] - 13s 119ms/step - loss: 1.1300 - accuracy: 0.5007 - val_loss: 1.1531 - val_accuracy: 0.4416\n",
            "Epoch 5/20\n",
            "113/113 [==============================] - 13s 118ms/step - loss: 1.0043 - accuracy: 0.6071 - val_loss: 0.8215 - val_accuracy: 0.7219\n",
            "Epoch 6/20\n",
            "113/113 [==============================] - 14s 121ms/step - loss: 0.7989 - accuracy: 0.7184 - val_loss: 0.6961 - val_accuracy: 0.7553\n",
            "Epoch 7/20\n",
            "113/113 [==============================] - 13s 118ms/step - loss: 0.6983 - accuracy: 0.7304 - val_loss: 0.6445 - val_accuracy: 0.7430\n",
            "Epoch 8/20\n",
            "113/113 [==============================] - 13s 117ms/step - loss: 0.6548 - accuracy: 0.7445 - val_loss: 0.5801 - val_accuracy: 0.7631\n",
            "Epoch 9/20\n",
            "113/113 [==============================] - 13s 115ms/step - loss: 0.6094 - accuracy: 0.7576 - val_loss: 0.5813 - val_accuracy: 0.7564\n",
            "Epoch 10/20\n",
            "113/113 [==============================] - 16s 140ms/step - loss: 0.5924 - accuracy: 0.7598 - val_loss: 0.5962 - val_accuracy: 0.7497\n",
            "Epoch 11/20\n",
            "113/113 [==============================] - 14s 120ms/step - loss: 0.5920 - accuracy: 0.7520 - val_loss: 0.6700 - val_accuracy: 0.7442\n",
            "Epoch 12/20\n",
            "113/113 [==============================] - 14s 120ms/step - loss: 0.6393 - accuracy: 0.7456 - val_loss: 0.5614 - val_accuracy: 0.7664\n",
            "Epoch 13/20\n",
            "113/113 [==============================] - 14s 120ms/step - loss: 0.5535 - accuracy: 0.7665 - val_loss: 0.5309 - val_accuracy: 0.7675\n",
            "Epoch 14/20\n",
            "113/113 [==============================] - 14s 126ms/step - loss: 0.5577 - accuracy: 0.7634 - val_loss: 0.5368 - val_accuracy: 0.7697\n",
            "Epoch 15/20\n",
            "113/113 [==============================] - 14s 119ms/step - loss: 0.5427 - accuracy: 0.7637 - val_loss: 0.5463 - val_accuracy: 0.7664\n",
            "Epoch 16/20\n",
            "113/113 [==============================] - 14s 120ms/step - loss: 0.6175 - accuracy: 0.7478 - val_loss: 0.5479 - val_accuracy: 0.7686\n",
            "Epoch 17/20\n",
            "113/113 [==============================] - 13s 116ms/step - loss: 0.5383 - accuracy: 0.7653 - val_loss: 0.6313 - val_accuracy: 0.7542\n",
            "Epoch 18/20\n",
            "113/113 [==============================] - 13s 118ms/step - loss: 0.5335 - accuracy: 0.7687 - val_loss: 0.6060 - val_accuracy: 0.7575\n"
          ]
        }
      ]
    },
    {
      "cell_type": "markdown",
      "source": [
        "We've been tackling overfitting, but the accuracy on training is still worse than the validation of the original simple but overfit model. Adding more complexity hasn't really helped us that much. Let's start over, but now mess around with convolutions"
      ],
      "metadata": {
        "id": "cNDvE_A54ng7"
      }
    },
    {
      "cell_type": "code",
      "source": [
        "es = EarlyStopping(patience = 5)\n",
        "\n",
        "model7 = Sequential()\n",
        "\n",
        "model7.add(layers.Input(shape=(256,256,3)))\n",
        "model7.add(layers.Rescaling(1./255))\n",
        "\n",
        "# Convolutional and pooling layers\n",
        "model7.add(Conv2D(64, (4,4), activation='relu'))\n",
        "model7.add(MaxPooling2D(pool_size=(2,2)))\n",
        "\n",
        "model7.add(Conv2D(64, (4,4), activation='relu'))\n",
        "model7.add(MaxPooling2D(pool_size=(2,2)))\n",
        "\n",
        "model7.add(Flatten())\n",
        "\n",
        "# Dense Layers\n",
        "model7.add(Dense(64, activation='relu'))\n",
        "\n",
        "# Output\n",
        "model7.add(Dense(3, activation='softmax'))\n",
        "\n",
        "model7.compile(\n",
        "    optimizer=\"adam\",\n",
        "    loss=\"categorical_crossentropy\",\n",
        "    metrics=['accuracy']\n",
        ")\n",
        "\n",
        "h = model7.fit(train_ds,\n",
        "               validation_data=val_ds,\n",
        "               callbacks = [es],\n",
        "               epochs=20)"
      ],
      "metadata": {
        "colab": {
          "base_uri": "https://localhost:8080/"
        },
        "id": "1A0yds_Y0pTC",
        "outputId": "8b3953aa-f6d3-45c8-f7b2-85f0a828873f"
      },
      "execution_count": 42,
      "outputs": [
        {
          "output_type": "stream",
          "name": "stdout",
          "text": [
            "Epoch 1/20\n",
            "113/113 [==============================] - 19s 143ms/step - loss: 1.5376 - accuracy: 0.4832 - val_loss: 0.8559 - val_accuracy: 0.5984\n",
            "Epoch 2/20\n",
            "113/113 [==============================] - 14s 121ms/step - loss: 0.7906 - accuracy: 0.6706 - val_loss: 0.6999 - val_accuracy: 0.7508\n",
            "Epoch 3/20\n",
            "113/113 [==============================] - 14s 121ms/step - loss: 0.5911 - accuracy: 0.7726 - val_loss: 0.6320 - val_accuracy: 0.7497\n",
            "Epoch 4/20\n",
            "113/113 [==============================] - 15s 129ms/step - loss: 0.4180 - accuracy: 0.8525 - val_loss: 0.4212 - val_accuracy: 0.8465\n",
            "Epoch 5/20\n",
            "113/113 [==============================] - 14s 124ms/step - loss: 0.2583 - accuracy: 0.9150 - val_loss: 0.4281 - val_accuracy: 0.8454\n",
            "Epoch 6/20\n",
            "113/113 [==============================] - 14s 124ms/step - loss: 0.4218 - accuracy: 0.8289 - val_loss: 0.7127 - val_accuracy: 0.7675\n",
            "Epoch 7/20\n",
            "113/113 [==============================] - 14s 121ms/step - loss: 0.2650 - accuracy: 0.9056 - val_loss: 0.5926 - val_accuracy: 0.8198\n",
            "Epoch 8/20\n",
            "113/113 [==============================] - 14s 125ms/step - loss: 0.1136 - accuracy: 0.9639 - val_loss: 0.5938 - val_accuracy: 0.8287\n",
            "Epoch 9/20\n",
            "113/113 [==============================] - 14s 126ms/step - loss: 0.0729 - accuracy: 0.9797 - val_loss: 0.5934 - val_accuracy: 0.8454\n"
          ]
        }
      ]
    },
    {
      "cell_type": "markdown",
      "source": [
        "changing the convolution input matrix from 3 x 3 to 4 x 4 didn't have a great effect. Let's go back to 3 x 3 and instead see what happens if we add a conv layer and remove a conv layer."
      ],
      "metadata": {
        "id": "hyIVt4US6GT6"
      }
    },
    {
      "cell_type": "code",
      "source": [
        "es = EarlyStopping(patience = 5)\n",
        "\n",
        "model8 = Sequential()\n",
        "\n",
        "model8.add(layers.Input(shape=(256,256,3)))\n",
        "model8.add(layers.Rescaling(1./255))\n",
        "\n",
        "# Convolutional and pooling layers\n",
        "model8.add(Conv2D(64, (3,3), activation='relu'))\n",
        "model8.add(MaxPooling2D(pool_size=(2,2)))\n",
        "\n",
        "model8.add(Conv2D(64, (3,3), activation='relu'))\n",
        "model8.add(MaxPooling2D(pool_size=(2,2)))\n",
        "\n",
        "model8.add(Conv2D(64, (3,3), activation='relu'))\n",
        "model8.add(MaxPooling2D(pool_size=(2,2)))\n",
        "\n",
        "model8.add(Flatten())\n",
        "\n",
        "# Dense Layers\n",
        "model8.add(Dense(64, activation='relu'))\n",
        "\n",
        "# Output\n",
        "model8.add(Dense(3, activation='softmax'))\n",
        "\n",
        "model8.compile(\n",
        "    optimizer=\"adam\",\n",
        "    loss=\"categorical_crossentropy\",\n",
        "    metrics=['accuracy']\n",
        ")\n",
        "\n",
        "h = model8.fit(train_ds,\n",
        "               validation_data=val_ds,\n",
        "               callbacks = [es],\n",
        "               epochs=20)"
      ],
      "metadata": {
        "colab": {
          "base_uri": "https://localhost:8080/"
        },
        "id": "cPjURya55SSt",
        "outputId": "ec1a2d81-b534-4644-8d9f-4182db942fb2"
      },
      "execution_count": 43,
      "outputs": [
        {
          "output_type": "stream",
          "name": "stdout",
          "text": [
            "Epoch 1/20\n",
            "113/113 [==============================] - 16s 124ms/step - loss: 0.5849 - accuracy: 0.7323 - val_loss: 0.3044 - val_accuracy: 0.8498\n",
            "Epoch 2/20\n",
            "113/113 [==============================] - 15s 129ms/step - loss: 0.2741 - accuracy: 0.8850 - val_loss: 0.1904 - val_accuracy: 0.9166\n",
            "Epoch 3/20\n",
            "113/113 [==============================] - 14s 125ms/step - loss: 0.2422 - accuracy: 0.9061 - val_loss: 0.1996 - val_accuracy: 0.9121\n",
            "Epoch 4/20\n",
            "113/113 [==============================] - 13s 119ms/step - loss: 0.1971 - accuracy: 0.9214 - val_loss: 0.3181 - val_accuracy: 0.8776\n",
            "Epoch 5/20\n",
            "113/113 [==============================] - 14s 123ms/step - loss: 0.1635 - accuracy: 0.9345 - val_loss: 0.1822 - val_accuracy: 0.9255\n",
            "Epoch 6/20\n",
            "113/113 [==============================] - 15s 130ms/step - loss: 0.0996 - accuracy: 0.9617 - val_loss: 0.1458 - val_accuracy: 0.9477\n",
            "Epoch 7/20\n",
            "113/113 [==============================] - 14s 123ms/step - loss: 0.0864 - accuracy: 0.9686 - val_loss: 0.1425 - val_accuracy: 0.9488\n",
            "Epoch 8/20\n",
            "113/113 [==============================] - 14s 120ms/step - loss: 0.0455 - accuracy: 0.9861 - val_loss: 0.1676 - val_accuracy: 0.9511\n",
            "Epoch 9/20\n",
            "113/113 [==============================] - 15s 128ms/step - loss: 0.0316 - accuracy: 0.9897 - val_loss: 0.1935 - val_accuracy: 0.9399\n",
            "Epoch 10/20\n",
            "113/113 [==============================] - 14s 122ms/step - loss: 0.0601 - accuracy: 0.9797 - val_loss: 0.2371 - val_accuracy: 0.9333\n",
            "Epoch 11/20\n",
            "113/113 [==============================] - 14s 121ms/step - loss: 0.0182 - accuracy: 0.9933 - val_loss: 0.2062 - val_accuracy: 0.9499\n",
            "Epoch 12/20\n",
            "113/113 [==============================] - 14s 120ms/step - loss: 0.0209 - accuracy: 0.9931 - val_loss: 0.2591 - val_accuracy: 0.9355\n"
          ]
        }
      ]
    },
    {
      "cell_type": "code",
      "source": [
        "es = EarlyStopping(patience = 5)\n",
        "\n",
        "model9 = Sequential()\n",
        "\n",
        "model9.add(layers.Input(shape=(256,256,3)))\n",
        "model9.add(layers.Rescaling(1./255))\n",
        "\n",
        "# Convolutional and pooling layers\n",
        "model9.add(Conv2D(64, (3,3), activation='relu'))\n",
        "model9.add(MaxPooling2D(pool_size=(2,2)))\n",
        "\n",
        "model9.add(Flatten())\n",
        "\n",
        "# Dense Layers\n",
        "model9.add(Dense(64, activation='relu'))\n",
        "\n",
        "# Output\n",
        "model9.add(Dense(3, activation='softmax'))\n",
        "\n",
        "model9.compile(\n",
        "    optimizer=\"adam\",\n",
        "    loss=\"categorical_crossentropy\",\n",
        "    metrics=['accuracy']\n",
        ")\n",
        "\n",
        "h = model9.fit(train_ds,\n",
        "               validation_data=val_ds,\n",
        "               callbacks = [es],\n",
        "               epochs=20)"
      ],
      "metadata": {
        "colab": {
          "base_uri": "https://localhost:8080/"
        },
        "id": "B7HTw9sR7WKB",
        "outputId": "d66dd4ff-93eb-4382-9edb-49768919892d"
      },
      "execution_count": 44,
      "outputs": [
        {
          "output_type": "stream",
          "name": "stdout",
          "text": [
            "Epoch 1/20\n",
            "113/113 [==============================] - 14s 115ms/step - loss: 1.3916 - accuracy: 0.8137 - val_loss: 0.4978 - val_accuracy: 0.8098\n",
            "Epoch 2/20\n",
            "113/113 [==============================] - 13s 113ms/step - loss: 0.1594 - accuracy: 0.9428 - val_loss: 0.2270 - val_accuracy: 0.9088\n",
            "Epoch 3/20\n",
            "113/113 [==============================] - 13s 114ms/step - loss: 0.0475 - accuracy: 0.9883 - val_loss: 0.2839 - val_accuracy: 0.8910\n",
            "Epoch 4/20\n",
            "113/113 [==============================] - 14s 124ms/step - loss: 0.0217 - accuracy: 0.9964 - val_loss: 0.3466 - val_accuracy: 0.9032\n",
            "Epoch 5/20\n",
            "113/113 [==============================] - 13s 115ms/step - loss: 0.0088 - accuracy: 0.9981 - val_loss: 0.2739 - val_accuracy: 0.9066\n",
            "Epoch 6/20\n",
            "113/113 [==============================] - 13s 116ms/step - loss: 0.0033 - accuracy: 1.0000 - val_loss: 0.3132 - val_accuracy: 0.9177\n",
            "Epoch 7/20\n",
            "113/113 [==============================] - 13s 118ms/step - loss: 0.0011 - accuracy: 1.0000 - val_loss: 0.3442 - val_accuracy: 0.9077\n"
          ]
        }
      ]
    },
    {
      "cell_type": "code",
      "source": [],
      "metadata": {
        "id": "klOa_zFv7g2t"
      },
      "execution_count": null,
      "outputs": []
    }
  ],
  "metadata": {
    "accelerator": "GPU",
    "colab": {
      "provenance": [],
      "gpuType": "T4"
    },
    "gpuClass": "standard",
    "kernelspec": {
      "display_name": "Python 3",
      "name": "python3"
    },
    "language_info": {
      "name": "python"
    }
  },
  "nbformat": 4,
  "nbformat_minor": 0
}