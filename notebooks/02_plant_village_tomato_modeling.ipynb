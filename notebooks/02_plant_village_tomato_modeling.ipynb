{
  "cells": [
    {
      "cell_type": "code",
      "execution_count": 1,
      "metadata": {
        "id": "q0VQpQmo3V3q"
      },
      "outputs": [],
      "source": [
        "# imports\n",
        "import matplotlib.pyplot as plt\n",
        "import numpy as np\n",
        "import os\n",
        "import pandas as pd\n",
        "import seaborn as sns\n",
        "\n",
        "from tensorflow.keras.layers import Dense, Dropout, Flatten, Conv2D, MaxPooling2D\n",
        "from tensorflow.keras.regularizers import l2\n",
        "from tensorflow.keras.callbacks import EarlyStopping\n",
        "from tensorflow.keras.models import Sequential\n",
        "from tensorflow.keras.preprocessing.image import ImageDataGenerator\n",
        "from tensorflow.keras import layers\n",
        "\n",
        "from sklearn.model_selection import train_test_split\n",
        "from sklearn.metrics import confusion_matrix, classification_report"
      ]
    },
    {
      "cell_type": "markdown",
      "metadata": {
        "id": "4wiAqVWn3w2e"
      },
      "source": []
    },
    {
      "cell_type": "code",
      "source": [
        "from google.colab import drive\n",
        "drive.mount('/content/drive')"
      ],
      "metadata": {
        "colab": {
          "base_uri": "https://localhost:8080/"
        },
        "id": "pi1huuqLQvaL",
        "outputId": "ededafa2-38d2-471c-9263-fdf704544b6e"
      },
      "execution_count": 2,
      "outputs": [
        {
          "output_type": "stream",
          "name": "stdout",
          "text": [
            "Mounted at /content/drive\n"
          ]
        }
      ]
    },
    {
      "cell_type": "code",
      "execution_count": 3,
      "metadata": {
        "id": "ByqYzKd-4ohi"
      },
      "outputs": [],
      "source": [
        "!unzip -q /content/drive/MyDrive/datasets/Tomato.zip"
      ]
    },
    {
      "cell_type": "code",
      "execution_count": 4,
      "metadata": {
        "colab": {
          "base_uri": "https://localhost:8080/"
        },
        "id": "NFrXyUR-3eVK",
        "outputId": "b27b70a7-a0d2-4741-f703-0075299dc58c"
      },
      "outputs": [
        {
          "output_type": "stream",
          "name": "stdout",
          "text": [
            "Found 3601 images belonging to 3 classes.\n",
            "Found 899 images belonging to 3 classes.\n"
          ]
        }
      ],
      "source": [
        "# initialize the data generator\n",
        "datagen = ImageDataGenerator(validation_split=0.2)\n",
        "\n",
        "# get training data\n",
        "train_ds = datagen.flow_from_directory(\n",
        "    '/content/Tomato',\n",
        "    target_size=(256, 256),\n",
        "    batch_size=32,\n",
        "    class_mode='categorical',\n",
        "    subset='training',  # set as training data\n",
        "    seed=42\n",
        ")\n",
        "\n",
        "# get validation data\n",
        "val_ds = datagen.flow_from_directory(\n",
        "    '/content/Tomato',\n",
        "    target_size=(256, 256),\n",
        "    batch_size=32,\n",
        "    class_mode='categorical',\n",
        "    subset='validation',  # set as validation data\n",
        "    seed=42,\n",
        "    shuffle=False\n",
        ")"
      ]
    },
    {
      "cell_type": "code",
      "source": [
        "train_ds.class_indices"
      ],
      "metadata": {
        "colab": {
          "base_uri": "https://localhost:8080/"
        },
        "id": "QwSmOQIA_ARs",
        "outputId": "55563fe4-a502-4ad2-c826-d8fc8fceaea9"
      },
      "execution_count": 5,
      "outputs": [
        {
          "output_type": "execute_result",
          "data": {
            "text/plain": [
              "{'Tomato_Early_blight': 0, 'Tomato_Late_blight': 1, 'Tomato_healthy': 2}"
            ]
          },
          "metadata": {},
          "execution_count": 5
        }
      ]
    },
    {
      "cell_type": "code",
      "execution_count": 6,
      "metadata": {
        "id": "32wHG4bY30mT"
      },
      "outputs": [],
      "source": [
        "es = EarlyStopping(patience = 5)\n",
        "\n",
        "model1 = Sequential()\n",
        "\n",
        "model1.add(layers.Input(shape=(256,256,3)))\n",
        "model1.add(layers.Rescaling(1./255))\n",
        "\n",
        "# Convolutional and pooling layers\n",
        "model1.add(Conv2D(64, (3,3), activation='relu'))\n",
        "model1.add(MaxPooling2D(pool_size=(2,2)))\n",
        "\n",
        "model1.add(Conv2D(64, (3,3), activation='relu'))\n",
        "model1.add(MaxPooling2D(pool_size=(2,2)))\n",
        "\n",
        "model1.add(Flatten())\n",
        "\n",
        "# Dense Layers\n",
        "model1.add(Dense(64, activation='relu'))\n",
        "\n",
        "# Output\n",
        "model1.add(Dense(3, activation='softmax'))\n",
        "\n",
        "model1.compile(\n",
        "    optimizer=\"adam\",\n",
        "    loss=\"categorical_crossentropy\",\n",
        "    metrics=['accuracy']\n",
        ")"
      ]
    },
    {
      "cell_type": "code",
      "source": [
        "model1.input_shape"
      ],
      "metadata": {
        "colab": {
          "base_uri": "https://localhost:8080/"
        },
        "id": "MLCzvvruR__K",
        "outputId": "a04c2278-e294-405f-a8df-5e13d558f167"
      },
      "execution_count": 7,
      "outputs": [
        {
          "output_type": "execute_result",
          "data": {
            "text/plain": [
              "(None, 256, 256, 3)"
            ]
          },
          "metadata": {},
          "execution_count": 7
        }
      ]
    },
    {
      "cell_type": "code",
      "source": [
        "model1.summary()"
      ],
      "metadata": {
        "colab": {
          "base_uri": "https://localhost:8080/"
        },
        "id": "4ZBd-PxxSBc_",
        "outputId": "9bb973b5-2c8f-4fac-d38c-93bbf4cc6da8"
      },
      "execution_count": 8,
      "outputs": [
        {
          "output_type": "stream",
          "name": "stdout",
          "text": [
            "Model: \"sequential\"\n",
            "_________________________________________________________________\n",
            " Layer (type)                Output Shape              Param #   \n",
            "=================================================================\n",
            " rescaling (Rescaling)       (None, 256, 256, 3)       0         \n",
            "                                                                 \n",
            " conv2d (Conv2D)             (None, 254, 254, 64)      1792      \n",
            "                                                                 \n",
            " max_pooling2d (MaxPooling2D  (None, 127, 127, 64)     0         \n",
            " )                                                               \n",
            "                                                                 \n",
            " conv2d_1 (Conv2D)           (None, 125, 125, 64)      36928     \n",
            "                                                                 \n",
            " max_pooling2d_1 (MaxPooling  (None, 62, 62, 64)       0         \n",
            " 2D)                                                             \n",
            "                                                                 \n",
            " flatten (Flatten)           (None, 246016)            0         \n",
            "                                                                 \n",
            " dense (Dense)               (None, 64)                15745088  \n",
            "                                                                 \n",
            " dense_1 (Dense)             (None, 3)                 195       \n",
            "                                                                 \n",
            "=================================================================\n",
            "Total params: 15,784,003\n",
            "Trainable params: 15,784,003\n",
            "Non-trainable params: 0\n",
            "_________________________________________________________________\n"
          ]
        }
      ]
    },
    {
      "cell_type": "code",
      "execution_count": 9,
      "metadata": {
        "colab": {
          "base_uri": "https://localhost:8080/"
        },
        "id": "1euSFn2q3-Pk",
        "outputId": "d0bf7d25-b07c-45ae-fe6e-1a8e65cd06f5"
      },
      "outputs": [
        {
          "output_type": "stream",
          "name": "stdout",
          "text": [
            "Epoch 1/20\n",
            "113/113 [==============================] - 32s 163ms/step - loss: 0.7766 - accuracy: 0.6965 - val_loss: 0.3567 - val_accuracy: 0.8532\n",
            "Epoch 2/20\n",
            "113/113 [==============================] - 14s 123ms/step - loss: 0.3429 - accuracy: 0.8584 - val_loss: 0.2173 - val_accuracy: 0.9143\n",
            "Epoch 3/20\n",
            "113/113 [==============================] - 15s 131ms/step - loss: 0.1964 - accuracy: 0.9275 - val_loss: 0.2307 - val_accuracy: 0.9143\n",
            "Epoch 4/20\n",
            "113/113 [==============================] - 16s 136ms/step - loss: 0.1335 - accuracy: 0.9525 - val_loss: 0.2243 - val_accuracy: 0.9088\n",
            "Epoch 5/20\n",
            "113/113 [==============================] - 14s 122ms/step - loss: 0.0769 - accuracy: 0.9708 - val_loss: 0.1994 - val_accuracy: 0.9288\n",
            "Epoch 6/20\n",
            "113/113 [==============================] - 14s 126ms/step - loss: 0.0424 - accuracy: 0.9864 - val_loss: 0.2419 - val_accuracy: 0.9177\n",
            "Epoch 7/20\n",
            "113/113 [==============================] - 14s 122ms/step - loss: 0.0416 - accuracy: 0.9875 - val_loss: 0.2584 - val_accuracy: 0.9043\n",
            "Epoch 8/20\n",
            "113/113 [==============================] - 14s 121ms/step - loss: 0.0525 - accuracy: 0.9828 - val_loss: 0.3521 - val_accuracy: 0.9043\n",
            "Epoch 9/20\n",
            "113/113 [==============================] - 14s 126ms/step - loss: 0.0528 - accuracy: 0.9803 - val_loss: 0.6903 - val_accuracy: 0.7553\n",
            "Epoch 10/20\n",
            "113/113 [==============================] - 14s 127ms/step - loss: 0.1117 - accuracy: 0.9603 - val_loss: 0.3255 - val_accuracy: 0.9077\n"
          ]
        }
      ],
      "source": [
        "h = model1.fit(train_ds,\n",
        "               validation_data=val_ds,\n",
        "               callbacks = [es],\n",
        "               epochs=20)"
      ]
    },
    {
      "cell_type": "markdown",
      "source": [
        "Prompted CHAT-GPT 4 to help grab the labels information from the validation dataset and get it into a numpy array, so that we can use that to make a confusion matrix."
      ],
      "metadata": {
        "id": "Bpyo6fADFqli"
      }
    },
    {
      "cell_type": "code",
      "source": [
        "def model_preds(model):\n",
        "  '''\n",
        "  This function will return the y_true_classes and y_pred_clasess\n",
        "  Which will allows us to build a confusion matrix\n",
        "  '''\n",
        "  \n",
        "  y_true_classes = val_ds.labels\n",
        "\n",
        "  y_pred_classes = model.predict(val_ds)\n",
        "\n",
        "  y_pred_classes = np.argmax(y_pred_classes, axis=1)\n",
        "\n",
        "  return (y_true_classes, y_pred_classes)"
      ],
      "metadata": {
        "id": "-aZUs9PKZrOX"
      },
      "execution_count": 32,
      "outputs": []
    },
    {
      "cell_type": "code",
      "source": [
        "y_true_classes, y_pred_classes = model_preds(model1)\n",
        "cm = confusion_matrix(y_true_classes, y_pred_classes)\n",
        "\n",
        "fig, ax = plt.subplots(figsize=(12, 5))\n",
        "\n",
        "sns.heatmap(cm, annot=True, fmt='d')\n",
        "\n",
        "ax.set_yticklabels(['Early Blight', 'Late Blight', 'Healthy'], rotation=0, va=\"center\")\n",
        "ax.set_xticklabels(['Early Blight', 'Late Blight', 'Healthy'], rotation=0, ha=\"center\")\n",
        "\n",
        "plt.xlabel('Predicted')\n",
        "plt.ylabel('Truth')\n",
        "plt.show()"
      ],
      "metadata": {
        "id": "dD2PjeaA_DXU",
        "colab": {
          "base_uri": "https://localhost:8080/",
          "height": 483
        },
        "outputId": "4ce97ab1-caf1-403d-f970-b2e88f51e387"
      },
      "execution_count": 34,
      "outputs": [
        {
          "output_type": "stream",
          "name": "stdout",
          "text": [
            "29/29 [==============================] - 6s 193ms/step\n"
          ]
        },
        {
          "output_type": "display_data",
          "data": {
            "text/plain": [
              "<Figure size 1200x500 with 2 Axes>"
            ],
            "image/png": "[encoded data removed]"
          },
          "metadata": {}
        }
      ]
    },
    {
      "cell_type": "code",
      "source": [
        "report = classification_report(y_true_classes, y_pred_classes, target_names=val_ds.class_indices.keys())\n",
        "print(report)"
      ],
      "metadata": {
        "id": "sj4OuYi0_DeI",
        "colab": {
          "base_uri": "https://localhost:8080/"
        },
        "outputId": "d18eddad-7334-4706-cf6d-266fc355a4d5"
      },
      "execution_count": 12,
      "outputs": [
        {
          "output_type": "stream",
          "name": "stdout",
          "text": [
            "                     precision    recall  f1-score   support\n",
            "\n",
            "Tomato_Early_blight       0.83      0.76      0.79       200\n",
            " Tomato_Late_blight       0.88      0.91      0.90       381\n",
            "     Tomato_healthy       0.98      1.00      0.99       318\n",
            "\n",
            "           accuracy                           0.91       899\n",
            "          macro avg       0.90      0.89      0.89       899\n",
            "       weighted avg       0.91      0.91      0.91       899\n",
            "\n"
          ]
        }
      ]
    },
    {
      "cell_type": "code",
      "source": [
        "es = EarlyStopping(patience = 5)\n",
        "\n",
        "model2 = Sequential()\n",
        "\n",
        "model2.add(layers.Input(shape=(256,256,3)))\n",
        "model2.add(layers.Rescaling(1./255))\n",
        "\n",
        "# Convolutional and pooling layers\n",
        "model2.add(Conv2D(64, (3,3), activation='relu'))\n",
        "model2.add(MaxPooling2D(pool_size=(2,2)))\n",
        "\n",
        "model2.add(Conv2D(64, (3,3), activation='relu'))\n",
        "model2.add(MaxPooling2D(pool_size=(2,2)))\n",
        "\n",
        "model2.add(Flatten())\n",
        "\n",
        "# Dense Layers\n",
        "model2.add(Dense(32, activation='relu'))\n",
        "model2.add(Dense(32, activation='relu'))\n",
        "model2.add(Dense(32, activation='relu'))\n",
        "\n",
        "# Output\n",
        "model2.add(Dense(3, activation='softmax'))\n",
        "\n",
        "model2.compile(\n",
        "    optimizer=\"adam\",\n",
        "    loss=\"categorical_crossentropy\",\n",
        "    metrics=['accuracy']\n",
        ")\n",
        "h = model2.fit(train_ds,\n",
        "               validation_data=val_ds,\n",
        "               callbacks = [es],\n",
        "               epochs=20)"
      ],
      "metadata": {
        "id": "Y59cUr7w_BL9",
        "colab": {
          "base_uri": "https://localhost:8080/"
        },
        "outputId": "aa2f3ef1-a106-4c71-e3d0-3200d8d3196e"
      },
      "execution_count": 13,
      "outputs": [
        {
          "output_type": "stream",
          "name": "stdout",
          "text": [
            "Epoch 1/20\n",
            "113/113 [==============================] - 17s 131ms/step - loss: 0.8650 - accuracy: 0.5771 - val_loss: 0.4294 - val_accuracy: 0.7909\n",
            "Epoch 2/20\n",
            "113/113 [==============================] - 14s 123ms/step - loss: 0.3898 - accuracy: 0.8353 - val_loss: 0.4119 - val_accuracy: 0.8087\n",
            "Epoch 3/20\n",
            "113/113 [==============================] - 16s 137ms/step - loss: 0.2804 - accuracy: 0.8784 - val_loss: 0.3069 - val_accuracy: 0.8610\n",
            "Epoch 4/20\n",
            "113/113 [==============================] - 14s 122ms/step - loss: 0.2893 - accuracy: 0.8803 - val_loss: 0.2267 - val_accuracy: 0.9121\n",
            "Epoch 5/20\n",
            "113/113 [==============================] - 14s 124ms/step - loss: 0.1360 - accuracy: 0.9514 - val_loss: 0.1896 - val_accuracy: 0.9188\n",
            "Epoch 6/20\n",
            "113/113 [==============================] - 15s 132ms/step - loss: 0.0752 - accuracy: 0.9739 - val_loss: 0.2853 - val_accuracy: 0.9043\n",
            "Epoch 7/20\n",
            "113/113 [==============================] - 14s 120ms/step - loss: 0.0546 - accuracy: 0.9833 - val_loss: 0.3513 - val_accuracy: 0.8966\n",
            "Epoch 8/20\n",
            "113/113 [==============================] - 14s 123ms/step - loss: 0.0361 - accuracy: 0.9900 - val_loss: 0.2003 - val_accuracy: 0.9244\n",
            "Epoch 9/20\n",
            "113/113 [==============================] - 15s 130ms/step - loss: 0.0120 - accuracy: 0.9978 - val_loss: 0.3076 - val_accuracy: 0.9155\n",
            "Epoch 10/20\n",
            "113/113 [==============================] - 15s 131ms/step - loss: 0.0155 - accuracy: 0.9961 - val_loss: 0.2730 - val_accuracy: 0.9244\n"
          ]
        }
      ]
    },
    {
      "cell_type": "markdown",
      "source": [
        "Gets overfit so let's try some regularization."
      ],
      "metadata": {
        "id": "ltb9AQg7t8ld"
      }
    },
    {
      "cell_type": "code",
      "source": [
        "es = EarlyStopping(patience = 5)\n",
        "\n",
        "model3 = Sequential()\n",
        "\n",
        "model3.add(layers.Input(shape=(256,256,3)))\n",
        "model3.add(layers.Rescaling(1./255))\n",
        "\n",
        "# Convolutional and pooling layers\n",
        "model3.add(Conv2D(64, (3,3), activation='relu'))\n",
        "model3.add(MaxPooling2D(pool_size=(2,2)))\n",
        "\n",
        "model3.add(Conv2D(64, (3,3), activation='relu'))\n",
        "model3.add(MaxPooling2D(pool_size=(2,2)))\n",
        "\n",
        "model3.add(Flatten())\n",
        "\n",
        "# Dense Layers\n",
        "model3.add(Dense(32, activation='relu'))\n",
        "model3.add(Dense(32, activation='relu'))\n",
        "model3.add(Dense(32, activation='relu'))\n",
        "model3.add(Dropout(0.5))\n",
        "\n",
        "# Output\n",
        "model3.add(Dense(3, activation='softmax'))\n",
        "\n",
        "model3.compile(\n",
        "    optimizer=\"adam\",\n",
        "    loss=\"categorical_crossentropy\",\n",
        "    metrics=['accuracy']\n",
        ")\n",
        "h = model3.fit(train_ds,\n",
        "               validation_data=val_ds,\n",
        "               callbacks = [es],\n",
        "               epochs=20)"
      ],
      "metadata": {
        "id": "zgGwfLlprS1x",
        "colab": {
          "base_uri": "https://localhost:8080/"
        },
        "outputId": "85a0c6d1-c008-4be4-8f6d-0adaf50b6883"
      },
      "execution_count": 14,
      "outputs": [
        {
          "output_type": "stream",
          "name": "stdout",
          "text": [
            "Epoch 1/20\n",
            "113/113 [==============================] - 17s 129ms/step - loss: 1.1153 - accuracy: 0.4271 - val_loss: 0.9227 - val_accuracy: 0.5417\n",
            "Epoch 2/20\n",
            "113/113 [==============================] - 14s 128ms/step - loss: 0.7230 - accuracy: 0.6815 - val_loss: 0.3150 - val_accuracy: 0.8754\n",
            "Epoch 3/20\n",
            "113/113 [==============================] - 14s 121ms/step - loss: 0.4428 - accuracy: 0.8184 - val_loss: 0.3064 - val_accuracy: 0.8721\n",
            "Epoch 4/20\n",
            "113/113 [==============================] - 14s 124ms/step - loss: 0.3509 - accuracy: 0.8603 - val_loss: 0.2421 - val_accuracy: 0.8865\n",
            "Epoch 5/20\n",
            "113/113 [==============================] - 14s 121ms/step - loss: 0.2582 - accuracy: 0.8945 - val_loss: 0.2391 - val_accuracy: 0.8999\n",
            "Epoch 6/20\n",
            "113/113 [==============================] - 14s 127ms/step - loss: 0.2020 - accuracy: 0.9236 - val_loss: 0.2402 - val_accuracy: 0.9132\n",
            "Epoch 7/20\n",
            "113/113 [==============================] - 14s 122ms/step - loss: 0.2291 - accuracy: 0.9178 - val_loss: 0.2460 - val_accuracy: 0.8921\n",
            "Epoch 8/20\n",
            "113/113 [==============================] - 14s 124ms/step - loss: 0.1357 - accuracy: 0.9567 - val_loss: 0.2670 - val_accuracy: 0.9188\n",
            "Epoch 9/20\n",
            "113/113 [==============================] - 14s 125ms/step - loss: 0.1390 - accuracy: 0.9528 - val_loss: 0.2490 - val_accuracy: 0.9066\n",
            "Epoch 10/20\n",
            "113/113 [==============================] - 14s 120ms/step - loss: 0.0991 - accuracy: 0.9697 - val_loss: 0.3535 - val_accuracy: 0.8999\n"
          ]
        }
      ]
    },
    {
      "cell_type": "markdown",
      "source": [
        "Still over fitting a lot, let's add another dropout layer."
      ],
      "metadata": {
        "id": "1M_HCrRSvi6a"
      }
    },
    {
      "cell_type": "code",
      "source": [
        "es = EarlyStopping(patience = 5)\n",
        "\n",
        "model4 = Sequential()\n",
        "\n",
        "model4.add(layers.Input(shape=(256,256,3)))\n",
        "model4.add(layers.Rescaling(1./255))\n",
        "\n",
        "# Convolutional and pooling layers\n",
        "model4.add(Conv2D(64, (3,3), activation='relu'))\n",
        "model4.add(MaxPooling2D(pool_size=(2,2)))\n",
        "\n",
        "model4.add(Conv2D(64, (3,3), activation='relu'))\n",
        "model4.add(MaxPooling2D(pool_size=(2,2)))\n",
        "\n",
        "model4.add(Flatten())\n",
        "\n",
        "# Dense Layers\n",
        "model4.add(Dense(32, activation='relu'))\n",
        "model4.add(Dense(32, activation='relu'))\n",
        "model4.add(Dropout(0.5))\n",
        "model4.add(Dense(32, activation='relu'))\n",
        "model4.add(Dropout(0.5))\n",
        "\n",
        "# Output\n",
        "model4.add(Dense(3, activation='softmax'))\n",
        "\n",
        "model4.compile(\n",
        "    optimizer=\"adam\",\n",
        "    loss=\"categorical_crossentropy\",\n",
        "    metrics=['accuracy']\n",
        ")\n",
        "h = model4.fit(train_ds,\n",
        "               validation_data=val_ds,\n",
        "               callbacks = [es],\n",
        "               epochs=20)"
      ],
      "metadata": {
        "id": "LiA4joACu2-l",
        "colab": {
          "base_uri": "https://localhost:8080/"
        },
        "outputId": "7d125414-f58f-4dab-a4f1-31723d4dac81"
      },
      "execution_count": 15,
      "outputs": [
        {
          "output_type": "stream",
          "name": "stdout",
          "text": [
            "Epoch 1/20\n",
            "113/113 [==============================] - 17s 131ms/step - loss: 1.0357 - accuracy: 0.4899 - val_loss: 0.7730 - val_accuracy: 0.6496\n",
            "Epoch 2/20\n",
            "113/113 [==============================] - 14s 122ms/step - loss: 0.6895 - accuracy: 0.6906 - val_loss: 0.6842 - val_accuracy: 0.6852\n",
            "Epoch 3/20\n",
            "113/113 [==============================] - 14s 122ms/step - loss: 0.5500 - accuracy: 0.7984 - val_loss: 0.4635 - val_accuracy: 0.8109\n",
            "Epoch 4/20\n",
            "113/113 [==============================] - 14s 120ms/step - loss: 0.4523 - accuracy: 0.8445 - val_loss: 0.3478 - val_accuracy: 0.8765\n",
            "Epoch 5/20\n",
            "113/113 [==============================] - 14s 120ms/step - loss: 0.3601 - accuracy: 0.8881 - val_loss: 0.3403 - val_accuracy: 0.8654\n",
            "Epoch 6/20\n",
            "113/113 [==============================] - 15s 128ms/step - loss: 0.3006 - accuracy: 0.9111 - val_loss: 0.2997 - val_accuracy: 0.8910\n",
            "Epoch 7/20\n",
            "113/113 [==============================] - 14s 121ms/step - loss: 0.2542 - accuracy: 0.9256 - val_loss: 0.3348 - val_accuracy: 0.8776\n",
            "Epoch 8/20\n",
            "113/113 [==============================] - 14s 125ms/step - loss: 0.2034 - accuracy: 0.9406 - val_loss: 0.3328 - val_accuracy: 0.9010\n",
            "Epoch 9/20\n",
            "113/113 [==============================] - 14s 123ms/step - loss: 0.1456 - accuracy: 0.9639 - val_loss: 0.3554 - val_accuracy: 0.9121\n",
            "Epoch 10/20\n",
            "113/113 [==============================] - 14s 123ms/step - loss: 0.1370 - accuracy: 0.9628 - val_loss: 0.3799 - val_accuracy: 0.9066\n",
            "Epoch 11/20\n",
            "113/113 [==============================] - 14s 121ms/step - loss: 0.1001 - accuracy: 0.9770 - val_loss: 0.5491 - val_accuracy: 0.8598\n"
          ]
        }
      ]
    },
    {
      "cell_type": "markdown",
      "source": [
        "Still over fitting by a lot. Before trying another dropout layer, let's add in a l2 regularization, and see what the results are."
      ],
      "metadata": {
        "id": "-SfuCKwtwcEA"
      }
    },
    {
      "cell_type": "code",
      "source": [
        "es = EarlyStopping(patience = 5)\n",
        "\n",
        "model5 = Sequential()\n",
        "\n",
        "model5.add(layers.Input(shape=(256,256,3)))\n",
        "model5.add(layers.Rescaling(1./255))\n",
        "\n",
        "# Convolutional and pooling layers\n",
        "model5.add(Conv2D(64, (3,3), activation='relu'))\n",
        "model5.add(MaxPooling2D(pool_size=(2,2)))\n",
        "\n",
        "model5.add(Conv2D(64, (3,3), activation='relu'))\n",
        "model5.add(MaxPooling2D(pool_size=(2,2)))\n",
        "\n",
        "model5.add(Flatten())\n",
        "\n",
        "# Dense Layers\n",
        "model5.add(Dense(32, activation='relu', kernel_regularizer=l2(0.005)))\n",
        "model5.add(Dense(32, activation='relu', kernel_regularizer=l2(0.005)))\n",
        "model5.add(Dropout(0.5))\n",
        "model5.add(Dense(32, activation='relu', kernel_regularizer=l2(0.005)))\n",
        "model5.add(Dropout(0.5))\n",
        "\n",
        "# Output\n",
        "model5.add(Dense(3, activation='softmax'))\n",
        "\n",
        "model5.compile(\n",
        "    optimizer=\"adam\",\n",
        "    loss=\"categorical_crossentropy\",\n",
        "    metrics=['accuracy']\n",
        ")\n",
        "\n",
        "h = model5.fit(train_ds,\n",
        "               validation_data=val_ds,\n",
        "               callbacks = [es],\n",
        "               epochs=20)"
      ],
      "metadata": {
        "colab": {
          "base_uri": "https://localhost:8080/"
        },
        "id": "Vz8Abaj6vy78",
        "outputId": "eeaac94a-1336-49d1-84af-e8f30674f92e"
      },
      "execution_count": 16,
      "outputs": [
        {
          "output_type": "stream",
          "name": "stdout",
          "text": [
            "Epoch 1/20\n",
            "113/113 [==============================] - 16s 124ms/step - loss: 1.5552 - accuracy: 0.3957 - val_loss: 1.3029 - val_accuracy: 0.4238\n",
            "Epoch 2/20\n",
            "113/113 [==============================] - 14s 122ms/step - loss: 1.2493 - accuracy: 0.4210 - val_loss: 1.2103 - val_accuracy: 0.4238\n",
            "Epoch 3/20\n",
            "113/113 [==============================] - 14s 120ms/step - loss: 1.1747 - accuracy: 0.4196 - val_loss: 1.0780 - val_accuracy: 0.4238\n",
            "Epoch 4/20\n",
            "113/113 [==============================] - 14s 124ms/step - loss: 1.1200 - accuracy: 0.4227 - val_loss: 1.0512 - val_accuracy: 0.4238\n",
            "Epoch 5/20\n",
            "113/113 [==============================] - 14s 121ms/step - loss: 1.0539 - accuracy: 0.5032 - val_loss: 0.9829 - val_accuracy: 0.5317\n",
            "Epoch 6/20\n",
            "113/113 [==============================] - 14s 124ms/step - loss: 1.0297 - accuracy: 0.5465 - val_loss: 0.9673 - val_accuracy: 0.6029\n",
            "Epoch 7/20\n",
            "113/113 [==============================] - 14s 124ms/step - loss: 0.9749 - accuracy: 0.5926 - val_loss: 0.9182 - val_accuracy: 0.6118\n",
            "Epoch 8/20\n",
            "113/113 [==============================] - 14s 123ms/step - loss: 0.9408 - accuracy: 0.6034 - val_loss: 0.9435 - val_accuracy: 0.5895\n",
            "Epoch 9/20\n",
            "113/113 [==============================] - 14s 125ms/step - loss: 0.9150 - accuracy: 0.6365 - val_loss: 0.8417 - val_accuracy: 0.6707\n",
            "Epoch 10/20\n",
            "113/113 [==============================] - 14s 128ms/step - loss: 0.7938 - accuracy: 0.7356 - val_loss: 0.6129 - val_accuracy: 0.8465\n",
            "Epoch 11/20\n",
            "113/113 [==============================] - 14s 125ms/step - loss: 0.6276 - accuracy: 0.8045 - val_loss: 0.4821 - val_accuracy: 0.8598\n",
            "Epoch 12/20\n",
            "113/113 [==============================] - 14s 127ms/step - loss: 0.5504 - accuracy: 0.8242 - val_loss: 0.4494 - val_accuracy: 0.8632\n",
            "Epoch 13/20\n",
            "113/113 [==============================] - 14s 123ms/step - loss: 0.4801 - accuracy: 0.8531 - val_loss: 0.3953 - val_accuracy: 0.8699\n",
            "Epoch 14/20\n",
            "113/113 [==============================] - 14s 122ms/step - loss: 0.4750 - accuracy: 0.8559 - val_loss: 0.4793 - val_accuracy: 0.8198\n",
            "Epoch 15/20\n",
            "113/113 [==============================] - 14s 128ms/step - loss: 0.4469 - accuracy: 0.8711 - val_loss: 0.3496 - val_accuracy: 0.8877\n",
            "Epoch 16/20\n",
            "113/113 [==============================] - 14s 121ms/step - loss: 0.4282 - accuracy: 0.8767 - val_loss: 0.3559 - val_accuracy: 0.8899\n",
            "Epoch 17/20\n",
            "113/113 [==============================] - 17s 154ms/step - loss: 0.4076 - accuracy: 0.8967 - val_loss: 0.3753 - val_accuracy: 0.8743\n",
            "Epoch 18/20\n",
            "113/113 [==============================] - 14s 128ms/step - loss: 0.4488 - accuracy: 0.8809 - val_loss: 0.4063 - val_accuracy: 0.8921\n",
            "Epoch 19/20\n",
            "113/113 [==============================] - 14s 124ms/step - loss: 0.3895 - accuracy: 0.9036 - val_loss: 0.3413 - val_accuracy: 0.9032\n",
            "Epoch 20/20\n",
            "113/113 [==============================] - 14s 124ms/step - loss: 0.3453 - accuracy: 0.9145 - val_loss: 0.3662 - val_accuracy: 0.8910\n"
          ]
        }
      ]
    },
    {
      "cell_type": "markdown",
      "source": [
        "The model just so happened to start with a really low score, so it was able to hit 20 epochs, but in attempts to reproduce, the model would stil overfit and early stop."
      ],
      "metadata": {
        "id": "XnSvi5Rp0KyA"
      }
    },
    {
      "cell_type": "code",
      "source": [
        "es = EarlyStopping(patience = 5)\n",
        "\n",
        "model6 = Sequential()\n",
        "\n",
        "model6.add(layers.Input(shape=(256,256,3)))\n",
        "model6.add(layers.Rescaling(1./255))\n",
        "\n",
        "# Convolutional and pooling layers\n",
        "model6.add(Conv2D(64, (3,3), activation='relu'))\n",
        "model6.add(MaxPooling2D(pool_size=(2,2)))\n",
        "\n",
        "model6.add(Conv2D(64, (3,3), activation='relu'))\n",
        "model6.add(MaxPooling2D(pool_size=(2,2)))\n",
        "\n",
        "model6.add(Flatten())\n",
        "\n",
        "# Dense Layers\n",
        "model6.add(Dense(16, activation='relu', kernel_regularizer=l2(0.005)))\n",
        "model6.add(Dense(32, activation='relu', kernel_regularizer=l2(0.005)))\n",
        "model6.add(Dropout(0.5))\n",
        "model6.add(Dense(32, activation='relu', kernel_regularizer=l2(0.005)))\n",
        "model6.add(Dropout(0.5))\n",
        "model6.add(Dense(32, activation='relu', kernel_regularizer=l2(0.005)))\n",
        "\n",
        "# Output\n",
        "model6.add(Dense(3, activation='softmax'))\n",
        "\n",
        "model6.compile(\n",
        "    optimizer=\"adam\",\n",
        "    loss=\"categorical_crossentropy\",\n",
        "    metrics=['accuracy']\n",
        ")\n",
        "\n",
        "h = model6.fit(train_ds,\n",
        "               validation_data=val_ds,\n",
        "               callbacks = [es],\n",
        "               epochs=20)"
      ],
      "metadata": {
        "colab": {
          "base_uri": "https://localhost:8080/"
        },
        "id": "cZ-5VtJiy_fF",
        "outputId": "a9543d4c-b54d-412c-fcbd-9c768ce36477"
      },
      "execution_count": 17,
      "outputs": [
        {
          "output_type": "stream",
          "name": "stdout",
          "text": [
            "Epoch 1/20\n",
            "113/113 [==============================] - 20s 144ms/step - loss: 1.4698 - accuracy: 0.4157 - val_loss: 1.3129 - val_accuracy: 0.4238\n",
            "Epoch 2/20\n",
            "113/113 [==============================] - 14s 120ms/step - loss: 1.2503 - accuracy: 0.4243 - val_loss: 1.2003 - val_accuracy: 0.4238\n",
            "Epoch 3/20\n",
            "113/113 [==============================] - 14s 119ms/step - loss: 1.1708 - accuracy: 0.4243 - val_loss: 1.1461 - val_accuracy: 0.4238\n",
            "Epoch 4/20\n",
            "113/113 [==============================] - 14s 121ms/step - loss: 1.1314 - accuracy: 0.4243 - val_loss: 1.1178 - val_accuracy: 0.4238\n",
            "Epoch 5/20\n",
            "113/113 [==============================] - 14s 121ms/step - loss: 1.1091 - accuracy: 0.4243 - val_loss: 1.1016 - val_accuracy: 0.4238\n",
            "Epoch 6/20\n",
            "113/113 [==============================] - 14s 120ms/step - loss: 1.0962 - accuracy: 0.4243 - val_loss: 1.0913 - val_accuracy: 0.4238\n",
            "Epoch 7/20\n",
            "113/113 [==============================] - 14s 122ms/step - loss: 1.0877 - accuracy: 0.4243 - val_loss: 1.0845 - val_accuracy: 0.4238\n",
            "Epoch 8/20\n",
            "113/113 [==============================] - 14s 121ms/step - loss: 1.0820 - accuracy: 0.4243 - val_loss: 1.0797 - val_accuracy: 0.4238\n",
            "Epoch 9/20\n",
            "113/113 [==============================] - 14s 120ms/step - loss: 1.0780 - accuracy: 0.4243 - val_loss: 1.0763 - val_accuracy: 0.4238\n",
            "Epoch 10/20\n",
            "113/113 [==============================] - 14s 123ms/step - loss: 1.0749 - accuracy: 0.4243 - val_loss: 1.0738 - val_accuracy: 0.4238\n",
            "Epoch 11/20\n",
            "113/113 [==============================] - 13s 117ms/step - loss: 1.0728 - accuracy: 0.4243 - val_loss: 1.0719 - val_accuracy: 0.4238\n",
            "Epoch 12/20\n",
            "113/113 [==============================] - 14s 125ms/step - loss: 1.0714 - accuracy: 0.4243 - val_loss: 1.0705 - val_accuracy: 0.4238\n",
            "Epoch 13/20\n",
            "113/113 [==============================] - 14s 120ms/step - loss: 1.0700 - accuracy: 0.4243 - val_loss: 1.0694 - val_accuracy: 0.4238\n",
            "Epoch 14/20\n",
            "113/113 [==============================] - 14s 121ms/step - loss: 1.0691 - accuracy: 0.4243 - val_loss: 1.0686 - val_accuracy: 0.4238\n",
            "Epoch 15/20\n",
            "113/113 [==============================] - 13s 118ms/step - loss: 1.0685 - accuracy: 0.4243 - val_loss: 1.0680 - val_accuracy: 0.4238\n",
            "Epoch 16/20\n",
            "113/113 [==============================] - 14s 120ms/step - loss: 1.0679 - accuracy: 0.4243 - val_loss: 1.0675 - val_accuracy: 0.4238\n",
            "Epoch 17/20\n",
            "113/113 [==============================] - 14s 122ms/step - loss: 1.0674 - accuracy: 0.4243 - val_loss: 1.0672 - val_accuracy: 0.4238\n",
            "Epoch 18/20\n",
            "113/113 [==============================] - 13s 119ms/step - loss: 1.0671 - accuracy: 0.4243 - val_loss: 1.0668 - val_accuracy: 0.4238\n",
            "Epoch 19/20\n",
            "113/113 [==============================] - 14s 121ms/step - loss: 1.0669 - accuracy: 0.4243 - val_loss: 1.0666 - val_accuracy: 0.4238\n",
            "Epoch 20/20\n",
            "113/113 [==============================] - 14s 120ms/step - loss: 1.0666 - accuracy: 0.4243 - val_loss: 1.0666 - val_accuracy: 0.4238\n"
          ]
        }
      ]
    },
    {
      "cell_type": "markdown",
      "source": [
        "We've been tackling overfitting, but the accuracy on training is still worse than the validation of the original simple but overfit model. Adding more complexity hasn't really helped us that much. Let's start over, but now mess around with convolutions"
      ],
      "metadata": {
        "id": "cNDvE_A54ng7"
      }
    },
    {
      "cell_type": "code",
      "source": [
        "es = EarlyStopping(patience = 5)\n",
        "\n",
        "model7 = Sequential()\n",
        "\n",
        "model7.add(layers.Input(shape=(256,256,3)))\n",
        "model7.add(layers.Rescaling(1./255))\n",
        "\n",
        "# Convolutional and pooling layers\n",
        "model7.add(Conv2D(64, (4,4), activation='relu'))\n",
        "model7.add(MaxPooling2D(pool_size=(2,2)))\n",
        "\n",
        "model7.add(Conv2D(64, (4,4), activation='relu'))\n",
        "model7.add(MaxPooling2D(pool_size=(2,2)))\n",
        "\n",
        "model7.add(Flatten())\n",
        "\n",
        "# Dense Layers\n",
        "model7.add(Dense(64, activation='relu'))\n",
        "\n",
        "# Output\n",
        "model7.add(Dense(3, activation='softmax'))\n",
        "\n",
        "model7.compile(\n",
        "    optimizer=\"adam\",\n",
        "    loss=\"categorical_crossentropy\",\n",
        "    metrics=['accuracy']\n",
        ")\n",
        "\n",
        "h = model7.fit(train_ds,\n",
        "               validation_data=val_ds,\n",
        "               callbacks = [es],\n",
        "               epochs=20)"
      ],
      "metadata": {
        "colab": {
          "base_uri": "https://localhost:8080/"
        },
        "id": "1A0yds_Y0pTC",
        "outputId": "d26c3787-25b2-4300-af96-050d73473069"
      },
      "execution_count": 18,
      "outputs": [
        {
          "output_type": "stream",
          "name": "stdout",
          "text": [
            "Epoch 1/20\n",
            "113/113 [==============================] - 22s 162ms/step - loss: 1.3091 - accuracy: 0.5068 - val_loss: 1.0265 - val_accuracy: 0.4283\n",
            "Epoch 2/20\n",
            "113/113 [==============================] - 14s 126ms/step - loss: 0.8527 - accuracy: 0.5712 - val_loss: 0.6934 - val_accuracy: 0.7341\n",
            "Epoch 3/20\n",
            "113/113 [==============================] - 14s 124ms/step - loss: 0.7306 - accuracy: 0.6879 - val_loss: 0.8168 - val_accuracy: 0.6808\n",
            "Epoch 4/20\n",
            "113/113 [==============================] - 14s 128ms/step - loss: 0.6292 - accuracy: 0.7142 - val_loss: 0.8214 - val_accuracy: 0.6340\n",
            "Epoch 5/20\n",
            "113/113 [==============================] - 14s 126ms/step - loss: 0.4725 - accuracy: 0.8070 - val_loss: 0.6699 - val_accuracy: 0.7308\n",
            "Epoch 6/20\n",
            "113/113 [==============================] - 15s 130ms/step - loss: 0.3475 - accuracy: 0.8734 - val_loss: 0.6851 - val_accuracy: 0.7442\n",
            "Epoch 7/20\n",
            "113/113 [==============================] - 15s 131ms/step - loss: 0.2112 - accuracy: 0.9289 - val_loss: 0.7873 - val_accuracy: 0.7875\n",
            "Epoch 8/20\n",
            "113/113 [==============================] - 14s 125ms/step - loss: 0.1127 - accuracy: 0.9656 - val_loss: 0.8743 - val_accuracy: 0.7964\n",
            "Epoch 9/20\n",
            "113/113 [==============================] - 14s 125ms/step - loss: 0.1110 - accuracy: 0.9650 - val_loss: 0.8929 - val_accuracy: 0.7809\n",
            "Epoch 10/20\n",
            "113/113 [==============================] - 14s 125ms/step - loss: 0.0806 - accuracy: 0.9770 - val_loss: 0.9960 - val_accuracy: 0.7898\n"
          ]
        }
      ]
    },
    {
      "cell_type": "markdown",
      "source": [
        "changing the convolution input matrix from 3 x 3 to 4 x 4 didn't have a great effect. Let's go back to 3 x 3 and instead see what happens if we add a conv layer and remove a conv layer."
      ],
      "metadata": {
        "id": "hyIVt4US6GT6"
      }
    },
    {
      "cell_type": "code",
      "source": [
        "es = EarlyStopping(patience = 5)\n",
        "\n",
        "model8 = Sequential()\n",
        "\n",
        "model8.add(layers.Input(shape=(256,256,3)))\n",
        "model8.add(layers.Rescaling(1./255))\n",
        "\n",
        "# Convolutional and pooling layers\n",
        "model8.add(Conv2D(64, (3,3), activation='relu'))\n",
        "model8.add(MaxPooling2D(pool_size=(2,2)))\n",
        "\n",
        "model8.add(Conv2D(64, (3,3), activation='relu'))\n",
        "model8.add(MaxPooling2D(pool_size=(2,2)))\n",
        "\n",
        "model8.add(Conv2D(64, (3,3), activation='relu'))\n",
        "model8.add(MaxPooling2D(pool_size=(2,2)))\n",
        "\n",
        "model8.add(Flatten())\n",
        "\n",
        "# Dense Layers\n",
        "model8.add(Dense(64, activation='relu'))\n",
        "\n",
        "# Output\n",
        "model8.add(Dense(3, activation='softmax'))\n",
        "\n",
        "model8.compile(\n",
        "    optimizer=\"adam\",\n",
        "    loss=\"categorical_crossentropy\",\n",
        "    metrics=['accuracy']\n",
        ")\n",
        "\n",
        "h = model8.fit(train_ds,\n",
        "               validation_data=val_ds,\n",
        "               callbacks = [es],\n",
        "               epochs=20)"
      ],
      "metadata": {
        "colab": {
          "base_uri": "https://localhost:8080/"
        },
        "id": "cPjURya55SSt",
        "outputId": "231b9f6a-a394-4e71-c33f-7b7db08668e1"
      },
      "execution_count": 19,
      "outputs": [
        {
          "output_type": "stream",
          "name": "stdout",
          "text": [
            "Epoch 1/20\n",
            "113/113 [==============================] - 16s 126ms/step - loss: 0.7253 - accuracy: 0.6532 - val_loss: 0.3467 - val_accuracy: 0.8242\n",
            "Epoch 2/20\n",
            "113/113 [==============================] - 14s 122ms/step - loss: 0.3433 - accuracy: 0.8414 - val_loss: 0.2885 - val_accuracy: 0.8676\n",
            "Epoch 3/20\n",
            "113/113 [==============================] - 14s 124ms/step - loss: 0.2739 - accuracy: 0.8820 - val_loss: 0.2531 - val_accuracy: 0.8865\n",
            "Epoch 4/20\n",
            "113/113 [==============================] - 14s 124ms/step - loss: 0.3120 - accuracy: 0.8750 - val_loss: 0.3134 - val_accuracy: 0.8621\n",
            "Epoch 5/20\n",
            "113/113 [==============================] - 14s 128ms/step - loss: 0.2372 - accuracy: 0.9056 - val_loss: 0.2838 - val_accuracy: 0.8832\n",
            "Epoch 6/20\n",
            "113/113 [==============================] - 14s 121ms/step - loss: 0.1530 - accuracy: 0.9408 - val_loss: 0.2183 - val_accuracy: 0.9188\n",
            "Epoch 7/20\n",
            "113/113 [==============================] - 14s 123ms/step - loss: 0.1229 - accuracy: 0.9533 - val_loss: 0.3020 - val_accuracy: 0.8943\n",
            "Epoch 8/20\n",
            "113/113 [==============================] - 14s 124ms/step - loss: 0.0881 - accuracy: 0.9664 - val_loss: 0.5795 - val_accuracy: 0.8420\n",
            "Epoch 9/20\n",
            "113/113 [==============================] - 14s 121ms/step - loss: 0.0830 - accuracy: 0.9683 - val_loss: 0.2523 - val_accuracy: 0.9199\n",
            "Epoch 10/20\n",
            "113/113 [==============================] - 14s 127ms/step - loss: 0.0560 - accuracy: 0.9808 - val_loss: 0.2620 - val_accuracy: 0.9210\n",
            "Epoch 11/20\n",
            "113/113 [==============================] - 14s 125ms/step - loss: 0.1192 - accuracy: 0.9600 - val_loss: 0.2697 - val_accuracy: 0.9221\n"
          ]
        }
      ]
    },
    {
      "cell_type": "code",
      "source": [
        "es = EarlyStopping(patience = 5)\n",
        "\n",
        "model9 = Sequential()\n",
        "\n",
        "model9.add(layers.Input(shape=(256,256,3)))\n",
        "model9.add(layers.Rescaling(1./255))\n",
        "\n",
        "# Convolutional and pooling layers\n",
        "model9.add(Conv2D(64, (3,3), activation='relu'))\n",
        "model9.add(MaxPooling2D(pool_size=(2,2)))\n",
        "\n",
        "model9.add(Flatten())\n",
        "\n",
        "# Dense Layers\n",
        "model9.add(Dense(64, activation='relu'))\n",
        "\n",
        "# Output\n",
        "model9.add(Dense(3, activation='softmax'))\n",
        "\n",
        "model9.compile(\n",
        "    optimizer=\"adam\",\n",
        "    loss=\"categorical_crossentropy\",\n",
        "    metrics=['accuracy']\n",
        ")\n",
        "\n",
        "h = model9.fit(train_ds,\n",
        "               validation_data=val_ds,\n",
        "               callbacks = [es],\n",
        "               epochs=20)"
      ],
      "metadata": {
        "colab": {
          "base_uri": "https://localhost:8080/"
        },
        "id": "B7HTw9sR7WKB",
        "outputId": "ae4c1aa8-6ff7-41eb-e94d-d4204d382ac2"
      },
      "execution_count": 20,
      "outputs": [
        {
          "output_type": "stream",
          "name": "stdout",
          "text": [
            "Epoch 1/20\n",
            "113/113 [==============================] - 15s 119ms/step - loss: 2.1404 - accuracy: 0.7606 - val_loss: 0.2999 - val_accuracy: 0.8699\n",
            "Epoch 2/20\n",
            "113/113 [==============================] - 13s 117ms/step - loss: 0.2171 - accuracy: 0.9206 - val_loss: 0.2577 - val_accuracy: 0.8977\n",
            "Epoch 3/20\n",
            "113/113 [==============================] - 13s 117ms/step - loss: 0.0882 - accuracy: 0.9767 - val_loss: 0.2667 - val_accuracy: 0.8988\n",
            "Epoch 4/20\n",
            "113/113 [==============================] - 17s 149ms/step - loss: 0.0306 - accuracy: 0.9939 - val_loss: 0.2556 - val_accuracy: 0.9088\n",
            "Epoch 5/20\n",
            "113/113 [==============================] - 14s 122ms/step - loss: 0.0185 - accuracy: 0.9983 - val_loss: 0.3206 - val_accuracy: 0.8943\n",
            "Epoch 6/20\n",
            "113/113 [==============================] - 18s 158ms/step - loss: 0.0060 - accuracy: 1.0000 - val_loss: 0.3089 - val_accuracy: 0.9021\n",
            "Epoch 7/20\n",
            "113/113 [==============================] - 16s 144ms/step - loss: 0.0028 - accuracy: 1.0000 - val_loss: 0.3158 - val_accuracy: 0.9055\n",
            "Epoch 8/20\n",
            "113/113 [==============================] - 13s 117ms/step - loss: 0.0016 - accuracy: 1.0000 - val_loss: 0.3505 - val_accuracy: 0.9055\n",
            "Epoch 9/20\n",
            "113/113 [==============================] - 14s 122ms/step - loss: 0.0010 - accuracy: 1.0000 - val_loss: 0.3508 - val_accuracy: 0.9055\n"
          ]
        }
      ]
    },
    {
      "cell_type": "markdown",
      "source": [
        "Looks like our training accuracy is much more overfit with less validation accuracy. Currently model 8 seems to have the best performance it has the highest accuracy (96% on training and 92% on validation accuracy) and is less over fit than other models. Our second best model was model 2 with a train accuracy of 99% and a validation accuracy of 92%.\n",
        "\n",
        "Lets see how well they do with a confusion matrix, because of their similar accuacy scores it is most likely they are going to have similar misclassifiations.\n",
        "___________________________"
      ],
      "metadata": {
        "id": "ZaT2Gmq7yeGY"
      }
    },
    {
      "cell_type": "markdown",
      "source": [
        "## Confusion matrixs"
      ],
      "metadata": {
        "id": "D0ia5-eJ02JU"
      }
    },
    {
      "cell_type": "code",
      "source": [
        "y_true_classes, y_pred_classes = model_preds(model8)\n",
        "cm = confusion_matrix(y_true_classes, y_pred_classes)\n",
        "\n",
        "fig, ax = plt.subplots(figsize=(12, 5))\n",
        "\n",
        "sns.heatmap(cm, annot=True, fmt='d')\n",
        "\n",
        "ax.set_yticklabels(['Early Blight', 'Late Blight', 'Healthy'], rotation=0, va=\"center\")\n",
        "ax.set_xticklabels(['Early Blight', 'Late Blight', 'Healthy'], rotation=0, ha=\"center\")\n",
        "plt.title('model 8 matrix')\n",
        "plt.xlabel('Predicted')\n",
        "plt.ylabel('Truth')\n",
        "plt.show()\n",
        "plt.savefig('Model_8_Matrix.png')"
      ],
      "metadata": {
        "colab": {
          "base_uri": "https://localhost:8080/",
          "height": 522
        },
        "id": "WlyuQWSN2GJb",
        "outputId": "c824e1fe-ec18-4aca-e9c0-8b2bbcb8322f"
      },
      "execution_count": 51,
      "outputs": [
        {
          "output_type": "stream",
          "name": "stdout",
          "text": [
            "29/29 [==============================] - 2s 82ms/step\n"
          ]
        },
        {
          "output_type": "display_data",
          "data": {
            "text/plain": [
              "<Figure size 1200x500 with 2 Axes>"
            ],
            "image/png": "[encoded data removed]"
          },
          "metadata": {}
        },
        {
          "output_type": "display_data",
          "data": {
            "text/plain": [
              "<Figure size 640x480 with 0 Axes>"
            ]
          },
          "metadata": {}
        }
      ]
    },
    {
      "cell_type": "code",
      "source": [
        "report = classification_report(y_true_classes, y_pred_classes, target_names=val_ds.class_indices.keys())\n",
        "print(report)"
      ],
      "metadata": {
        "colab": {
          "base_uri": "https://localhost:8080/"
        },
        "id": "Syt-58WG4DQK",
        "outputId": "53e7c89a-0e1f-4aa0-a72f-d0e317adb63f"
      },
      "execution_count": 52,
      "outputs": [
        {
          "output_type": "stream",
          "name": "stdout",
          "text": [
            "                     precision    recall  f1-score   support\n",
            "\n",
            "Tomato_Early_blight       0.87      0.78      0.82       200\n",
            " Tomato_Late_blight       0.89      0.94      0.92       381\n",
            "     Tomato_healthy       0.99      0.99      0.99       318\n",
            "\n",
            "           accuracy                           0.92       899\n",
            "          macro avg       0.92      0.90      0.91       899\n",
            "       weighted avg       0.92      0.92      0.92       899\n",
            "\n"
          ]
        }
      ]
    },
    {
      "cell_type": "code",
      "source": [
        "y_true_classes, y_pred_classes = model_preds(model2)\n",
        "cm = confusion_matrix(y_true_classes, y_pred_classes)\n",
        "\n",
        "fig, ax = plt.subplots(figsize=(12, 5))\n",
        "\n",
        "sns.heatmap(cm, annot=True, fmt='d')\n",
        "\n",
        "ax.set_yticklabels(['Early Blight', 'Late Blight', 'Healthy'], rotation=0, va=\"center\")\n",
        "ax.set_xticklabels(['Early Blight', 'Late Blight', 'Healthy'], rotation=0, ha=\"center\")\n",
        "plt.title('model 2 matrix')\n",
        "plt.xlabel('Predicted')\n",
        "plt.ylabel('Truth')\n",
        "plt.show()"
      ],
      "metadata": {
        "colab": {
          "base_uri": "https://localhost:8080/",
          "height": 505
        },
        "id": "1B6M9Mjx05QK",
        "outputId": "51217e3d-24f2-4787-e9ef-efa9a0d27847"
      },
      "execution_count": 49,
      "outputs": [
        {
          "output_type": "stream",
          "name": "stdout",
          "text": [
            "29/29 [==============================] - 3s 109ms/step\n"
          ]
        },
        {
          "output_type": "display_data",
          "data": {
            "text/plain": [
              "<Figure size 1200x500 with 2 Axes>"
            ],
            "image/png": "[encoded data removed]"
          },
          "metadata": {}
        }
      ]
    },
    {
      "cell_type": "code",
      "source": [
        "report = classification_report(y_true_classes, y_pred_classes, target_names=val_ds.class_indices.keys())\n",
        "print(report)"
      ],
      "metadata": {
        "colab": {
          "base_uri": "https://localhost:8080/"
        },
        "id": "1G4s3W_H4HX0",
        "outputId": "7d740689-1db4-4e23-a511-ffe3a8d8ef44"
      },
      "execution_count": 50,
      "outputs": [
        {
          "output_type": "stream",
          "name": "stdout",
          "text": [
            "                     precision    recall  f1-score   support\n",
            "\n",
            "Tomato_Early_blight       0.84      0.83      0.83       200\n",
            " Tomato_Late_blight       0.92      0.91      0.92       381\n",
            "     Tomato_healthy       0.98      1.00      0.99       318\n",
            "\n",
            "           accuracy                           0.92       899\n",
            "          macro avg       0.91      0.91      0.91       899\n",
            "       weighted avg       0.92      0.92      0.92       899\n",
            "\n"
          ]
        }
      ]
    },
    {
      "cell_type": "markdown",
      "source": [
        "As expected since, they have similar accuracy scores we see they have similar classification rates. Lets just check a third model, in this case lets look at our most over fit model, model 9. Which has a training accuracy of 100%, but a validation accuracy of 90%."
      ],
      "metadata": {
        "id": "afgVFwVI2WFi"
      }
    },
    {
      "cell_type": "code",
      "source": [
        "y_true_classes, y_pred_classes = model_preds(model9)\n",
        "cm = confusion_matrix(y_true_classes, y_pred_classes)\n",
        "\n",
        "fig, ax = plt.subplots(figsize=(12, 5))\n",
        "\n",
        "sns.heatmap(cm, annot=True, fmt='d')\n",
        "\n",
        "ax.set_yticklabels(['Early Blight', 'Late Blight', 'Healthy'], rotation=0, va=\"center\")\n",
        "ax.set_xticklabels(['Early Blight', 'Late Blight', 'Healthy'], rotation=0, ha=\"center\")\n",
        "plt.title('model 2 matrix')\n",
        "plt.xlabel('Predicted')\n",
        "plt.ylabel('Truth')\n",
        "plt.show()"
      ],
      "metadata": {
        "colab": {
          "base_uri": "https://localhost:8080/",
          "height": 505
        },
        "id": "kl4KTu4C23oK",
        "outputId": "f23757fb-a654-4369-ecd7-0d4f76d6065f"
      },
      "execution_count": 47,
      "outputs": [
        {
          "output_type": "stream",
          "name": "stdout",
          "text": [
            "29/29 [==============================] - 4s 112ms/step\n"
          ]
        },
        {
          "output_type": "display_data",
          "data": {
            "text/plain": [
              "<Figure size 1200x500 with 2 Axes>"
            ],
            "image/png": "[encoded data removed]"
          },
          "metadata": {}
        }
      ]
    },
    {
      "cell_type": "code",
      "source": [
        "report = classification_report(y_true_classes, y_pred_classes, target_names=val_ds.class_indices.keys())\n",
        "print(report)"
      ],
      "metadata": {
        "colab": {
          "base_uri": "https://localhost:8080/"
        },
        "id": "CLZRNs6J4PPL",
        "outputId": "aacebb95-aa60-409e-f575-d8fc28457d7f"
      },
      "execution_count": 48,
      "outputs": [
        {
          "output_type": "stream",
          "name": "stdout",
          "text": [
            "                     precision    recall  f1-score   support\n",
            "\n",
            "Tomato_Early_blight       0.82      0.75      0.79       200\n",
            " Tomato_Late_blight       0.89      0.91      0.90       381\n",
            "     Tomato_healthy       0.97      0.99      0.98       318\n",
            "\n",
            "           accuracy                           0.91       899\n",
            "          macro avg       0.89      0.89      0.89       899\n",
            "       weighted avg       0.90      0.91      0.90       899\n",
            "\n"
          ]
        }
      ]
    },
    {
      "cell_type": "markdown",
      "source": [
        "# Conclusion\n",
        "\n",
        "Model 8 does pretty well on the accuracy score, but misclassifies a few blight plants as healthy which is something we dont want. Because it has a low recall score on Early blight, that means we have a risk of missing the early stages of prevenative blight. Missclassifying a healthy plant as unhealthy is not as much of an issue since it would simply require a framer to check up on the plant.\n",
        "\n",
        "The next goal is to improve the recall score of Early blight so farmers can intervenue before the disease spreads and effects other crops."
      ],
      "metadata": {
        "id": "9XWtCRnrzLZy"
      }
    }
  ],
  "metadata": {
    "accelerator": "GPU",
    "colab": {
      "provenance": [],
      "gpuType": "T4"
    },
    "gpuClass": "standard",
    "kernelspec": {
      "display_name": "Python 3",
      "name": "python3"
    },
    "language_info": {
      "name": "python"
    }
  },
  "nbformat": 4,
  "nbformat_minor": 0
}