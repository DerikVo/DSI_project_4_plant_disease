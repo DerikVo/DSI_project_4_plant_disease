{
  "cells": [
    {
      "cell_type": "markdown",
      "metadata": {
        "id": "4wiAqVWn3w2e"
      },
      "source": [
        "# Potato Plant Modelling"
      ]
    },
    {
      "cell_type": "code",
      "execution_count": 1,
      "metadata": {
        "id": "q0VQpQmo3V3q"
      },
      "outputs": [],
      "source": [
        "# imports\n",
        "import matplotlib.pyplot as plt\n",
        "import numpy as np\n",
        "import os\n",
        "import pandas as pd\n",
        "import seaborn as sns\n",
        "\n",
        "from tensorflow.keras.layers import Dense, Dropout, Flatten, Conv2D, MaxPooling2D\n",
        "from tensorflow.keras.regularizers import l2\n",
        "from tensorflow.keras.callbacks import EarlyStopping\n",
        "from tensorflow.keras.models import Sequential\n",
        "from tensorflow.keras.preprocessing.image import ImageDataGenerator\n",
        "from tensorflow.keras import layers\n",
        "\n",
        "from sklearn.model_selection import train_test_split\n",
        "from sklearn.metrics import confusion_matrix, classification_report"
      ]
    },
    {
      "cell_type": "code",
      "source": [
        "from google.colab import drive\n",
        "drive.mount('/content/drive')"
      ],
      "metadata": {
        "colab": {
          "base_uri": "https://localhost:8080/"
        },
        "id": "pi1huuqLQvaL",
        "outputId": "8d79ce31-22bd-4669-c3e3-b3001fe32127"
      },
      "execution_count": 2,
      "outputs": [
        {
          "output_type": "stream",
          "name": "stdout",
          "text": [
            "Mounted at /content/drive\n"
          ]
        }
      ]
    },
    {
      "cell_type": "code",
      "execution_count": 3,
      "metadata": {
        "id": "ByqYzKd-4ohi"
      },
      "outputs": [],
      "source": [
        "!unzip -q /content/drive/MyDrive/datasets/Potato.zip"
      ]
    },
    {
      "cell_type": "code",
      "execution_count": 4,
      "metadata": {
        "colab": {
          "base_uri": "https://localhost:8080/"
        },
        "id": "NFrXyUR-3eVK",
        "outputId": "ef5c6ef9-f62f-43b1-afcc-ce9659fe55b7"
      },
      "outputs": [
        {
          "output_type": "stream",
          "name": "stdout",
          "text": [
            "Found 1722 images belonging to 3 classes.\n",
            "Found 430 images belonging to 3 classes.\n"
          ]
        }
      ],
      "source": [
        "datagen = ImageDataGenerator(validation_split=0.2)\n",
        "\n",
        "# get training data\n",
        "train_ds = datagen.flow_from_directory(\n",
        "    '/content/Potato',\n",
        "    target_size=(256, 256),\n",
        "    batch_size=32,\n",
        "    class_mode='categorical',\n",
        "    subset='training',  # set as training data\n",
        "    seed=42\n",
        ")\n",
        "\n",
        "# get validation data\n",
        "val_ds = datagen.flow_from_directory(\n",
        "    '/content/Potato',\n",
        "    target_size=(256, 256),\n",
        "    batch_size=32,\n",
        "    class_mode='categorical',\n",
        "    subset='validation',  # set as validation data\n",
        "    seed=42,\n",
        "    shuffle= False\n",
        ")"
      ]
    },
    {
      "cell_type": "code",
      "source": [
        "train_ds.class_indices"
      ],
      "metadata": {
        "colab": {
          "base_uri": "https://localhost:8080/"
        },
        "id": "mDofSmcBShHs",
        "outputId": "e89a4d24-a130-4a40-ccb8-9779208d753a"
      },
      "execution_count": 5,
      "outputs": [
        {
          "output_type": "execute_result",
          "data": {
            "text/plain": [
              "{'Potato___Early_blight': 0, 'Potato___Late_blight': 1, 'Potato___healthy': 2}"
            ]
          },
          "metadata": {},
          "execution_count": 5
        }
      ]
    },
    {
      "cell_type": "markdown",
      "source": [
        "## Creating models and evaluating"
      ],
      "metadata": {
        "id": "yrFbxHtlEDRf"
      }
    },
    {
      "cell_type": "code",
      "source": [
        "es = EarlyStopping(patience = 5)\n",
        "\n",
        "model1 = Sequential()\n",
        "\n",
        "model1.add(layers.Input(shape=(256,256,3)))\n",
        "model1.add(layers.Rescaling(1./255))\n",
        "\n",
        "# Convolutional and pooling layers\n",
        "model1.add(Conv2D(64, (3,3), activation='relu'))\n",
        "model1.add(MaxPooling2D(pool_size=(2,2)))\n",
        "\n",
        "model1.add(Conv2D(64, (3,3), activation='relu'))\n",
        "model1.add(MaxPooling2D(pool_size=(2,2)))\n",
        "\n",
        "model1.add(Flatten())\n",
        "\n",
        "# Dense Layers\n",
        "model1.add(Dense(64, activation='relu'))\n",
        "\n",
        "# Output\n",
        "model1.add(Dense(3, activation='softmax'))\n",
        "\n",
        "model1.compile(\n",
        "    optimizer=\"adam\",\n",
        "    loss=\"categorical_crossentropy\",\n",
        "    metrics=['accuracy']\n",
        ")"
      ],
      "metadata": {
        "id": "wFgWV6lFpVPT"
      },
      "execution_count": 6,
      "outputs": []
    },
    {
      "cell_type": "code",
      "source": [
        "model1.input_shape"
      ],
      "metadata": {
        "colab": {
          "base_uri": "https://localhost:8080/"
        },
        "id": "MLCzvvruR__K",
        "outputId": "9cd88e55-ddbf-47da-edf3-8db1d5e1e30c"
      },
      "execution_count": 7,
      "outputs": [
        {
          "output_type": "execute_result",
          "data": {
            "text/plain": [
              "(None, 256, 256, 3)"
            ]
          },
          "metadata": {},
          "execution_count": 7
        }
      ]
    },
    {
      "cell_type": "code",
      "source": [
        "model1.summary()"
      ],
      "metadata": {
        "colab": {
          "base_uri": "https://localhost:8080/"
        },
        "id": "4ZBd-PxxSBc_",
        "outputId": "2bea2920-b6d5-4d8c-bc37-c7ad6f7a21ac"
      },
      "execution_count": 8,
      "outputs": [
        {
          "output_type": "stream",
          "name": "stdout",
          "text": [
            "Model: \"sequential\"\n",
            "_________________________________________________________________\n",
            " Layer (type)                Output Shape              Param #   \n",
            "=================================================================\n",
            " rescaling (Rescaling)       (None, 256, 256, 3)       0         \n",
            "                                                                 \n",
            " conv2d (Conv2D)             (None, 254, 254, 64)      1792      \n",
            "                                                                 \n",
            " max_pooling2d (MaxPooling2D  (None, 127, 127, 64)     0         \n",
            " )                                                               \n",
            "                                                                 \n",
            " conv2d_1 (Conv2D)           (None, 125, 125, 64)      36928     \n",
            "                                                                 \n",
            " max_pooling2d_1 (MaxPooling  (None, 62, 62, 64)       0         \n",
            " 2D)                                                             \n",
            "                                                                 \n",
            " flatten (Flatten)           (None, 246016)            0         \n",
            "                                                                 \n",
            " dense (Dense)               (None, 64)                15745088  \n",
            "                                                                 \n",
            " dense_1 (Dense)             (None, 3)                 195       \n",
            "                                                                 \n",
            "=================================================================\n",
            "Total params: 15,784,003\n",
            "Trainable params: 15,784,003\n",
            "Non-trainable params: 0\n",
            "_________________________________________________________________\n"
          ]
        }
      ]
    },
    {
      "cell_type": "code",
      "execution_count": 9,
      "metadata": {
        "colab": {
          "base_uri": "https://localhost:8080/"
        },
        "id": "1euSFn2q3-Pk",
        "outputId": "1726bf61-c35e-4687-bfe5-3eb7a960f9bf"
      },
      "outputs": [
        {
          "output_type": "stream",
          "name": "stdout",
          "text": [
            "Epoch 1/10\n",
            "54/54 [==============================] - 17s 103ms/step - loss: 0.8917 - accuracy: 0.7253 - val_loss: 0.3163 - val_accuracy: 0.8628\n",
            "Epoch 2/10\n",
            "54/54 [==============================] - 5s 88ms/step - loss: 0.1939 - accuracy: 0.9280 - val_loss: 0.1688 - val_accuracy: 0.9349\n",
            "Epoch 3/10\n",
            "54/54 [==============================] - 5s 87ms/step - loss: 0.0962 - accuracy: 0.9715 - val_loss: 0.3099 - val_accuracy: 0.8721\n",
            "Epoch 4/10\n",
            "54/54 [==============================] - 5s 88ms/step - loss: 0.0926 - accuracy: 0.9681 - val_loss: 0.1558 - val_accuracy: 0.9465\n",
            "Epoch 5/10\n",
            "54/54 [==============================] - 5s 88ms/step - loss: 0.0512 - accuracy: 0.9855 - val_loss: 0.1649 - val_accuracy: 0.9488\n",
            "Epoch 6/10\n",
            "54/54 [==============================] - 5s 86ms/step - loss: 0.0266 - accuracy: 0.9907 - val_loss: 0.1963 - val_accuracy: 0.9419\n",
            "Epoch 7/10\n",
            "54/54 [==============================] - 5s 89ms/step - loss: 0.0080 - accuracy: 1.0000 - val_loss: 0.1924 - val_accuracy: 0.9488\n",
            "Epoch 8/10\n",
            "54/54 [==============================] - 5s 92ms/step - loss: 0.0016 - accuracy: 1.0000 - val_loss: 0.2118 - val_accuracy: 0.9488\n",
            "Epoch 9/10\n",
            "54/54 [==============================] - 5s 87ms/step - loss: 6.4967e-04 - accuracy: 1.0000 - val_loss: 0.2520 - val_accuracy: 0.9512\n",
            "Epoch 10/10\n",
            "54/54 [==============================] - 5s 89ms/step - loss: 3.3529e-04 - accuracy: 1.0000 - val_loss: 0.2660 - val_accuracy: 0.9512\n"
          ]
        }
      ],
      "source": [
        "h = model1.fit(train_ds, validation_data=val_ds, epochs= 10)"
      ]
    },
    {
      "cell_type": "markdown",
      "source": [
        "Prompted CHAT-GPT 4 to help grab the labels information from the validation dataset and get it into a numpy array, so that we can use that to make a confusion matrix."
      ],
      "metadata": {
        "id": "Bpyo6fADFqli"
      }
    },
    {
      "cell_type": "code",
      "source": [
        "def model_preds(model):\n",
        "  '''\n",
        "  This function will return the y_true_classes and y_pred_clasess\n",
        "  Which will allows us to build a confusion matrix\n",
        "  '''\n",
        "  \n",
        "  y_true_classes = val_ds.labels\n",
        "\n",
        "  y_pred_classes = model.predict(val_ds)\n",
        "\n",
        "  y_pred_classes = np.argmax(y_pred_classes, axis=1)\n",
        "\n",
        "  return (y_true_classes, y_pred_classes)"
      ],
      "metadata": {
        "id": "TpvQT0lmDZCZ"
      },
      "execution_count": 10,
      "outputs": []
    },
    {
      "cell_type": "code",
      "source": [
        "y_true_classes, y_pred_classes = model_preds(model1)\n",
        "\n",
        "cm = confusion_matrix(y_true_classes, y_pred_classes)\n",
        "\n",
        "fig, ax = plt.subplots(figsize=(12, 5))\n",
        "\n",
        "sns.heatmap(cm, annot=True, fmt='d')\n",
        "\n",
        "ax.set_yticklabels(['Early Blight', 'Late Blight', 'Healthy'], rotation=0, va=\"center\")\n",
        "ax.set_xticklabels(['Early Blight', 'Late Blight', 'Healthy'], rotation=0, ha=\"center\")\n",
        "\n",
        "plt.xlabel('Predicted')\n",
        "plt.ylabel('Truth')\n",
        "plt.show()"
      ],
      "metadata": {
        "colab": {
          "base_uri": "https://localhost:8080/",
          "height": 482
        },
        "id": "dD2PjeaA_DXU",
        "outputId": "70cfd13e-91a6-4d58-9e80-690e2da054c5"
      },
      "execution_count": 11,
      "outputs": [
        {
          "output_type": "stream",
          "name": "stdout",
          "text": [
            "14/14 [==============================] - 1s 68ms/step\n"
          ]
        },
        {
          "output_type": "display_data",
          "data": {
            "text/plain": [
              "<Figure size 1200x500 with 2 Axes>"
            ],
            "image/png": "[encoded data removed]"
          },
          "metadata": {}
        }
      ]
    },
    {
      "cell_type": "code",
      "source": [
        "report = classification_report(y_true_classes, y_pred_classes, target_names=val_ds.class_indices.keys())\n",
        "print(report)"
      ],
      "metadata": {
        "colab": {
          "base_uri": "https://localhost:8080/"
        },
        "id": "0qrEIZ6tzSdz",
        "outputId": "897de071-9d4c-497d-a389-e4636b27a282"
      },
      "execution_count": 12,
      "outputs": [
        {
          "output_type": "stream",
          "name": "stdout",
          "text": [
            "                       precision    recall  f1-score   support\n",
            "\n",
            "Potato___Early_blight       0.98      0.94      0.96       200\n",
            " Potato___Late_blight       0.92      0.98      0.95       200\n",
            "     Potato___healthy       1.00      0.77      0.87        30\n",
            "\n",
            "             accuracy                           0.95       430\n",
            "            macro avg       0.97      0.90      0.93       430\n",
            "         weighted avg       0.95      0.95      0.95       430\n",
            "\n"
          ]
        }
      ]
    },
    {
      "cell_type": "markdown",
      "source": [
        "This model performs well, but let's add some more hidden layers and early stopping now. "
      ],
      "metadata": {
        "id": "zneg2K1DER-3"
      }
    },
    {
      "cell_type": "code",
      "source": [
        "es = EarlyStopping(patience = 5)\n",
        "\n",
        "model2 = Sequential()\n",
        "\n",
        "model2.add(layers.Input(shape=(256,256,3)))\n",
        "model2.add(layers.Rescaling(1./255))\n",
        "\n",
        "# Convolutional and pooling layers\n",
        "model2.add(Conv2D(64, (3,3), activation='relu'))\n",
        "model2.add(MaxPooling2D(pool_size=(2,2)))\n",
        "\n",
        "model2.add(Conv2D(64, (3,3), activation='relu'))\n",
        "model2.add(MaxPooling2D(pool_size=(2,2)))\n",
        "\n",
        "model2.add(Flatten())\n",
        "\n",
        "# Dense Layers\n",
        "model2.add(Dense(32, activation='relu'))\n",
        "model2.add(Dense(32, activation='relu'))\n",
        "model2.add(Dense(32, activation='relu'))\n",
        "\n",
        "# Output\n",
        "model2.add(Dense(3, activation='softmax'))\n",
        "\n",
        "model2.compile(\n",
        "    optimizer=\"adam\",\n",
        "    loss=\"categorical_crossentropy\",\n",
        "    metrics=['accuracy']\n",
        ")\n",
        "h = model2.fit(train_ds,\n",
        "               validation_data=val_ds,\n",
        "               callbacks = [es],\n",
        "               epochs=20)"
      ],
      "metadata": {
        "id": "sj4OuYi0_DeI",
        "colab": {
          "base_uri": "https://localhost:8080/"
        },
        "outputId": "ebafcd20-d018-4605-e201-1f00726b3d2b"
      },
      "execution_count": 13,
      "outputs": [
        {
          "output_type": "stream",
          "name": "stdout",
          "text": [
            "Epoch 1/20\n",
            "54/54 [==============================] - 7s 91ms/step - loss: 0.6762 - accuracy: 0.7033 - val_loss: 0.6093 - val_accuracy: 0.7233\n",
            "Epoch 2/20\n",
            "54/54 [==============================] - 5s 92ms/step - loss: 0.2558 - accuracy: 0.9007 - val_loss: 0.2283 - val_accuracy: 0.9163\n",
            "Epoch 3/20\n",
            "54/54 [==============================] - 5s 88ms/step - loss: 0.1287 - accuracy: 0.9524 - val_loss: 0.2136 - val_accuracy: 0.9372\n",
            "Epoch 4/20\n",
            "54/54 [==============================] - 5s 88ms/step - loss: 0.0666 - accuracy: 0.9791 - val_loss: 0.1527 - val_accuracy: 0.9465\n",
            "Epoch 5/20\n",
            "54/54 [==============================] - 5s 89ms/step - loss: 0.0963 - accuracy: 0.9640 - val_loss: 0.1852 - val_accuracy: 0.9372\n",
            "Epoch 6/20\n",
            "54/54 [==============================] - 5s 88ms/step - loss: 0.0266 - accuracy: 0.9925 - val_loss: 0.2677 - val_accuracy: 0.9070\n",
            "Epoch 7/20\n",
            "54/54 [==============================] - 5s 88ms/step - loss: 0.0312 - accuracy: 0.9884 - val_loss: 0.2292 - val_accuracy: 0.9233\n",
            "Epoch 8/20\n",
            "54/54 [==============================] - 5s 88ms/step - loss: 0.0273 - accuracy: 0.9919 - val_loss: 0.1875 - val_accuracy: 0.9326\n",
            "Epoch 9/20\n",
            "54/54 [==============================] - 5s 86ms/step - loss: 0.0188 - accuracy: 0.9930 - val_loss: 0.2064 - val_accuracy: 0.9535\n"
          ]
        }
      ]
    },
    {
      "cell_type": "code",
      "source": [
        "y_true_classes, y_pred_classes = model_preds(model2)\n",
        "\n",
        "cm = confusion_matrix(y_true_classes, y_pred_classes)\n",
        "\n",
        "fig, ax = plt.subplots(figsize=(12, 5))\n",
        "\n",
        "sns.heatmap(cm, annot=True, fmt='d')\n",
        "\n",
        "ax.set_yticklabels(['Early Blight', 'Late Blight', 'Healthy'], rotation=0, va=\"center\")\n",
        "ax.set_xticklabels(['Early Blight', 'Late Blight', 'Healthy'], rotation=0, ha=\"center\")\n",
        "\n",
        "plt.xlabel('Predicted')\n",
        "plt.ylabel('Truth')\n",
        "plt.show()"
      ],
      "metadata": {
        "id": "45LglgpA_DgQ",
        "colab": {
          "base_uri": "https://localhost:8080/",
          "height": 482
        },
        "outputId": "280886a7-50b8-40de-db29-2b6e77a2b781"
      },
      "execution_count": 14,
      "outputs": [
        {
          "output_type": "stream",
          "name": "stdout",
          "text": [
            "14/14 [==============================] - 1s 67ms/step\n"
          ]
        },
        {
          "output_type": "display_data",
          "data": {
            "text/plain": [
              "<Figure size 1200x500 with 2 Axes>"
            ],
            "image/png": "[encoded data removed]"
          },
          "metadata": {}
        }
      ]
    },
    {
      "cell_type": "code",
      "source": [
        "report = classification_report(y_true_classes, y_pred_classes, target_names=val_ds.class_indices.keys())\n",
        "print(report)"
      ],
      "metadata": {
        "id": "SffdhoPg_DiV",
        "colab": {
          "base_uri": "https://localhost:8080/"
        },
        "outputId": "9e945183-916e-4c56-f68d-6befb37212ae"
      },
      "execution_count": 15,
      "outputs": [
        {
          "output_type": "stream",
          "name": "stdout",
          "text": [
            "                       precision    recall  f1-score   support\n",
            "\n",
            "Potato___Early_blight       0.97      0.96      0.97       200\n",
            " Potato___Late_blight       0.93      0.97      0.95       200\n",
            "     Potato___healthy       0.96      0.80      0.87        30\n",
            "\n",
            "             accuracy                           0.95       430\n",
            "            macro avg       0.96      0.91      0.93       430\n",
            "         weighted avg       0.95      0.95      0.95       430\n",
            "\n"
          ]
        }
      ]
    },
    {
      "cell_type": "markdown",
      "source": [
        "The test accuracy got better, so that's good. Now let's try adding a dropout layer."
      ],
      "metadata": {
        "id": "mEXY5h7YGA0P"
      }
    },
    {
      "cell_type": "code",
      "source": [
        "es = EarlyStopping(patience = 5)\n",
        "\n",
        "model3 = Sequential()\n",
        "\n",
        "model3.add(layers.Input(shape=(256,256,3)))\n",
        "model3.add(layers.Rescaling(1./255))\n",
        "\n",
        "# Convolutional and pooling layers\n",
        "model3.add(Conv2D(64, (3,3), activation='relu'))\n",
        "model3.add(MaxPooling2D(pool_size=(2,2)))\n",
        "\n",
        "model3.add(Conv2D(64, (3,3), activation='relu'))\n",
        "model3.add(MaxPooling2D(pool_size=(2,2)))\n",
        "\n",
        "model3.add(Flatten())\n",
        "\n",
        "# Dense Layers\n",
        "model3.add(Dense(32, activation='relu'))\n",
        "model3.add(Dense(32, activation='relu'))\n",
        "model3.add(Dense(32, activation='relu'))\n",
        "model3.add(Dropout(0.5))\n",
        "\n",
        "# Output\n",
        "model3.add(Dense(3, activation='softmax'))\n",
        "\n",
        "model3.compile(\n",
        "    optimizer=\"adam\",\n",
        "    loss=\"categorical_crossentropy\",\n",
        "    metrics=['accuracy']\n",
        ")\n",
        "h = model3.fit(train_ds,\n",
        "               validation_data=val_ds,\n",
        "               callbacks = [es],\n",
        "               epochs=20)"
      ],
      "metadata": {
        "id": "LK4-NvwI_Dka",
        "colab": {
          "base_uri": "https://localhost:8080/"
        },
        "outputId": "17e74535-503d-4209-af21-78a3f86a912a"
      },
      "execution_count": 16,
      "outputs": [
        {
          "output_type": "stream",
          "name": "stdout",
          "text": [
            "Epoch 1/20\n",
            "54/54 [==============================] - 7s 91ms/step - loss: 1.2012 - accuracy: 0.4623 - val_loss: 0.8704 - val_accuracy: 0.7233\n",
            "Epoch 2/20\n",
            "54/54 [==============================] - 5s 88ms/step - loss: 0.7567 - accuracy: 0.7073 - val_loss: 0.5946 - val_accuracy: 0.8535\n",
            "Epoch 3/20\n",
            "54/54 [==============================] - 5s 88ms/step - loss: 0.5822 - accuracy: 0.8612 - val_loss: 0.5145 - val_accuracy: 0.8791\n",
            "Epoch 4/20\n",
            "54/54 [==============================] - 5s 89ms/step - loss: 0.4855 - accuracy: 0.8775 - val_loss: 0.4425 - val_accuracy: 0.8721\n",
            "Epoch 5/20\n",
            "54/54 [==============================] - 5s 88ms/step - loss: 0.4560 - accuracy: 0.8699 - val_loss: 0.3998 - val_accuracy: 0.8814\n",
            "Epoch 6/20\n",
            "54/54 [==============================] - 5s 88ms/step - loss: 0.3745 - accuracy: 0.8972 - val_loss: 0.3768 - val_accuracy: 0.8837\n",
            "Epoch 7/20\n",
            "54/54 [==============================] - 5s 88ms/step - loss: 0.3404 - accuracy: 0.9030 - val_loss: 0.4286 - val_accuracy: 0.8721\n",
            "Epoch 8/20\n",
            "54/54 [==============================] - 5s 89ms/step - loss: 0.3175 - accuracy: 0.9111 - val_loss: 0.3656 - val_accuracy: 0.8837\n",
            "Epoch 9/20\n",
            "54/54 [==============================] - 5s 88ms/step - loss: 0.3143 - accuracy: 0.9117 - val_loss: 0.3543 - val_accuracy: 0.8953\n",
            "Epoch 10/20\n",
            "54/54 [==============================] - 5s 87ms/step - loss: 0.3037 - accuracy: 0.9146 - val_loss: 0.4619 - val_accuracy: 0.8721\n",
            "Epoch 11/20\n",
            "54/54 [==============================] - 5s 88ms/step - loss: 0.2931 - accuracy: 0.9152 - val_loss: 0.3685 - val_accuracy: 0.8884\n",
            "Epoch 12/20\n",
            "54/54 [==============================] - 5s 86ms/step - loss: 0.2826 - accuracy: 0.9175 - val_loss: 0.4086 - val_accuracy: 0.8907\n",
            "Epoch 13/20\n",
            "54/54 [==============================] - 5s 85ms/step - loss: 0.2693 - accuracy: 0.9210 - val_loss: 0.3949 - val_accuracy: 0.8907\n",
            "Epoch 14/20\n",
            "54/54 [==============================] - 5s 89ms/step - loss: 0.2592 - accuracy: 0.9233 - val_loss: 0.3941 - val_accuracy: 0.8953\n"
          ]
        }
      ]
    },
    {
      "cell_type": "code",
      "source": [
        "y_true_classes, y_pred_classes = model_preds(model3)\n",
        "\n",
        "cm = confusion_matrix(y_true_classes, y_pred_classes)\n",
        "\n",
        "fig, ax = plt.subplots(figsize=(12, 5))\n",
        "\n",
        "sns.heatmap(cm, annot=True, fmt='d')\n",
        "\n",
        "ax.set_yticklabels(['Early Blight', 'Late Blight', 'Healthy'], rotation=0, va=\"center\")\n",
        "ax.set_xticklabels(['Early Blight', 'Late Blight', 'Healthy'], rotation=0, ha=\"center\")\n",
        "\n",
        "plt.xlabel('Predicted')\n",
        "plt.ylabel('Truth')\n",
        "plt.show()"
      ],
      "metadata": {
        "colab": {
          "base_uri": "https://localhost:8080/",
          "height": 482
        },
        "id": "svIv4bop3xPD",
        "outputId": "3f7482a5-ab79-47d7-a10f-8754dfef44fd"
      },
      "execution_count": 17,
      "outputs": [
        {
          "output_type": "stream",
          "name": "stdout",
          "text": [
            "14/14 [==============================] - 1s 69ms/step\n"
          ]
        },
        {
          "output_type": "display_data",
          "data": {
            "text/plain": [
              "<Figure size 1200x500 with 2 Axes>"
            ],
            "image/png": "[encoded data removed]"
          },
          "metadata": {}
        }
      ]
    },
    {
      "cell_type": "code",
      "source": [
        "report = classification_report(y_true_classes, y_pred_classes, target_names=val_ds.class_indices.keys())\n",
        "print(report)"
      ],
      "metadata": {
        "colab": {
          "base_uri": "https://localhost:8080/"
        },
        "id": "NMhllA2FAbFS",
        "outputId": "8e5ec9a9-03ec-4633-ac56-ed23f34f44fd"
      },
      "execution_count": 18,
      "outputs": [
        {
          "output_type": "stream",
          "name": "stdout",
          "text": [
            "                       precision    recall  f1-score   support\n",
            "\n",
            "Potato___Early_blight       0.97      0.95      0.96       200\n",
            " Potato___Late_blight       0.83      0.97      0.90       200\n",
            "     Potato___healthy       0.00      0.00      0.00        30\n",
            "\n",
            "             accuracy                           0.90       430\n",
            "            macro avg       0.60      0.64      0.62       430\n",
            "         weighted avg       0.84      0.90      0.86       430\n",
            "\n"
          ]
        },
        {
          "output_type": "stream",
          "name": "stderr",
          "text": [
            "/usr/local/lib/python3.10/dist-packages/sklearn/metrics/_classification.py:1344: UndefinedMetricWarning: Precision and F-score are ill-defined and being set to 0.0 in labels with no predicted samples. Use `zero_division` parameter to control this behavior.\n",
            "  _warn_prf(average, modifier, msg_start, len(result))\n",
            "/usr/local/lib/python3.10/dist-packages/sklearn/metrics/_classification.py:1344: UndefinedMetricWarning: Precision and F-score are ill-defined and being set to 0.0 in labels with no predicted samples. Use `zero_division` parameter to control this behavior.\n",
            "  _warn_prf(average, modifier, msg_start, len(result))\n",
            "/usr/local/lib/python3.10/dist-packages/sklearn/metrics/_classification.py:1344: UndefinedMetricWarning: Precision and F-score are ill-defined and being set to 0.0 in labels with no predicted samples. Use `zero_division` parameter to control this behavior.\n",
            "  _warn_prf(average, modifier, msg_start, len(result))\n"
          ]
        }
      ]
    },
    {
      "cell_type": "markdown",
      "source": [
        "The test accuracy went down, so we will not choose this model over model 2. Let's add another convolutional layer and see what happens."
      ],
      "metadata": {
        "id": "y0zWTjiGGSvx"
      }
    },
    {
      "cell_type": "code",
      "source": [
        "es = EarlyStopping(patience = 5)\n",
        "\n",
        "model4 = Sequential()\n",
        "\n",
        "model4.add(layers.Input(shape=(256,256,3)))\n",
        "model4.add(layers.Rescaling(1./255))\n",
        "\n",
        "# Convolutional and pooling layers\n",
        "model4.add(Conv2D(64, (3,3), activation='relu'))\n",
        "model4.add(MaxPooling2D(pool_size=(2,2)))\n",
        "\n",
        "model4.add(Conv2D(64, (3,3), activation='relu'))\n",
        "model4.add(MaxPooling2D(pool_size=(2,2)))\n",
        "\n",
        "model4.add(Conv2D(64, (3,3), activation='relu'))\n",
        "model4.add(MaxPooling2D(pool_size=(2,2)))\n",
        "\n",
        "model4.add(Flatten())\n",
        "\n",
        "# Dense Layers\n",
        "model4.add(Dense(64, activation='relu'))\n",
        "\n",
        "# Output\n",
        "model4.add(Dense(3, activation='softmax'))\n",
        "\n",
        "model4.compile(\n",
        "    optimizer=\"adam\",\n",
        "    loss=\"categorical_crossentropy\",\n",
        "    metrics=['accuracy']\n",
        ")\n",
        "\n",
        "h = model4.fit(train_ds,\n",
        "               validation_data=val_ds,\n",
        "               callbacks = [es],\n",
        "               epochs=20)\n",
        "     "
      ],
      "metadata": {
        "id": "Hy5tHVaM_Do4",
        "colab": {
          "base_uri": "https://localhost:8080/"
        },
        "outputId": "16974728-d209-49cf-9397-ffa256d833b6"
      },
      "execution_count": 19,
      "outputs": [
        {
          "output_type": "stream",
          "name": "stdout",
          "text": [
            "Epoch 1/20\n",
            "54/54 [==============================] - 7s 96ms/step - loss: 0.7232 - accuracy: 0.6911 - val_loss: 0.4268 - val_accuracy: 0.8535\n",
            "Epoch 2/20\n",
            "54/54 [==============================] - 5s 87ms/step - loss: 0.3758 - accuracy: 0.8595 - val_loss: 0.3134 - val_accuracy: 0.8791\n",
            "Epoch 3/20\n",
            "54/54 [==============================] - 5s 91ms/step - loss: 0.2349 - accuracy: 0.9141 - val_loss: 0.2240 - val_accuracy: 0.9023\n",
            "Epoch 4/20\n",
            "54/54 [==============================] - 5s 87ms/step - loss: 0.1786 - accuracy: 0.9321 - val_loss: 0.1727 - val_accuracy: 0.9302\n",
            "Epoch 5/20\n",
            "54/54 [==============================] - 5s 88ms/step - loss: 0.0903 - accuracy: 0.9727 - val_loss: 0.2059 - val_accuracy: 0.9349\n",
            "Epoch 6/20\n",
            "54/54 [==============================] - 5s 87ms/step - loss: 0.0902 - accuracy: 0.9640 - val_loss: 0.1794 - val_accuracy: 0.9349\n",
            "Epoch 7/20\n",
            "54/54 [==============================] - 5s 89ms/step - loss: 0.0430 - accuracy: 0.9861 - val_loss: 0.2377 - val_accuracy: 0.9419\n",
            "Epoch 8/20\n",
            "54/54 [==============================] - 5s 89ms/step - loss: 0.0451 - accuracy: 0.9849 - val_loss: 0.2317 - val_accuracy: 0.9279\n",
            "Epoch 9/20\n",
            "54/54 [==============================] - 5s 87ms/step - loss: 0.0438 - accuracy: 0.9866 - val_loss: 0.1597 - val_accuracy: 0.9395\n",
            "Epoch 10/20\n",
            "54/54 [==============================] - 5s 87ms/step - loss: 0.0187 - accuracy: 0.9954 - val_loss: 0.1833 - val_accuracy: 0.9581\n",
            "Epoch 11/20\n",
            "54/54 [==============================] - 5s 86ms/step - loss: 0.0079 - accuracy: 0.9977 - val_loss: 0.1756 - val_accuracy: 0.9535\n",
            "Epoch 12/20\n",
            "54/54 [==============================] - 5s 87ms/step - loss: 0.0028 - accuracy: 1.0000 - val_loss: 0.2580 - val_accuracy: 0.9512\n",
            "Epoch 13/20\n",
            "54/54 [==============================] - 5s 87ms/step - loss: 0.0012 - accuracy: 1.0000 - val_loss: 0.2067 - val_accuracy: 0.9558\n",
            "Epoch 14/20\n",
            "54/54 [==============================] - 5s 86ms/step - loss: 0.0012 - accuracy: 1.0000 - val_loss: 0.1906 - val_accuracy: 0.9465\n"
          ]
        }
      ]
    },
    {
      "cell_type": "code",
      "source": [
        "y_true_classes, y_pred_classes = model_preds(model4)\n",
        "\n",
        "cm = confusion_matrix(y_true_classes, y_pred_classes)\n",
        "\n",
        "fig, ax = plt.subplots(figsize=(12, 5))\n",
        "\n",
        "sns.heatmap(cm, annot=True, fmt='d')\n",
        "\n",
        "ax.set_yticklabels(['Early Blight', 'Late Blight', 'Healthy'], rotation=0, va=\"center\")\n",
        "ax.set_xticklabels(['Early Blight', 'Late Blight', 'Healthy'], rotation=0, ha=\"center\")\n",
        "\n",
        "plt.xlabel('Predicted')\n",
        "plt.ylabel('Truth')\n",
        "plt.show()"
      ],
      "metadata": {
        "id": "Y2Ec5lAy_Dq0",
        "colab": {
          "base_uri": "https://localhost:8080/",
          "height": 482
        },
        "outputId": "6f4e6a85-80f1-43bf-9c92-ebec8ee1487a"
      },
      "execution_count": 20,
      "outputs": [
        {
          "output_type": "stream",
          "name": "stdout",
          "text": [
            "14/14 [==============================] - 1s 66ms/step\n"
          ]
        },
        {
          "output_type": "display_data",
          "data": {
            "text/plain": [
              "<Figure size 1200x500 with 2 Axes>"
            ],
            "image/png": "[encoded data removed]"
          },
          "metadata": {}
        }
      ]
    },
    {
      "cell_type": "code",
      "execution_count": 21,
      "metadata": {
        "id": "huyB7N327J7q",
        "colab": {
          "base_uri": "https://localhost:8080/"
        },
        "outputId": "0a631b9a-51e0-4904-a971-fadbeba43ab4"
      },
      "outputs": [
        {
          "output_type": "stream",
          "name": "stdout",
          "text": [
            "                       precision    recall  f1-score   support\n",
            "\n",
            "Potato___Early_blight       0.96      0.97      0.97       200\n",
            " Potato___Late_blight       0.94      0.95      0.95       200\n",
            "     Potato___healthy       0.88      0.77      0.82        30\n",
            "\n",
            "             accuracy                           0.95       430\n",
            "            macro avg       0.93      0.90      0.91       430\n",
            "         weighted avg       0.95      0.95      0.95       430\n",
            "\n"
          ]
        }
      ],
      "source": [
        "report = classification_report(y_true_classes, y_pred_classes, target_names=val_ds.class_indices.keys())\n",
        "print(report)"
      ]
    },
    {
      "cell_type": "markdown",
      "source": [
        "This model does well but still not better than model 2. Let's see if using only one convolutional layer does better than 2 convolutional layers."
      ],
      "metadata": {
        "id": "RHtfdX5LGrpQ"
      }
    },
    {
      "cell_type": "code",
      "source": [
        "es = EarlyStopping(patience = 5)\n",
        "\n",
        "model5 = Sequential()\n",
        "\n",
        "model5.add(layers.Input(shape=(256,256,3)))\n",
        "model5.add(layers.Rescaling(1./255))\n",
        "\n",
        "# Convolutional and pooling layers\n",
        "model5.add(Conv2D(64, (3,3), activation='relu'))\n",
        "model5.add(MaxPooling2D(pool_size=(2,2)))\n",
        "\n",
        "model5.add(Flatten())\n",
        "\n",
        "# Dense Layers\n",
        "model5.add(Dense(64, activation='relu'))\n",
        "\n",
        "# Output\n",
        "model5.add(Dense(3, activation='softmax'))\n",
        "\n",
        "model5.compile(\n",
        "    optimizer=\"adam\",\n",
        "    loss=\"categorical_crossentropy\",\n",
        "    metrics=['accuracy']\n",
        ")\n",
        "\n",
        "h = model5.fit(train_ds,\n",
        "               validation_data=val_ds,\n",
        "               callbacks = [es],\n",
        "               epochs=20)"
      ],
      "metadata": {
        "id": "Y59cUr7w_BL9",
        "colab": {
          "base_uri": "https://localhost:8080/"
        },
        "outputId": "44832fad-c837-4535-c511-10f73492f856"
      },
      "execution_count": 22,
      "outputs": [
        {
          "output_type": "stream",
          "name": "stdout",
          "text": [
            "Epoch 1/20\n",
            "54/54 [==============================] - 6s 90ms/step - loss: 5.1360 - accuracy: 0.6719 - val_loss: 0.4332 - val_accuracy: 0.8442\n",
            "Epoch 2/20\n",
            "54/54 [==============================] - 5s 86ms/step - loss: 0.1960 - accuracy: 0.9338 - val_loss: 0.2482 - val_accuracy: 0.9070\n",
            "Epoch 3/20\n",
            "54/54 [==============================] - 5s 86ms/step - loss: 0.0522 - accuracy: 0.9895 - val_loss: 0.2376 - val_accuracy: 0.9093\n",
            "Epoch 4/20\n",
            "54/54 [==============================] - 5s 88ms/step - loss: 0.0169 - accuracy: 0.9971 - val_loss: 0.2410 - val_accuracy: 0.9093\n",
            "Epoch 5/20\n",
            "54/54 [==============================] - 5s 90ms/step - loss: 0.0035 - accuracy: 1.0000 - val_loss: 0.2145 - val_accuracy: 0.9233\n",
            "Epoch 6/20\n",
            "54/54 [==============================] - 5s 88ms/step - loss: 0.0022 - accuracy: 1.0000 - val_loss: 0.1788 - val_accuracy: 0.9488\n",
            "Epoch 7/20\n",
            "54/54 [==============================] - 5s 87ms/step - loss: 9.4927e-04 - accuracy: 1.0000 - val_loss: 0.1759 - val_accuracy: 0.9558\n",
            "Epoch 8/20\n",
            "54/54 [==============================] - 5s 87ms/step - loss: 6.8668e-04 - accuracy: 1.0000 - val_loss: 0.2016 - val_accuracy: 0.9465\n",
            "Epoch 9/20\n",
            "54/54 [==============================] - 5s 88ms/step - loss: 5.5914e-04 - accuracy: 1.0000 - val_loss: 0.1870 - val_accuracy: 0.9488\n",
            "Epoch 10/20\n",
            "54/54 [==============================] - 5s 87ms/step - loss: 3.6200e-04 - accuracy: 1.0000 - val_loss: 0.1536 - val_accuracy: 0.9674\n",
            "Epoch 11/20\n",
            "54/54 [==============================] - 5s 86ms/step - loss: 2.6108e-04 - accuracy: 1.0000 - val_loss: 0.1771 - val_accuracy: 0.9605\n",
            "Epoch 12/20\n",
            "54/54 [==============================] - 5s 88ms/step - loss: 1.8174e-04 - accuracy: 1.0000 - val_loss: 0.1884 - val_accuracy: 0.9581\n",
            "Epoch 13/20\n",
            "54/54 [==============================] - 5s 88ms/step - loss: 1.3184e-04 - accuracy: 1.0000 - val_loss: 0.2028 - val_accuracy: 0.9558\n",
            "Epoch 14/20\n",
            "54/54 [==============================] - 5s 88ms/step - loss: 1.0009e-04 - accuracy: 1.0000 - val_loss: 0.2132 - val_accuracy: 0.9535\n",
            "Epoch 15/20\n",
            "54/54 [==============================] - 5s 91ms/step - loss: 7.1280e-05 - accuracy: 1.0000 - val_loss: 0.2199 - val_accuracy: 0.9442\n"
          ]
        }
      ]
    },
    {
      "cell_type": "code",
      "source": [
        "y_true_classes, y_pred_classes = model_preds(model5)\n",
        "\n",
        "cm = confusion_matrix(y_true_classes, y_pred_classes)\n",
        "\n",
        "fig, ax = plt.subplots(figsize=(12, 5))\n",
        "\n",
        "sns.heatmap(cm, annot=True, fmt='d')\n",
        "\n",
        "ax.set_yticklabels(['Early Blight', 'Late Blight', 'Healthy'], rotation=0, va=\"center\")\n",
        "ax.set_xticklabels(['Early Blight', 'Late Blight', 'Healthy'], rotation=0, ha=\"center\")\n",
        "\n",
        "plt.xlabel('Predicted')\n",
        "plt.ylabel('Truth')\n",
        "plt.show()"
      ],
      "metadata": {
        "colab": {
          "base_uri": "https://localhost:8080/",
          "height": 482
        },
        "id": "mQH6mgRHB2J4",
        "outputId": "b4346199-3c81-4091-de4c-4fc25971baba"
      },
      "execution_count": 23,
      "outputs": [
        {
          "output_type": "stream",
          "name": "stdout",
          "text": [
            "14/14 [==============================] - 1s 67ms/step\n"
          ]
        },
        {
          "output_type": "display_data",
          "data": {
            "text/plain": [
              "<Figure size 1200x500 with 2 Axes>"
            ],
            "image/png": "[encoded data removed]"
          },
          "metadata": {}
        }
      ]
    },
    {
      "cell_type": "code",
      "source": [
        "report = classification_report(y_true_classes, y_pred_classes, target_names=val_ds.class_indices.keys())\n",
        "print(report)"
      ],
      "metadata": {
        "colab": {
          "base_uri": "https://localhost:8080/"
        },
        "id": "P3iWmjNqB9W2",
        "outputId": "6c78971e-a416-4023-f39d-68a444e55637"
      },
      "execution_count": 24,
      "outputs": [
        {
          "output_type": "stream",
          "name": "stdout",
          "text": [
            "                       precision    recall  f1-score   support\n",
            "\n",
            "Potato___Early_blight       0.99      0.94      0.97       200\n",
            " Potato___Late_blight       0.90      0.99      0.94       200\n",
            "     Potato___healthy       1.00      0.63      0.78        30\n",
            "\n",
            "             accuracy                           0.94       430\n",
            "            macro avg       0.96      0.86      0.90       430\n",
            "         weighted avg       0.95      0.94      0.94       430\n",
            "\n"
          ]
        }
      ]
    },
    {
      "cell_type": "markdown",
      "source": [
        "This did not do better than model 2."
      ],
      "metadata": {
        "id": "E7ed20qcHOCr"
      }
    },
    {
      "cell_type": "markdown",
      "source": [
        "----\n",
        "## Conclusion \n",
        "### Best Model: Model 2"
      ],
      "metadata": {
        "id": "s-m4j5u8H2Bf"
      }
    },
    {
      "cell_type": "markdown",
      "source": [
        "Model 2 does well on the testing data when looking at accuracy, however, it's kind of misleading. We have a really bad imbalanced class issue with the lack of images of health plants. The model can be really bad at classifying healthy plants but would still be able to get good accuracy scores. Recall scores on healthy plants on all the models. \n",
        "\n",
        "The next goal is to make our model stronger by fixing class imbalances present, so we have a better indication of what makes a plant healthy. This would hopefully improve the healthy plant recall scores and make better models. We could do this by trying to gather more images of potato plant leaves, and by trying to add create more data by saving and adding in augmentations. Augmentations is something we would've have looked into more if the time permitted."
      ],
      "metadata": {
        "id": "IL2Wmm2kH_3C"
      }
    }
  ],
  "metadata": {
    "accelerator": "GPU",
    "colab": {
      "provenance": [],
      "gpuType": "A100"
    },
    "gpuClass": "standard",
    "kernelspec": {
      "display_name": "Python 3",
      "name": "python3"
    },
    "language_info": {
      "name": "python"
    }
  },
  "nbformat": 4,
  "nbformat_minor": 0
}