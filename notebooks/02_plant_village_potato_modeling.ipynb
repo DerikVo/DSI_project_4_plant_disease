{
  "cells": [
    {
      "cell_type": "markdown",
      "metadata": {
        "id": "4wiAqVWn3w2e"
      },
      "source": [
        "# Potato Plant Modelling"
      ]
    },
    {
      "cell_type": "code",
      "execution_count": null,
      "metadata": {
        "id": "q0VQpQmo3V3q"
      },
      "outputs": [],
      "source": [
        "# imports\n",
        "import matplotlib.pyplot as plt\n",
        "import numpy as np\n",
        "import os\n",
        "import pandas as pd\n",
        "import seaborn as sns\n",
        "\n",
        "from tensorflow.keras.layers import Dense, Dropout, Flatten, Conv2D, MaxPooling2D\n",
        "from tensorflow.keras.regularizers import l2\n",
        "from tensorflow.keras.callbacks import EarlyStopping\n",
        "from tensorflow.keras.models import Sequential\n",
        "from tensorflow.keras.preprocessing.image import ImageDataGenerator\n",
        "from tensorflow.keras import layers\n",
        "\n",
        "from sklearn.model_selection import train_test_split\n",
        "from sklearn.metrics import confusion_matrix, classification_report"
      ]
    },
    {
      "cell_type": "code",
      "source": [
        "from numpy.random import seed\n",
        "seed(1)\n",
        "from tensorflow.keras.utils import set_random_seed\n",
        "set_random_seed(1)"
      ],
      "metadata": {
        "id": "Da48PGZZG2iA"
      },
      "execution_count": null,
      "outputs": []
    },
    {
      "cell_type": "code",
      "source": [
        "from google.colab import drive\n",
        "drive.mount('/content/drive')"
      ],
      "metadata": {
        "colab": {
          "base_uri": "https://localhost:8080/"
        },
        "id": "pi1huuqLQvaL",
        "outputId": "17f4fb98-d6a5-4b95-897b-8b31a7d26998"
      },
      "execution_count": null,
      "outputs": [
        {
          "output_type": "stream",
          "name": "stdout",
          "text": [
            "Drive already mounted at /content/drive; to attempt to forcibly remount, call drive.mount(\"/content/drive\", force_remount=True).\n"
          ]
        }
      ]
    },
    {
      "cell_type": "code",
      "execution_count": null,
      "metadata": {
        "id": "ByqYzKd-4ohi"
      },
      "outputs": [],
      "source": [
        "!unzip -q /content/drive/MyDrive/datasets/Potato.zip"
      ]
    },
    {
      "cell_type": "code",
      "execution_count": null,
      "metadata": {
        "colab": {
          "base_uri": "https://localhost:8080/"
        },
        "id": "NFrXyUR-3eVK",
        "outputId": "c76ede95-4e0a-46ab-a373-c4141aad9672"
      },
      "outputs": [
        {
          "output_type": "stream",
          "name": "stdout",
          "text": [
            "Found 1722 images belonging to 3 classes.\n",
            "Found 430 images belonging to 3 classes.\n"
          ]
        }
      ],
      "source": [
        "datagen = ImageDataGenerator(validation_split=0.2)\n",
        "\n",
        "# get training data\n",
        "train_ds = datagen.flow_from_directory(\n",
        "    '/content/Potato',\n",
        "    target_size=(256, 256),\n",
        "    batch_size=32,\n",
        "    class_mode='categorical',\n",
        "    subset='training',  # set as training data\n",
        "    seed=42\n",
        ")\n",
        "\n",
        "# get validation data\n",
        "val_ds = datagen.flow_from_directory(\n",
        "    '/content/Potato',\n",
        "    target_size=(256, 256),\n",
        "    batch_size=32,\n",
        "    class_mode='categorical',\n",
        "    subset='validation',  # set as validation data\n",
        "    seed=42,\n",
        "    shuffle= False\n",
        ")"
      ]
    },
    {
      "cell_type": "code",
      "source": [
        "train_ds.class_indices"
      ],
      "metadata": {
        "colab": {
          "base_uri": "https://localhost:8080/"
        },
        "id": "mDofSmcBShHs",
        "outputId": "8a727283-2566-42e5-f031-ab1fba6de4c5"
      },
      "execution_count": null,
      "outputs": [
        {
          "output_type": "execute_result",
          "data": {
            "text/plain": [
              "{'Potato_Early_blight': 0, 'Potato_Late_blight': 1, 'Potato_healthy': 2}"
            ]
          },
          "metadata": {},
          "execution_count": 15
        }
      ]
    },
    {
      "cell_type": "markdown",
      "source": [
        "## Creating models and evaluating"
      ],
      "metadata": {
        "id": "yrFbxHtlEDRf"
      }
    },
    {
      "cell_type": "code",
      "source": [
        "es = EarlyStopping(patience = 5)\n",
        "\n",
        "model1 = Sequential()\n",
        "\n",
        "model1.add(layers.Input(shape=(256,256,3)))\n",
        "model1.add(layers.Rescaling(1./255))\n",
        "\n",
        "# Convolutional and pooling layers\n",
        "model1.add(Conv2D(64, (3,3), activation='relu'))\n",
        "model1.add(MaxPooling2D(pool_size=(2,2)))\n",
        "\n",
        "model1.add(Conv2D(64, (3,3), activation='relu'))\n",
        "model1.add(MaxPooling2D(pool_size=(2,2)))\n",
        "\n",
        "model1.add(Flatten())\n",
        "\n",
        "# Dense Layers\n",
        "model1.add(Dense(64, activation='relu'))\n",
        "\n",
        "# Output\n",
        "model1.add(Dense(3, activation='softmax'))\n",
        "\n",
        "model1.compile(\n",
        "    optimizer=\"adam\",\n",
        "    loss=\"categorical_crossentropy\",\n",
        "    metrics=['accuracy']\n",
        ")"
      ],
      "metadata": {
        "id": "wFgWV6lFpVPT"
      },
      "execution_count": null,
      "outputs": []
    },
    {
      "cell_type": "code",
      "source": [
        "model1.input_shape"
      ],
      "metadata": {
        "colab": {
          "base_uri": "https://localhost:8080/"
        },
        "id": "MLCzvvruR__K",
        "outputId": "87066321-603d-4404-f907-6212fddba195"
      },
      "execution_count": null,
      "outputs": [
        {
          "output_type": "execute_result",
          "data": {
            "text/plain": [
              "(None, 256, 256, 3)"
            ]
          },
          "metadata": {},
          "execution_count": 17
        }
      ]
    },
    {
      "cell_type": "code",
      "source": [
        "model1.summary()"
      ],
      "metadata": {
        "colab": {
          "base_uri": "https://localhost:8080/"
        },
        "id": "4ZBd-PxxSBc_",
        "outputId": "13bcacd1-8665-4851-d8d4-488d8db6a4f5"
      },
      "execution_count": null,
      "outputs": [
        {
          "output_type": "stream",
          "name": "stdout",
          "text": [
            "Model: \"sequential\"\n",
            "_________________________________________________________________\n",
            " Layer (type)                Output Shape              Param #   \n",
            "=================================================================\n",
            " rescaling (Rescaling)       (None, 256, 256, 3)       0         \n",
            "                                                                 \n",
            " conv2d (Conv2D)             (None, 254, 254, 64)      1792      \n",
            "                                                                 \n",
            " max_pooling2d (MaxPooling2D  (None, 127, 127, 64)     0         \n",
            " )                                                               \n",
            "                                                                 \n",
            " conv2d_1 (Conv2D)           (None, 125, 125, 64)      36928     \n",
            "                                                                 \n",
            " max_pooling2d_1 (MaxPooling  (None, 62, 62, 64)       0         \n",
            " 2D)                                                             \n",
            "                                                                 \n",
            " flatten (Flatten)           (None, 246016)            0         \n",
            "                                                                 \n",
            " dense (Dense)               (None, 64)                15745088  \n",
            "                                                                 \n",
            " dense_1 (Dense)             (None, 3)                 195       \n",
            "                                                                 \n",
            "=================================================================\n",
            "Total params: 15,784,003\n",
            "Trainable params: 15,784,003\n",
            "Non-trainable params: 0\n",
            "_________________________________________________________________\n"
          ]
        }
      ]
    },
    {
      "cell_type": "code",
      "execution_count": null,
      "metadata": {
        "colab": {
          "base_uri": "https://localhost:8080/"
        },
        "id": "1euSFn2q3-Pk",
        "outputId": "e8e0f4e0-3839-4539-9233-759f6deb9844"
      },
      "outputs": [
        {
          "output_type": "stream",
          "name": "stdout",
          "text": [
            "Epoch 1/10\n",
            "54/54 [==============================] - 19s 141ms/step - loss: 1.0938 - accuracy: 0.7346 - val_loss: 0.3602 - val_accuracy: 0.8674\n",
            "Epoch 2/10\n",
            "54/54 [==============================] - 6s 104ms/step - loss: 0.2175 - accuracy: 0.9193 - val_loss: 0.2146 - val_accuracy: 0.9302\n",
            "Epoch 3/10\n",
            "54/54 [==============================] - 7s 132ms/step - loss: 0.1211 - accuracy: 0.9547 - val_loss: 0.2544 - val_accuracy: 0.9186\n",
            "Epoch 4/10\n",
            "54/54 [==============================] - 6s 105ms/step - loss: 0.0677 - accuracy: 0.9768 - val_loss: 0.1737 - val_accuracy: 0.9419\n",
            "Epoch 5/10\n",
            "54/54 [==============================] - 8s 144ms/step - loss: 0.0159 - accuracy: 0.9959 - val_loss: 0.2042 - val_accuracy: 0.9442\n",
            "Epoch 6/10\n",
            "54/54 [==============================] - 7s 132ms/step - loss: 0.0049 - accuracy: 0.9994 - val_loss: 0.2626 - val_accuracy: 0.9372\n",
            "Epoch 7/10\n",
            "54/54 [==============================] - 6s 102ms/step - loss: 0.0063 - accuracy: 0.9983 - val_loss: 0.2198 - val_accuracy: 0.9326\n",
            "Epoch 8/10\n",
            "54/54 [==============================] - 7s 131ms/step - loss: 0.0030 - accuracy: 1.0000 - val_loss: 0.2736 - val_accuracy: 0.9442\n",
            "Epoch 9/10\n",
            "54/54 [==============================] - 6s 108ms/step - loss: 7.3998e-04 - accuracy: 1.0000 - val_loss: 0.2687 - val_accuracy: 0.9372\n",
            "Epoch 10/10\n",
            "54/54 [==============================] - 7s 132ms/step - loss: 4.2616e-04 - accuracy: 1.0000 - val_loss: 0.2689 - val_accuracy: 0.9395\n"
          ]
        }
      ],
      "source": [
        "h = model1.fit(train_ds, validation_data=val_ds, epochs= 10)"
      ]
    },
    {
      "cell_type": "markdown",
      "source": [
        "Prompted CHAT-GPT 4 to help grab the labels information from the validation dataset and get it into a numpy array, so that we can use that to make a confusion matrix."
      ],
      "metadata": {
        "id": "Bpyo6fADFqli"
      }
    },
    {
      "cell_type": "code",
      "source": [
        "def model_preds(model):\n",
        "  '''\n",
        "  This function will return the y_true_classes and y_pred_clasess\n",
        "  Which will allows us to build a confusion matrix\n",
        "  '''\n",
        "  \n",
        "  y_true_classes = val_ds.labels\n",
        "\n",
        "  y_pred_classes = model.predict(val_ds)\n",
        "\n",
        "  y_pred_classes = np.argmax(y_pred_classes, axis=1)\n",
        "\n",
        "  return (y_true_classes, y_pred_classes)"
      ],
      "metadata": {
        "id": "TpvQT0lmDZCZ"
      },
      "execution_count": null,
      "outputs": []
    },
    {
      "cell_type": "code",
      "source": [
        "y_true_classes, y_pred_classes = model_preds(model1)\n",
        "\n",
        "cm = confusion_matrix(y_true_classes, y_pred_classes)\n",
        "\n",
        "fig, ax = plt.subplots(figsize=(12, 5))\n",
        "\n",
        "sns.heatmap(cm, annot=True, fmt='d')\n",
        "\n",
        "ax.set_yticklabels(['Early Blight', 'Late Blight', 'Healthy'], rotation=0, va=\"center\")\n",
        "ax.set_xticklabels(['Early Blight', 'Late Blight', 'Healthy'], rotation=0, ha=\"center\")\n",
        "\n",
        "plt.xlabel('Predicted')\n",
        "plt.ylabel('Truth')\n",
        "plt.show()"
      ],
      "metadata": {
        "colab": {
          "base_uri": "https://localhost:8080/",
          "height": 482
        },
        "id": "dD2PjeaA_DXU",
        "outputId": "fe3159d9-fe21-47ef-d5d0-7f4fd5e69382"
      },
      "execution_count": null,
      "outputs": [
        {
          "output_type": "stream",
          "name": "stdout",
          "text": [
            "14/14 [==============================] - 1s 79ms/step\n"
          ]
        },
        {
          "output_type": "display_data",
          "data": {
            "text/plain": [
              "<Figure size 1200x500 with 2 Axes>"
            ],
            "image/png": "[encoded data removed]"
          },
          "metadata": {}
        }
      ]
    },
    {
      "cell_type": "code",
      "source": [
        "report = classification_report(y_true_classes, y_pred_classes, target_names=val_ds.class_indices.keys())\n",
        "print(report)"
      ],
      "metadata": {
        "colab": {
          "base_uri": "https://localhost:8080/"
        },
        "id": "0qrEIZ6tzSdz",
        "outputId": "eb3c8faa-24b2-47b8-9645-42697e39e644"
      },
      "execution_count": null,
      "outputs": [
        {
          "output_type": "stream",
          "name": "stdout",
          "text": [
            "                     precision    recall  f1-score   support\n",
            "\n",
            "Potato_Early_blight       0.97      0.94      0.96       200\n",
            " Potato_Late_blight       0.90      0.98      0.94       200\n",
            "     Potato_healthy       1.00      0.63      0.78        30\n",
            "\n",
            "           accuracy                           0.94       430\n",
            "          macro avg       0.96      0.85      0.89       430\n",
            "       weighted avg       0.94      0.94      0.94       430\n",
            "\n"
          ]
        }
      ]
    },
    {
      "cell_type": "markdown",
      "source": [
        "This model performs well, but let's add some more hidden layers and early stopping now. "
      ],
      "metadata": {
        "id": "zneg2K1DER-3"
      }
    },
    {
      "cell_type": "code",
      "source": [
        "es = EarlyStopping(patience = 5)\n",
        "\n",
        "model2 = Sequential()\n",
        "\n",
        "model2.add(layers.Input(shape=(256,256,3)))\n",
        "model2.add(layers.Rescaling(1./255))\n",
        "\n",
        "# Convolutional and pooling layers\n",
        "model2.add(Conv2D(64, (3,3), activation='relu'))\n",
        "model2.add(MaxPooling2D(pool_size=(2,2)))\n",
        "\n",
        "model2.add(Conv2D(64, (3,3), activation='relu'))\n",
        "model2.add(MaxPooling2D(pool_size=(2,2)))\n",
        "\n",
        "model2.add(Flatten())\n",
        "\n",
        "# Dense Layers\n",
        "model2.add(Dense(32, activation='relu'))\n",
        "model2.add(Dense(32, activation='relu'))\n",
        "model2.add(Dense(32, activation='relu'))\n",
        "\n",
        "# Output\n",
        "model2.add(Dense(3, activation='softmax'))\n",
        "\n",
        "model2.compile(\n",
        "    optimizer=\"adam\",\n",
        "    loss=\"categorical_crossentropy\",\n",
        "    metrics=['accuracy']\n",
        ")\n",
        "h = model2.fit(train_ds,\n",
        "               validation_data=val_ds,\n",
        "               callbacks = [es],\n",
        "               epochs=20)"
      ],
      "metadata": {
        "id": "sj4OuYi0_DeI",
        "colab": {
          "base_uri": "https://localhost:8080/"
        },
        "outputId": "2860e834-4b0b-4de4-c239-55184a01ac5c"
      },
      "execution_count": null,
      "outputs": [
        {
          "output_type": "stream",
          "name": "stdout",
          "text": [
            "Epoch 1/20\n",
            "54/54 [==============================] - 9s 116ms/step - loss: 0.7756 - accuracy: 0.7166 - val_loss: 0.3966 - val_accuracy: 0.8721\n",
            "Epoch 2/20\n",
            "54/54 [==============================] - 6s 108ms/step - loss: 0.2557 - accuracy: 0.9117 - val_loss: 0.1414 - val_accuracy: 0.9558\n",
            "Epoch 3/20\n",
            "54/54 [==============================] - 8s 142ms/step - loss: 0.1072 - accuracy: 0.9628 - val_loss: 0.1637 - val_accuracy: 0.9395\n",
            "Epoch 4/20\n",
            "54/54 [==============================] - 6s 102ms/step - loss: 0.0605 - accuracy: 0.9808 - val_loss: 0.2069 - val_accuracy: 0.9140\n",
            "Epoch 5/20\n",
            "54/54 [==============================] - 8s 148ms/step - loss: 0.0312 - accuracy: 0.9901 - val_loss: 0.1608 - val_accuracy: 0.9558\n",
            "Epoch 6/20\n",
            "54/54 [==============================] - 6s 112ms/step - loss: 0.2132 - accuracy: 0.9170 - val_loss: 0.2388 - val_accuracy: 0.9233\n",
            "Epoch 7/20\n",
            "54/54 [==============================] - 8s 149ms/step - loss: 0.0387 - accuracy: 0.9907 - val_loss: 0.2072 - val_accuracy: 0.9535\n"
          ]
        }
      ]
    },
    {
      "cell_type": "code",
      "source": [
        "y_true_classes, y_pred_classes = model_preds(model2)\n",
        "\n",
        "cm = confusion_matrix(y_true_classes, y_pred_classes)\n",
        "\n",
        "fig, ax = plt.subplots(figsize=(12, 5))\n",
        "\n",
        "sns.heatmap(cm, annot=True, fmt='d')\n",
        "\n",
        "ax.set_yticklabels(['Early Blight', 'Late Blight', 'Healthy'], rotation=0, va=\"center\")\n",
        "ax.set_xticklabels(['Early Blight', 'Late Blight', 'Healthy'], rotation=0, ha=\"center\")\n",
        "\n",
        "plt.xlabel('Predicted')\n",
        "plt.ylabel('Truth')\n",
        "plt.show()"
      ],
      "metadata": {
        "id": "45LglgpA_DgQ",
        "colab": {
          "base_uri": "https://localhost:8080/",
          "height": 482
        },
        "outputId": "b9af953b-e9ce-44a8-d0b2-12fdd414f7b1"
      },
      "execution_count": null,
      "outputs": [
        {
          "output_type": "stream",
          "name": "stdout",
          "text": [
            "14/14 [==============================] - 1s 80ms/step\n"
          ]
        },
        {
          "output_type": "display_data",
          "data": {
            "text/plain": [
              "<Figure size 1200x500 with 2 Axes>"
            ],
            "image/png": "[encoded data removed]"
          },
          "metadata": {}
        }
      ]
    },
    {
      "cell_type": "code",
      "source": [
        "report = classification_report(y_true_classes, y_pred_classes, target_names=val_ds.class_indices.keys())\n",
        "print(report)"
      ],
      "metadata": {
        "id": "SffdhoPg_DiV",
        "colab": {
          "base_uri": "https://localhost:8080/"
        },
        "outputId": "0ab8cf85-745c-4f11-a2dd-bdf7af10c16c"
      },
      "execution_count": null,
      "outputs": [
        {
          "output_type": "stream",
          "name": "stdout",
          "text": [
            "                     precision    recall  f1-score   support\n",
            "\n",
            "Potato_Early_blight       0.97      0.97      0.97       200\n",
            " Potato_Late_blight       0.94      0.97      0.95       200\n",
            "     Potato_healthy       1.00      0.73      0.85        30\n",
            "\n",
            "           accuracy                           0.95       430\n",
            "          macro avg       0.97      0.89      0.92       430\n",
            "       weighted avg       0.95      0.95      0.95       430\n",
            "\n"
          ]
        }
      ]
    },
    {
      "cell_type": "markdown",
      "source": [
        "The test accuracy got better, so that's good. Now let's try adding a dropout layer."
      ],
      "metadata": {
        "id": "mEXY5h7YGA0P"
      }
    },
    {
      "cell_type": "code",
      "source": [
        "es = EarlyStopping(patience = 5)\n",
        "\n",
        "model3 = Sequential()\n",
        "\n",
        "model3.add(layers.Input(shape=(256,256,3)))\n",
        "model3.add(layers.Rescaling(1./255))\n",
        "\n",
        "# Convolutional and pooling layers\n",
        "model3.add(Conv2D(64, (3,3), activation='relu'))\n",
        "model3.add(MaxPooling2D(pool_size=(2,2)))\n",
        "\n",
        "model3.add(Conv2D(64, (3,3), activation='relu'))\n",
        "model3.add(MaxPooling2D(pool_size=(2,2)))\n",
        "\n",
        "model3.add(Flatten())\n",
        "\n",
        "# Dense Layers\n",
        "model3.add(Dense(32, activation='relu'))\n",
        "model3.add(Dense(32, activation='relu'))\n",
        "model3.add(Dense(32, activation='relu'))\n",
        "model3.add(Dropout(0.5))\n",
        "\n",
        "# Output\n",
        "model3.add(Dense(3, activation='softmax'))\n",
        "\n",
        "model3.compile(\n",
        "    optimizer=\"adam\",\n",
        "    loss=\"categorical_crossentropy\",\n",
        "    metrics=['accuracy']\n",
        ")\n",
        "h = model3.fit(train_ds,\n",
        "               validation_data=val_ds,\n",
        "               callbacks = [es],\n",
        "               epochs=20)"
      ],
      "metadata": {
        "id": "LK4-NvwI_Dka",
        "colab": {
          "base_uri": "https://localhost:8080/"
        },
        "outputId": "d3ec5a10-d643-4dec-8864-807caf28e856"
      },
      "execution_count": null,
      "outputs": [
        {
          "output_type": "stream",
          "name": "stdout",
          "text": [
            "Epoch 1/20\n",
            "54/54 [==============================] - 10s 137ms/step - loss: 1.0446 - accuracy: 0.4988 - val_loss: 0.7598 - val_accuracy: 0.8000\n",
            "Epoch 2/20\n",
            "54/54 [==============================] - 6s 104ms/step - loss: 0.6011 - accuracy: 0.7631 - val_loss: 0.5143 - val_accuracy: 0.7837\n",
            "Epoch 3/20\n",
            "54/54 [==============================] - 8s 149ms/step - loss: 0.3963 - accuracy: 0.8583 - val_loss: 0.3701 - val_accuracy: 0.8907\n",
            "Epoch 4/20\n",
            "54/54 [==============================] - 6s 104ms/step - loss: 0.2722 - accuracy: 0.8972 - val_loss: 0.3041 - val_accuracy: 0.9070\n",
            "Epoch 5/20\n",
            "54/54 [==============================] - 8s 154ms/step - loss: 0.1710 - accuracy: 0.9390 - val_loss: 0.2160 - val_accuracy: 0.9070\n",
            "Epoch 6/20\n",
            "54/54 [==============================] - 6s 105ms/step - loss: 0.1382 - accuracy: 0.9524 - val_loss: 0.1167 - val_accuracy: 0.9698\n",
            "Epoch 7/20\n",
            "54/54 [==============================] - 7s 135ms/step - loss: 0.0972 - accuracy: 0.9675 - val_loss: 0.1550 - val_accuracy: 0.9512\n",
            "Epoch 8/20\n",
            "54/54 [==============================] - 6s 109ms/step - loss: 0.0830 - accuracy: 0.9686 - val_loss: 0.1709 - val_accuracy: 0.9581\n",
            "Epoch 9/20\n",
            "54/54 [==============================] - 6s 109ms/step - loss: 0.0868 - accuracy: 0.9715 - val_loss: 0.1596 - val_accuracy: 0.9535\n",
            "Epoch 10/20\n",
            "54/54 [==============================] - 7s 136ms/step - loss: 0.0715 - accuracy: 0.9739 - val_loss: 0.1994 - val_accuracy: 0.9535\n",
            "Epoch 11/20\n",
            "54/54 [==============================] - 6s 103ms/step - loss: 0.0340 - accuracy: 0.9872 - val_loss: 0.1357 - val_accuracy: 0.9674\n"
          ]
        }
      ]
    },
    {
      "cell_type": "code",
      "source": [
        "y_true_classes, y_pred_classes = model_preds(model3)\n",
        "\n",
        "cm = confusion_matrix(y_true_classes, y_pred_classes)\n",
        "\n",
        "fig, ax = plt.subplots(figsize=(12, 5))\n",
        "\n",
        "sns.heatmap(cm, annot=True, fmt='d')\n",
        "\n",
        "ax.set_yticklabels(['Early Blight', 'Late Blight', 'Healthy'], rotation=0, va=\"center\")\n",
        "ax.set_xticklabels(['Early Blight', 'Late Blight', 'Healthy'], rotation=0, ha=\"center\")\n",
        "\n",
        "plt.xlabel('Predicted')\n",
        "plt.ylabel('Truth')\n",
        "plt.title(f'Model 3')\n",
        "plt.savefig(\"Model_3_Potato_cm.jpg\")\n",
        "plt.show()"
      ],
      "metadata": {
        "colab": {
          "base_uri": "https://localhost:8080/",
          "height": 504
        },
        "id": "svIv4bop3xPD",
        "outputId": "5116df58-133e-4d98-c1b5-797714574349"
      },
      "execution_count": null,
      "outputs": [
        {
          "output_type": "stream",
          "name": "stdout",
          "text": [
            "14/14 [==============================] - 1s 87ms/step\n"
          ]
        },
        {
          "output_type": "display_data",
          "data": {
            "text/plain": [
              "<Figure size 1200x500 with 2 Axes>"
            ],
            "image/png": "[encoded data removed]"
          },
          "metadata": {}
        }
      ]
    },
    {
      "cell_type": "code",
      "source": [
        "report = classification_report(y_true_classes, y_pred_classes, target_names=val_ds.class_indices.keys())\n",
        "print(report)"
      ],
      "metadata": {
        "colab": {
          "base_uri": "https://localhost:8080/"
        },
        "id": "NMhllA2FAbFS",
        "outputId": "729c7152-3394-4b12-fdbd-52f799d40d6c"
      },
      "execution_count": null,
      "outputs": [
        {
          "output_type": "stream",
          "name": "stdout",
          "text": [
            "                     precision    recall  f1-score   support\n",
            "\n",
            "Potato_Early_blight       0.98      0.98      0.98       200\n",
            " Potato_Late_blight       0.96      0.97      0.97       200\n",
            "     Potato_healthy       0.96      0.80      0.87        30\n",
            "\n",
            "           accuracy                           0.97       430\n",
            "          macro avg       0.97      0.92      0.94       430\n",
            "       weighted avg       0.97      0.97      0.97       430\n",
            "\n"
          ]
        }
      ]
    },
    {
      "cell_type": "markdown",
      "source": [
        "The test accuracy went up, so this is our best model now. Let's add another convolutional layer and see what happens."
      ],
      "metadata": {
        "id": "y0zWTjiGGSvx"
      }
    },
    {
      "cell_type": "code",
      "source": [
        "es = EarlyStopping(patience = 5)\n",
        "\n",
        "model4 = Sequential()\n",
        "\n",
        "model4.add(layers.Input(shape=(256,256,3)))\n",
        "model4.add(layers.Rescaling(1./255))\n",
        "\n",
        "# Convolutional and pooling layers\n",
        "model4.add(Conv2D(64, (3,3), activation='relu'))\n",
        "model4.add(MaxPooling2D(pool_size=(2,2)))\n",
        "\n",
        "model4.add(Conv2D(64, (3,3), activation='relu'))\n",
        "model4.add(MaxPooling2D(pool_size=(2,2)))\n",
        "\n",
        "model4.add(Conv2D(64, (3,3), activation='relu'))\n",
        "model4.add(MaxPooling2D(pool_size=(2,2)))\n",
        "\n",
        "model4.add(Flatten())\n",
        "\n",
        "# Dense Layers\n",
        "model4.add(Dense(64, activation='relu'))\n",
        "\n",
        "# Output\n",
        "model4.add(Dense(3, activation='softmax'))\n",
        "\n",
        "model4.compile(\n",
        "    optimizer=\"adam\",\n",
        "    loss=\"categorical_crossentropy\",\n",
        "    metrics=['accuracy']\n",
        ")\n",
        "\n",
        "h = model4.fit(train_ds,\n",
        "               validation_data=val_ds,\n",
        "               callbacks = [es],\n",
        "               epochs=20)\n",
        "     "
      ],
      "metadata": {
        "id": "Hy5tHVaM_Do4",
        "colab": {
          "base_uri": "https://localhost:8080/"
        },
        "outputId": "9bfafeb8-e1b4-41f5-e7ef-1528294b2e59"
      },
      "execution_count": null,
      "outputs": [
        {
          "output_type": "stream",
          "name": "stdout",
          "text": [
            "Epoch 1/20\n",
            "54/54 [==============================] - 9s 139ms/step - loss: 0.7851 - accuracy: 0.6423 - val_loss: 0.4334 - val_accuracy: 0.8767\n",
            "Epoch 2/20\n",
            "54/54 [==============================] - 6s 110ms/step - loss: 0.2989 - accuracy: 0.8798 - val_loss: 0.2188 - val_accuracy: 0.9140\n",
            "Epoch 3/20\n",
            "54/54 [==============================] - 7s 129ms/step - loss: 0.1425 - accuracy: 0.9547 - val_loss: 0.1608 - val_accuracy: 0.9488\n",
            "Epoch 4/20\n",
            "54/54 [==============================] - 6s 108ms/step - loss: 0.0928 - accuracy: 0.9628 - val_loss: 0.1209 - val_accuracy: 0.9558\n",
            "Epoch 5/20\n",
            "54/54 [==============================] - 7s 126ms/step - loss: 0.1534 - accuracy: 0.9443 - val_loss: 0.1689 - val_accuracy: 0.9349\n",
            "Epoch 6/20\n",
            "54/54 [==============================] - 6s 107ms/step - loss: 0.0591 - accuracy: 0.9779 - val_loss: 0.1112 - val_accuracy: 0.9674\n",
            "Epoch 7/20\n",
            "54/54 [==============================] - 7s 130ms/step - loss: 0.0300 - accuracy: 0.9895 - val_loss: 0.1117 - val_accuracy: 0.9651\n",
            "Epoch 8/20\n",
            "54/54 [==============================] - 6s 107ms/step - loss: 0.0214 - accuracy: 0.9942 - val_loss: 0.1932 - val_accuracy: 0.9465\n",
            "Epoch 9/20\n",
            "54/54 [==============================] - 12s 216ms/step - loss: 0.0431 - accuracy: 0.9866 - val_loss: 0.0973 - val_accuracy: 0.9674\n",
            "Epoch 10/20\n",
            "54/54 [==============================] - 6s 103ms/step - loss: 0.0709 - accuracy: 0.9768 - val_loss: 0.4476 - val_accuracy: 0.8605\n",
            "Epoch 11/20\n",
            "54/54 [==============================] - 7s 136ms/step - loss: 0.0419 - accuracy: 0.9826 - val_loss: 0.1365 - val_accuracy: 0.9395\n",
            "Epoch 12/20\n",
            "54/54 [==============================] - 6s 106ms/step - loss: 0.0049 - accuracy: 0.9988 - val_loss: 0.2022 - val_accuracy: 0.9395\n",
            "Epoch 13/20\n",
            "54/54 [==============================] - 7s 125ms/step - loss: 0.0053 - accuracy: 0.9994 - val_loss: 0.1491 - val_accuracy: 0.9581\n",
            "Epoch 14/20\n",
            "54/54 [==============================] - 6s 103ms/step - loss: 7.8905e-04 - accuracy: 1.0000 - val_loss: 0.1689 - val_accuracy: 0.9581\n"
          ]
        }
      ]
    },
    {
      "cell_type": "code",
      "source": [
        "y_true_classes, y_pred_classes = model_preds(model4)\n",
        "\n",
        "cm = confusion_matrix(y_true_classes, y_pred_classes)\n",
        "\n",
        "fig, ax = plt.subplots(figsize=(12, 5))\n",
        "\n",
        "sns.heatmap(cm, annot=True, fmt='d')\n",
        "\n",
        "ax.set_yticklabels(['Early Blight', 'Late Blight', 'Healthy'], rotation=0, va=\"center\")\n",
        "ax.set_xticklabels(['Early Blight', 'Late Blight', 'Healthy'], rotation=0, ha=\"center\")\n",
        "\n",
        "plt.xlabel('Predicted')\n",
        "plt.ylabel('Truth')\n",
        "plt.show()"
      ],
      "metadata": {
        "id": "Y2Ec5lAy_Dq0",
        "colab": {
          "base_uri": "https://localhost:8080/",
          "height": 482
        },
        "outputId": "321ce76f-ba7c-4290-a30a-1fc3a394ef87"
      },
      "execution_count": null,
      "outputs": [
        {
          "output_type": "stream",
          "name": "stdout",
          "text": [
            "14/14 [==============================] - 1s 85ms/step\n"
          ]
        },
        {
          "output_type": "display_data",
          "data": {
            "text/plain": [
              "<Figure size 1200x500 with 2 Axes>"
            ],
            "image/png": "[encoded data removed]"
          },
          "metadata": {}
        }
      ]
    },
    {
      "cell_type": "code",
      "execution_count": null,
      "metadata": {
        "id": "huyB7N327J7q",
        "colab": {
          "base_uri": "https://localhost:8080/"
        },
        "outputId": "77c089ba-2e67-41c5-d4bb-70ffce8055cb"
      },
      "outputs": [
        {
          "output_type": "stream",
          "name": "stdout",
          "text": [
            "                     precision    recall  f1-score   support\n",
            "\n",
            "Potato_Early_blight       0.99      0.96      0.97       200\n",
            " Potato_Late_blight       0.93      0.98      0.96       200\n",
            "     Potato_healthy       0.96      0.77      0.85        30\n",
            "\n",
            "           accuracy                           0.96       430\n",
            "          macro avg       0.96      0.90      0.93       430\n",
            "       weighted avg       0.96      0.96      0.96       430\n",
            "\n"
          ]
        }
      ],
      "source": [
        "report = classification_report(y_true_classes, y_pred_classes, target_names=val_ds.class_indices.keys())\n",
        "print(report)"
      ]
    },
    {
      "cell_type": "markdown",
      "source": [
        "This model does well but still not better than model 2. Let's see if using only one convolutional layer does better than 2 convolutional layers."
      ],
      "metadata": {
        "id": "RHtfdX5LGrpQ"
      }
    },
    {
      "cell_type": "code",
      "source": [
        "es = EarlyStopping(patience = 5)\n",
        "\n",
        "model5 = Sequential()\n",
        "\n",
        "model5.add(layers.Input(shape=(256,256,3)))\n",
        "model5.add(layers.Rescaling(1./255))\n",
        "\n",
        "# Convolutional and pooling layers\n",
        "model5.add(Conv2D(64, (3,3), activation='relu'))\n",
        "model5.add(MaxPooling2D(pool_size=(2,2)))\n",
        "\n",
        "model5.add(Flatten())\n",
        "\n",
        "# Dense Layers\n",
        "model5.add(Dense(64, activation='relu'))\n",
        "\n",
        "# Output\n",
        "model5.add(Dense(3, activation='softmax'))\n",
        "\n",
        "model5.compile(\n",
        "    optimizer=\"adam\",\n",
        "    loss=\"categorical_crossentropy\",\n",
        "    metrics=['accuracy']\n",
        ")\n",
        "\n",
        "h = model5.fit(train_ds,\n",
        "               validation_data=val_ds,\n",
        "               callbacks = [es],\n",
        "               epochs=20)"
      ],
      "metadata": {
        "id": "Y59cUr7w_BL9",
        "colab": {
          "base_uri": "https://localhost:8080/"
        },
        "outputId": "5695c5b8-83bf-4b05-f662-74ee5b800131"
      },
      "execution_count": null,
      "outputs": [
        {
          "output_type": "stream",
          "name": "stdout",
          "text": [
            "Epoch 1/20\n",
            "54/54 [==============================] - 8s 115ms/step - loss: 7.4180 - accuracy: 0.6934 - val_loss: 0.3308 - val_accuracy: 0.8907\n",
            "Epoch 2/20\n",
            "54/54 [==============================] - 6s 112ms/step - loss: 0.1577 - accuracy: 0.9501 - val_loss: 0.1618 - val_accuracy: 0.9512\n",
            "Epoch 3/20\n",
            "54/54 [==============================] - 5s 100ms/step - loss: 0.0386 - accuracy: 0.9936 - val_loss: 0.1910 - val_accuracy: 0.9326\n",
            "Epoch 4/20\n",
            "54/54 [==============================] - 6s 103ms/step - loss: 0.0105 - accuracy: 1.0000 - val_loss: 0.1304 - val_accuracy: 0.9558\n",
            "Epoch 5/20\n",
            "54/54 [==============================] - 6s 113ms/step - loss: 0.0032 - accuracy: 1.0000 - val_loss: 0.1249 - val_accuracy: 0.9674\n",
            "Epoch 6/20\n",
            "54/54 [==============================] - 6s 118ms/step - loss: 0.0013 - accuracy: 1.0000 - val_loss: 0.1345 - val_accuracy: 0.9581\n",
            "Epoch 7/20\n",
            "54/54 [==============================] - 7s 136ms/step - loss: 6.9809e-04 - accuracy: 1.0000 - val_loss: 0.1444 - val_accuracy: 0.9605\n",
            "Epoch 8/20\n",
            "54/54 [==============================] - 6s 102ms/step - loss: 4.1258e-04 - accuracy: 1.0000 - val_loss: 0.1508 - val_accuracy: 0.9628\n",
            "Epoch 9/20\n",
            "54/54 [==============================] - 7s 126ms/step - loss: 2.8137e-04 - accuracy: 1.0000 - val_loss: 0.1621 - val_accuracy: 0.9581\n",
            "Epoch 10/20\n",
            "54/54 [==============================] - 6s 107ms/step - loss: 2.1559e-04 - accuracy: 1.0000 - val_loss: 0.1460 - val_accuracy: 0.9605\n"
          ]
        }
      ]
    },
    {
      "cell_type": "code",
      "source": [
        "y_true_classes, y_pred_classes = model_preds(model5)\n",
        "\n",
        "cm = confusion_matrix(y_true_classes, y_pred_classes)\n",
        "\n",
        "fig, ax = plt.subplots(figsize=(12, 5))\n",
        "\n",
        "sns.heatmap(cm, annot=True, fmt='d')\n",
        "\n",
        "ax.set_yticklabels(['Early Blight', 'Late Blight', 'Healthy'], rotation=0, va=\"center\")\n",
        "ax.set_xticklabels(['Early Blight', 'Late Blight', 'Healthy'], rotation=0, ha=\"center\")\n",
        "\n",
        "plt.xlabel('Predicted')\n",
        "plt.ylabel('Truth')\n",
        "plt.show()"
      ],
      "metadata": {
        "colab": {
          "base_uri": "https://localhost:8080/",
          "height": 482
        },
        "id": "mQH6mgRHB2J4",
        "outputId": "a2485aa1-9602-4a8c-c294-6f1a25f90bbb"
      },
      "execution_count": null,
      "outputs": [
        {
          "output_type": "stream",
          "name": "stdout",
          "text": [
            "14/14 [==============================] - 2s 127ms/step\n"
          ]
        },
        {
          "output_type": "display_data",
          "data": {
            "text/plain": [
              "<Figure size 1200x500 with 2 Axes>"
            ],
            "image/png": "[encoded data removed]"
          },
          "metadata": {}
        }
      ]
    },
    {
      "cell_type": "code",
      "source": [
        "report = classification_report(y_true_classes, y_pred_classes, target_names=val_ds.class_indices.keys())\n",
        "print(report)"
      ],
      "metadata": {
        "colab": {
          "base_uri": "https://localhost:8080/"
        },
        "id": "P3iWmjNqB9W2",
        "outputId": "dbd8b7fa-5ed5-4397-e13b-9bada21a6a55"
      },
      "execution_count": null,
      "outputs": [
        {
          "output_type": "stream",
          "name": "stdout",
          "text": [
            "                     precision    recall  f1-score   support\n",
            "\n",
            "Potato_Early_blight       0.99      0.97      0.98       200\n",
            " Potato_Late_blight       0.93      0.99      0.96       200\n",
            "     Potato_healthy       1.00      0.70      0.82        30\n",
            "\n",
            "           accuracy                           0.96       430\n",
            "          macro avg       0.97      0.89      0.92       430\n",
            "       weighted avg       0.96      0.96      0.96       430\n",
            "\n"
          ]
        }
      ]
    },
    {
      "cell_type": "markdown",
      "source": [
        "This did not do better than model 2."
      ],
      "metadata": {
        "id": "E7ed20qcHOCr"
      }
    },
    {
      "cell_type": "markdown",
      "source": [
        "----\n",
        "## Conclusion \n",
        "### Best Model: Model 2"
      ],
      "metadata": {
        "id": "s-m4j5u8H2Bf"
      }
    },
    {
      "cell_type": "markdown",
      "source": [
        "Model 2 does well on the testing data when looking at accuracy, however, it's kind of misleading. We have a really bad imbalanced class issue with the lack of images of health plants. The model can be really bad at classifying healthy plants but would still be able to get good accuracy scores. Recall scores on healthy plants on all the models. \n",
        "\n",
        "The next goal is to make our model stronger by fixing class imbalances present, so we have a better indication of what makes a plant healthy. This would hopefully improve the healthy plant recall scores and make better models. We could do this by trying to gather more images of potato plant leaves, and by trying to add create more data by saving and adding in augmentations. Augmentations is something we would've have looked into more if the time permitted."
      ],
      "metadata": {
        "id": "IL2Wmm2kH_3C"
      }
    }
  ],
  "metadata": {
    "accelerator": "GPU",
    "colab": {
      "provenance": [],
      "gpuType": "V100"
    },
    "gpuClass": "standard",
    "kernelspec": {
      "display_name": "Python 3",
      "name": "python3"
    },
    "language_info": {
      "name": "python"
    }
  },
  "nbformat": 4,
  "nbformat_minor": 0
}