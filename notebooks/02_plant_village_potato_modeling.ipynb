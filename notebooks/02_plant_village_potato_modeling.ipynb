{
  "cells": [
    {
      "cell_type": "markdown",
      "metadata": {
        "id": "4wiAqVWn3w2e"
      },
      "source": [
        "# Potato Plant Modelling"
      ]
    },
    {
      "cell_type": "code",
      "execution_count": null,
      "metadata": {
        "id": "q0VQpQmo3V3q"
      },
      "outputs": [],
      "source": [
        "# imports\n",
        "import matplotlib.pyplot as plt\n",
        "import numpy as np\n",
        "import os\n",
        "import pandas as pd\n",
        "import seaborn as sns\n",
        "\n",
        "from tensorflow.keras.layers import Dense, Dropout, Flatten, Conv2D, MaxPooling2D\n",
        "from tensorflow.keras.regularizers import l2\n",
        "from tensorflow.keras.callbacks import EarlyStopping\n",
        "from tensorflow.keras.models import Sequential\n",
        "from tensorflow.keras.preprocessing.image import ImageDataGenerator\n",
        "from tensorflow.keras import layers\n",
        "\n",
        "from sklearn.model_selection import train_test_split\n",
        "from sklearn.metrics import confusion_matrix, classification_report"
      ]
    },
    {
      "cell_type": "code",
      "source": [
        "from google.colab import drive\n",
        "drive.mount('/content/drive')"
      ],
      "metadata": {
        "colab": {
          "base_uri": "https://localhost:8080/"
        },
        "id": "pi1huuqLQvaL",
        "outputId": "6aa03389-ac24-4c9f-d358-eb9b9c8ecaf3"
      },
      "execution_count": null,
      "outputs": [
        {
          "output_type": "stream",
          "name": "stdout",
          "text": [
            "Mounted at /content/drive\n"
          ]
        }
      ]
    },
    {
      "cell_type": "code",
      "execution_count": null,
      "metadata": {
        "id": "ByqYzKd-4ohi"
      },
      "outputs": [],
      "source": [
        "!unzip -q /content/drive/MyDrive/datasets/Potato.zip"
      ]
    },
    {
      "cell_type": "code",
      "execution_count": null,
      "metadata": {
        "colab": {
          "base_uri": "https://localhost:8080/"
        },
        "id": "NFrXyUR-3eVK",
        "outputId": "e67b2c82-3dcf-4a7f-a8cb-81e3d2de1709"
      },
      "outputs": [
        {
          "output_type": "stream",
          "name": "stdout",
          "text": [
            "Found 1722 images belonging to 3 classes.\n",
            "Found 430 images belonging to 3 classes.\n"
          ]
        }
      ],
      "source": [
        "datagen = ImageDataGenerator(validation_split=0.2)\n",
        "\n",
        "# get training data\n",
        "train_ds = datagen.flow_from_directory(\n",
        "    '/content/Potato',\n",
        "    target_size=(256, 256),\n",
        "    batch_size=32,\n",
        "    class_mode='categorical',\n",
        "    subset='training',  # set as training data\n",
        "    seed=42\n",
        ")\n",
        "\n",
        "# get validation data\n",
        "val_ds = datagen.flow_from_directory(\n",
        "    '/content/Potato',\n",
        "    target_size=(256, 256),\n",
        "    batch_size=32,\n",
        "    class_mode='categorical',\n",
        "    subset='validation',  # set as validation data\n",
        "    seed=42,\n",
        "    shuffle= False\n",
        ")"
      ]
    },
    {
      "cell_type": "code",
      "source": [
        "train_ds.class_indices"
      ],
      "metadata": {
        "colab": {
          "base_uri": "https://localhost:8080/"
        },
        "id": "mDofSmcBShHs",
        "outputId": "2bc09538-2d3c-4282-9107-249a8ba4448c"
      },
      "execution_count": null,
      "outputs": [
        {
          "output_type": "execute_result",
          "data": {
            "text/plain": [
              "{'Potato_Early_blight': 0, 'Potato_Late_blight': 1, 'Potato_healthy': 2}"
            ]
          },
          "metadata": {},
          "execution_count": 36
        }
      ]
    },
    {
      "cell_type": "markdown",
      "source": [
        "## Creating models and evaluating"
      ],
      "metadata": {
        "id": "yrFbxHtlEDRf"
      }
    },
    {
      "cell_type": "code",
      "source": [
        "es = EarlyStopping(patience = 5)\n",
        "\n",
        "model1 = Sequential()\n",
        "\n",
        "model1.add(layers.Input(shape=(256,256,3)))\n",
        "model1.add(layers.Rescaling(1./255))\n",
        "\n",
        "# Convolutional and pooling layers\n",
        "model1.add(Conv2D(64, (3,3), activation='relu'))\n",
        "model1.add(MaxPooling2D(pool_size=(2,2)))\n",
        "\n",
        "model1.add(Conv2D(64, (3,3), activation='relu'))\n",
        "model1.add(MaxPooling2D(pool_size=(2,2)))\n",
        "\n",
        "model1.add(Flatten())\n",
        "\n",
        "# Dense Layers\n",
        "model1.add(Dense(64, activation='relu'))\n",
        "\n",
        "# Output\n",
        "model1.add(Dense(3, activation='softmax'))\n",
        "\n",
        "model1.compile(\n",
        "    optimizer=\"adam\",\n",
        "    loss=\"categorical_crossentropy\",\n",
        "    metrics=['accuracy']\n",
        ")"
      ],
      "metadata": {
        "id": "wFgWV6lFpVPT"
      },
      "execution_count": null,
      "outputs": []
    },
    {
      "cell_type": "code",
      "source": [
        "model1.input_shape"
      ],
      "metadata": {
        "colab": {
          "base_uri": "https://localhost:8080/"
        },
        "id": "MLCzvvruR__K",
        "outputId": "6fc7ec54-1996-439a-a2ad-5b4b817c2c1f"
      },
      "execution_count": null,
      "outputs": [
        {
          "output_type": "execute_result",
          "data": {
            "text/plain": [
              "(None, 256, 256, 3)"
            ]
          },
          "metadata": {},
          "execution_count": 38
        }
      ]
    },
    {
      "cell_type": "code",
      "source": [
        "model1.summary()"
      ],
      "metadata": {
        "colab": {
          "base_uri": "https://localhost:8080/"
        },
        "id": "4ZBd-PxxSBc_",
        "outputId": "733b332a-12d4-487f-dcd6-3e1970fbab11"
      },
      "execution_count": null,
      "outputs": [
        {
          "output_type": "stream",
          "name": "stdout",
          "text": [
            "Model: \"sequential_10\"\n",
            "_________________________________________________________________\n",
            " Layer (type)                Output Shape              Param #   \n",
            "=================================================================\n",
            " rescaling_9 (Rescaling)     (None, 256, 256, 3)       0         \n",
            "                                                                 \n",
            " conv2d_15 (Conv2D)          (None, 254, 254, 64)      1792      \n",
            "                                                                 \n",
            " max_pooling2d_15 (MaxPoolin  (None, 127, 127, 64)     0         \n",
            " g2D)                                                            \n",
            "                                                                 \n",
            " conv2d_16 (Conv2D)          (None, 125, 125, 64)      36928     \n",
            "                                                                 \n",
            " max_pooling2d_16 (MaxPoolin  (None, 62, 62, 64)       0         \n",
            " g2D)                                                            \n",
            "                                                                 \n",
            " flatten_7 (Flatten)         (None, 246016)            0         \n",
            "                                                                 \n",
            " dense_20 (Dense)            (None, 64)                15745088  \n",
            "                                                                 \n",
            " dense_21 (Dense)            (None, 3)                 195       \n",
            "                                                                 \n",
            "=================================================================\n",
            "Total params: 15,784,003\n",
            "Trainable params: 15,784,003\n",
            "Non-trainable params: 0\n",
            "_________________________________________________________________\n"
          ]
        }
      ]
    },
    {
      "cell_type": "code",
      "execution_count": null,
      "metadata": {
        "colab": {
          "base_uri": "https://localhost:8080/"
        },
        "id": "1euSFn2q3-Pk",
        "outputId": "47f2dca0-3fbc-4775-8cad-ca03e2c0aef9"
      },
      "outputs": [
        {
          "output_type": "stream",
          "name": "stdout",
          "text": [
            "Epoch 1/10\n",
            "54/54 [==============================] - 6s 90ms/step - loss: 1.0894 - accuracy: 0.7073 - val_loss: 0.3563 - val_accuracy: 0.8744\n",
            "Epoch 2/10\n",
            "54/54 [==============================] - 5s 91ms/step - loss: 0.2958 - accuracy: 0.8827 - val_loss: 0.4155 - val_accuracy: 0.8465\n",
            "Epoch 3/10\n",
            "54/54 [==============================] - 5s 89ms/step - loss: 0.1987 - accuracy: 0.9210 - val_loss: 0.1664 - val_accuracy: 0.9465\n",
            "Epoch 4/10\n",
            "54/54 [==============================] - 5s 88ms/step - loss: 0.0834 - accuracy: 0.9692 - val_loss: 0.1564 - val_accuracy: 0.9419\n",
            "Epoch 5/10\n",
            "54/54 [==============================] - 5s 88ms/step - loss: 0.0549 - accuracy: 0.9826 - val_loss: 0.1804 - val_accuracy: 0.9349\n",
            "Epoch 6/10\n",
            "54/54 [==============================] - 5s 90ms/step - loss: 0.0633 - accuracy: 0.9797 - val_loss: 0.1857 - val_accuracy: 0.9419\n",
            "Epoch 7/10\n",
            "54/54 [==============================] - 5s 93ms/step - loss: 0.0174 - accuracy: 0.9959 - val_loss: 0.1881 - val_accuracy: 0.9372\n",
            "Epoch 8/10\n",
            "54/54 [==============================] - 5s 97ms/step - loss: 0.0067 - accuracy: 0.9988 - val_loss: 0.1965 - val_accuracy: 0.9558\n",
            "Epoch 9/10\n",
            "54/54 [==============================] - 5s 90ms/step - loss: 0.0028 - accuracy: 1.0000 - val_loss: 0.1826 - val_accuracy: 0.9605\n",
            "Epoch 10/10\n",
            "54/54 [==============================] - 5s 88ms/step - loss: 0.0031 - accuracy: 1.0000 - val_loss: 0.1879 - val_accuracy: 0.9488\n"
          ]
        }
      ],
      "source": [
        "h = model1.fit(train_ds, validation_data=val_ds, epochs= 10)"
      ]
    },
    {
      "cell_type": "markdown",
      "source": [
        "Prompted CHAT-GPT 4 to help grab the labels information from the validation dataset and get it into a numpy array, so that we can use that to make a confusion matrix."
      ],
      "metadata": {
        "id": "Bpyo6fADFqli"
      }
    },
    {
      "cell_type": "code",
      "source": [
        "def model_preds(model):\n",
        "  '''\n",
        "  This function will return the y_true_classes and y_pred_clasess\n",
        "  Which will allows us to build a confusion matrix\n",
        "  '''\n",
        "  \n",
        "  y_true_classes = val_ds.labels\n",
        "\n",
        "  y_pred_classes = model.predict(val_ds)\n",
        "\n",
        "  y_pred_classes = np.argmax(y_pred_classes, axis=1)\n",
        "\n",
        "  return (y_true_classes, y_pred_classes)"
      ],
      "metadata": {
        "id": "TpvQT0lmDZCZ"
      },
      "execution_count": null,
      "outputs": []
    },
    {
      "cell_type": "code",
      "source": [
        "y_true_classes, y_pred_classes = model_preds(model1)\n",
        "\n",
        "cm = confusion_matrix(y_true_classes, y_pred_classes)\n",
        "\n",
        "fig, ax = plt.subplots(figsize=(12, 5))\n",
        "\n",
        "sns.heatmap(cm, annot=True, fmt='d')\n",
        "\n",
        "ax.set_yticklabels(['Early Blight', 'Late Blight', 'Healthy'], rotation=0, va=\"center\")\n",
        "ax.set_xticklabels(['Early Blight', 'Late Blight', 'Healthy'], rotation=0, ha=\"center\")\n",
        "\n",
        "plt.xlabel('Predicted')\n",
        "plt.ylabel('Truth')\n",
        "plt.show()"
      ],
      "metadata": {
        "colab": {
          "base_uri": "https://localhost:8080/",
          "height": 482
        },
        "id": "dD2PjeaA_DXU",
        "outputId": "ba81fa77-63df-4ac6-cc55-1407a68b2982"
      },
      "execution_count": null,
      "outputs": [
        {
          "output_type": "stream",
          "name": "stdout",
          "text": [
            "14/14 [==============================] - 1s 71ms/step\n"
          ]
        },
        {
          "output_type": "display_data",
          "data": {
            "text/plain": [
              "<Figure size 1200x500 with 2 Axes>"
            ],
            "image/png": "[encoded data removed]"
          },
          "metadata": {}
        }
      ]
    },
    {
      "cell_type": "code",
      "source": [
        "report = classification_report(y_true_classes, y_pred_classes, target_names=val_ds.class_indices.keys())\n",
        "print(report)"
      ],
      "metadata": {
        "colab": {
          "base_uri": "https://localhost:8080/"
        },
        "id": "0qrEIZ6tzSdz",
        "outputId": "f6274406-8ee7-46e5-a6fb-5e49513e9c03"
      },
      "execution_count": null,
      "outputs": [
        {
          "output_type": "stream",
          "name": "stdout",
          "text": [
            "                     precision    recall  f1-score   support\n",
            "\n",
            "Potato_Early_blight       0.97      0.97      0.97       200\n",
            " Potato_Late_blight       0.94      0.95      0.95       200\n",
            "     Potato_healthy       0.88      0.77      0.82        30\n",
            "\n",
            "           accuracy                           0.95       430\n",
            "          macro avg       0.93      0.90      0.91       430\n",
            "       weighted avg       0.95      0.95      0.95       430\n",
            "\n"
          ]
        }
      ]
    },
    {
      "cell_type": "markdown",
      "source": [
        "This model performs well, but let's add some more hidden layers and early stopping now. "
      ],
      "metadata": {
        "id": "zneg2K1DER-3"
      }
    },
    {
      "cell_type": "code",
      "source": [
        "es = EarlyStopping(patience = 5)\n",
        "\n",
        "model2 = Sequential()\n",
        "\n",
        "model2.add(layers.Input(shape=(256,256,3)))\n",
        "model2.add(layers.Rescaling(1./255))\n",
        "\n",
        "# Convolutional and pooling layers\n",
        "model2.add(Conv2D(64, (3,3), activation='relu'))\n",
        "model2.add(MaxPooling2D(pool_size=(2,2)))\n",
        "\n",
        "model2.add(Conv2D(64, (3,3), activation='relu'))\n",
        "model2.add(MaxPooling2D(pool_size=(2,2)))\n",
        "\n",
        "model2.add(Flatten())\n",
        "\n",
        "# Dense Layers\n",
        "model2.add(Dense(32, activation='relu'))\n",
        "model2.add(Dense(32, activation='relu'))\n",
        "model2.add(Dense(32, activation='relu'))\n",
        "\n",
        "# Output\n",
        "model2.add(Dense(3, activation='softmax'))\n",
        "\n",
        "model2.compile(\n",
        "    optimizer=\"adam\",\n",
        "    loss=\"categorical_crossentropy\",\n",
        "    metrics=['accuracy']\n",
        ")\n",
        "h = model2.fit(train_ds,\n",
        "               validation_data=val_ds,\n",
        "               callbacks = [es],\n",
        "               epochs=20)"
      ],
      "metadata": {
        "id": "sj4OuYi0_DeI",
        "colab": {
          "base_uri": "https://localhost:8080/"
        },
        "outputId": "9e230cab-3a89-4872-89f5-5170fa1ed34a"
      },
      "execution_count": null,
      "outputs": [
        {
          "output_type": "stream",
          "name": "stdout",
          "text": [
            "Epoch 1/20\n",
            "54/54 [==============================] - 7s 91ms/step - loss: 1.0116 - accuracy: 0.6632 - val_loss: 0.4122 - val_accuracy: 0.8767\n",
            "Epoch 2/20\n",
            "54/54 [==============================] - 5s 90ms/step - loss: 0.3299 - accuracy: 0.8786 - val_loss: 0.2048 - val_accuracy: 0.9209\n",
            "Epoch 3/20\n",
            "54/54 [==============================] - 5s 91ms/step - loss: 0.1926 - accuracy: 0.9297 - val_loss: 0.3570 - val_accuracy: 0.8349\n",
            "Epoch 4/20\n",
            "54/54 [==============================] - 5s 92ms/step - loss: 0.0926 - accuracy: 0.9686 - val_loss: 0.4662 - val_accuracy: 0.8535\n",
            "Epoch 5/20\n",
            "54/54 [==============================] - 5s 90ms/step - loss: 0.1049 - accuracy: 0.9640 - val_loss: 0.1352 - val_accuracy: 0.9605\n",
            "Epoch 6/20\n",
            "54/54 [==============================] - 5s 88ms/step - loss: 0.0372 - accuracy: 0.9861 - val_loss: 0.1194 - val_accuracy: 0.9581\n",
            "Epoch 7/20\n",
            "54/54 [==============================] - 5s 90ms/step - loss: 0.0425 - accuracy: 0.9832 - val_loss: 0.2055 - val_accuracy: 0.9326\n",
            "Epoch 8/20\n",
            "54/54 [==============================] - 5s 88ms/step - loss: 0.0462 - accuracy: 0.9814 - val_loss: 0.4072 - val_accuracy: 0.8791\n",
            "Epoch 9/20\n",
            "54/54 [==============================] - 5s 89ms/step - loss: 0.0404 - accuracy: 0.9820 - val_loss: 0.2003 - val_accuracy: 0.9535\n",
            "Epoch 10/20\n",
            "54/54 [==============================] - 5s 91ms/step - loss: 0.0108 - accuracy: 0.9954 - val_loss: 0.1576 - val_accuracy: 0.9488\n",
            "Epoch 11/20\n",
            "54/54 [==============================] - 5s 88ms/step - loss: 0.0154 - accuracy: 0.9936 - val_loss: 0.1729 - val_accuracy: 0.9558\n"
          ]
        }
      ]
    },
    {
      "cell_type": "code",
      "source": [
        "y_true_classes, y_pred_classes = model_preds(model2)\n",
        "\n",
        "cm = confusion_matrix(y_true_classes, y_pred_classes)\n",
        "\n",
        "fig, ax = plt.subplots(figsize=(12, 5))\n",
        "\n",
        "sns.heatmap(cm, annot=True, fmt='d')\n",
        "\n",
        "ax.set_yticklabels(['Early Blight', 'Late Blight', 'Healthy'], rotation=0, va=\"center\")\n",
        "ax.set_xticklabels(['Early Blight', 'Late Blight', 'Healthy'], rotation=0, ha=\"center\")\n",
        "\n",
        "plt.xlabel('Predicted')\n",
        "plt.ylabel('Truth')\n",
        "plt.show()"
      ],
      "metadata": {
        "id": "45LglgpA_DgQ",
        "colab": {
          "base_uri": "https://localhost:8080/",
          "height": 482
        },
        "outputId": "dda933d7-186f-4abd-cb9d-e2a3327af9d3"
      },
      "execution_count": null,
      "outputs": [
        {
          "output_type": "stream",
          "name": "stdout",
          "text": [
            "14/14 [==============================] - 1s 65ms/step\n"
          ]
        },
        {
          "output_type": "display_data",
          "data": {
            "text/plain": [
              "<Figure size 1200x500 with 2 Axes>"
            ],
            "image/png": "[encoded data removed]"
          },
          "metadata": {}
        }
      ]
    },
    {
      "cell_type": "code",
      "source": [
        "report = classification_report(y_true_classes, y_pred_classes, target_names=val_ds.class_indices.keys())\n",
        "print(report)"
      ],
      "metadata": {
        "id": "SffdhoPg_DiV",
        "colab": {
          "base_uri": "https://localhost:8080/"
        },
        "outputId": "30ec7816-aed5-4e19-b9f6-497341f3209f"
      },
      "execution_count": null,
      "outputs": [
        {
          "output_type": "stream",
          "name": "stdout",
          "text": [
            "                     precision    recall  f1-score   support\n",
            "\n",
            "Potato_Early_blight       0.98      0.96      0.97       200\n",
            " Potato_Late_blight       0.94      0.97      0.95       200\n",
            "     Potato_healthy       0.92      0.80      0.86        30\n",
            "\n",
            "           accuracy                           0.96       430\n",
            "          macro avg       0.95      0.91      0.93       430\n",
            "       weighted avg       0.96      0.96      0.96       430\n",
            "\n"
          ]
        }
      ]
    },
    {
      "cell_type": "markdown",
      "source": [
        "The test accuracy got better, so that's good. Now let's try adding a dropout layer."
      ],
      "metadata": {
        "id": "mEXY5h7YGA0P"
      }
    },
    {
      "cell_type": "code",
      "source": [
        "es = EarlyStopping(patience = 5)\n",
        "\n",
        "model3 = Sequential()\n",
        "\n",
        "model3.add(layers.Input(shape=(256,256,3)))\n",
        "model3.add(layers.Rescaling(1./255))\n",
        "\n",
        "# Convolutional and pooling layers\n",
        "model3.add(Conv2D(64, (3,3), activation='relu'))\n",
        "model3.add(MaxPooling2D(pool_size=(2,2)))\n",
        "\n",
        "model3.add(Conv2D(64, (3,3), activation='relu'))\n",
        "model3.add(MaxPooling2D(pool_size=(2,2)))\n",
        "\n",
        "model3.add(Flatten())\n",
        "\n",
        "# Dense Layers\n",
        "model3.add(Dense(32, activation='relu'))\n",
        "model3.add(Dense(32, activation='relu'))\n",
        "model3.add(Dense(32, activation='relu'))\n",
        "model3.add(Dropout(0.5))\n",
        "\n",
        "# Output\n",
        "model3.add(Dense(3, activation='softmax'))\n",
        "\n",
        "model3.compile(\n",
        "    optimizer=\"adam\",\n",
        "    loss=\"categorical_crossentropy\",\n",
        "    metrics=['accuracy']\n",
        ")\n",
        "h = model3.fit(train_ds,\n",
        "               validation_data=val_ds,\n",
        "               callbacks = [es],\n",
        "               epochs=20)"
      ],
      "metadata": {
        "id": "LK4-NvwI_Dka",
        "colab": {
          "base_uri": "https://localhost:8080/"
        },
        "outputId": "ee57f448-d12c-45f5-88b8-f3c00de94e6e"
      },
      "execution_count": null,
      "outputs": [
        {
          "output_type": "stream",
          "name": "stdout",
          "text": [
            "Epoch 1/20\n",
            "54/54 [==============================] - 7s 91ms/step - loss: 1.2019 - accuracy: 0.5163 - val_loss: 0.7260 - val_accuracy: 0.8140\n",
            "Epoch 2/20\n",
            "54/54 [==============================] - 5s 90ms/step - loss: 0.6552 - accuracy: 0.7544 - val_loss: 0.3650 - val_accuracy: 0.8837\n",
            "Epoch 3/20\n",
            "54/54 [==============================] - 5s 87ms/step - loss: 0.4083 - accuracy: 0.8513 - val_loss: 0.2516 - val_accuracy: 0.8930\n",
            "Epoch 4/20\n",
            "54/54 [==============================] - 5s 88ms/step - loss: 0.3019 - accuracy: 0.8804 - val_loss: 0.2590 - val_accuracy: 0.8907\n",
            "Epoch 5/20\n",
            "54/54 [==============================] - 5s 90ms/step - loss: 0.2681 - accuracy: 0.8844 - val_loss: 0.2248 - val_accuracy: 0.9233\n",
            "Epoch 6/20\n",
            "54/54 [==============================] - 5s 87ms/step - loss: 0.1746 - accuracy: 0.9355 - val_loss: 0.1602 - val_accuracy: 0.9349\n",
            "Epoch 7/20\n",
            "54/54 [==============================] - 5s 92ms/step - loss: 0.1379 - accuracy: 0.9535 - val_loss: 0.1722 - val_accuracy: 0.9488\n",
            "Epoch 8/20\n",
            "54/54 [==============================] - 5s 89ms/step - loss: 0.1334 - accuracy: 0.9628 - val_loss: 0.1683 - val_accuracy: 0.9488\n",
            "Epoch 9/20\n",
            "54/54 [==============================] - 5s 89ms/step - loss: 0.1190 - accuracy: 0.9617 - val_loss: 0.4136 - val_accuracy: 0.8930\n",
            "Epoch 10/20\n",
            "54/54 [==============================] - 5s 89ms/step - loss: 0.1137 - accuracy: 0.9628 - val_loss: 0.1839 - val_accuracy: 0.9512\n",
            "Epoch 11/20\n",
            "54/54 [==============================] - 5s 88ms/step - loss: 0.0917 - accuracy: 0.9715 - val_loss: 0.2941 - val_accuracy: 0.8651\n"
          ]
        }
      ]
    },
    {
      "cell_type": "code",
      "source": [
        "y_true_classes, y_pred_classes = model_preds(model3)\n",
        "\n",
        "cm = confusion_matrix(y_true_classes, y_pred_classes)\n",
        "\n",
        "fig, ax = plt.subplots(figsize=(12, 5))\n",
        "\n",
        "sns.heatmap(cm, annot=True, fmt='d')\n",
        "\n",
        "ax.set_yticklabels(['Early Blight', 'Late Blight', 'Healthy'], rotation=0, va=\"center\")\n",
        "ax.set_xticklabels(['Early Blight', 'Late Blight', 'Healthy'], rotation=0, ha=\"center\")\n",
        "\n",
        "plt.xlabel('Predicted')\n",
        "plt.ylabel('Truth')\n",
        "plt.show()"
      ],
      "metadata": {
        "colab": {
          "base_uri": "https://localhost:8080/",
          "height": 482
        },
        "id": "svIv4bop3xPD",
        "outputId": "a6b19842-e2e4-4ab7-d606-fe87f85ba2f5"
      },
      "execution_count": null,
      "outputs": [
        {
          "output_type": "stream",
          "name": "stdout",
          "text": [
            "14/14 [==============================] - 1s 68ms/step\n"
          ]
        },
        {
          "output_type": "display_data",
          "data": {
            "text/plain": [
              "<Figure size 1200x500 with 2 Axes>"
            ],
            "image/png": "[encoded data removed]"
          },
          "metadata": {}
        }
      ]
    },
    {
      "cell_type": "code",
      "source": [
        "report = classification_report(y_true_classes, y_pred_classes, target_names=val_ds.class_indices.keys())\n",
        "print(report)"
      ],
      "metadata": {
        "colab": {
          "base_uri": "https://localhost:8080/"
        },
        "id": "NMhllA2FAbFS",
        "outputId": "582f5c9b-6a6a-4aab-bf26-42fa415994e1"
      },
      "execution_count": null,
      "outputs": [
        {
          "output_type": "stream",
          "name": "stdout",
          "text": [
            "                     precision    recall  f1-score   support\n",
            "\n",
            "Potato_Early_blight       0.98      0.97      0.98       200\n",
            " Potato_Late_blight       0.97      0.74      0.84       200\n",
            "     Potato_healthy       0.36      0.97      0.53        30\n",
            "\n",
            "           accuracy                           0.87       430\n",
            "          macro avg       0.77      0.89      0.78       430\n",
            "       weighted avg       0.94      0.87      0.88       430\n",
            "\n"
          ]
        }
      ]
    },
    {
      "cell_type": "markdown",
      "source": [
        "The test accuracy went down, so we will not choose this model over model 2. Let's add another convolutional layer and see what happens."
      ],
      "metadata": {
        "id": "y0zWTjiGGSvx"
      }
    },
    {
      "cell_type": "code",
      "source": [
        "es = EarlyStopping(patience = 5)\n",
        "\n",
        "model4 = Sequential()\n",
        "\n",
        "model4.add(layers.Input(shape=(256,256,3)))\n",
        "model4.add(layers.Rescaling(1./255))\n",
        "\n",
        "# Convolutional and pooling layers\n",
        "model4.add(Conv2D(64, (3,3), activation='relu'))\n",
        "model4.add(MaxPooling2D(pool_size=(2,2)))\n",
        "\n",
        "model4.add(Conv2D(64, (3,3), activation='relu'))\n",
        "model4.add(MaxPooling2D(pool_size=(2,2)))\n",
        "\n",
        "model4.add(Conv2D(64, (3,3), activation='relu'))\n",
        "model4.add(MaxPooling2D(pool_size=(2,2)))\n",
        "\n",
        "model4.add(Flatten())\n",
        "\n",
        "# Dense Layers\n",
        "model4.add(Dense(64, activation='relu'))\n",
        "\n",
        "# Output\n",
        "model4.add(Dense(3, activation='softmax'))\n",
        "\n",
        "model4.compile(\n",
        "    optimizer=\"adam\",\n",
        "    loss=\"categorical_crossentropy\",\n",
        "    metrics=['accuracy']\n",
        ")\n",
        "\n",
        "h = model4.fit(train_ds,\n",
        "               validation_data=val_ds,\n",
        "               callbacks = [es],\n",
        "               epochs=20)\n",
        "     "
      ],
      "metadata": {
        "id": "Hy5tHVaM_Do4",
        "colab": {
          "base_uri": "https://localhost:8080/"
        },
        "outputId": "00d4738c-895a-4f67-9105-d7bce82dd447"
      },
      "execution_count": null,
      "outputs": [
        {
          "output_type": "stream",
          "name": "stdout",
          "text": [
            "Epoch 1/20\n",
            "54/54 [==============================] - 7s 92ms/step - loss: 0.6820 - accuracy: 0.7334 - val_loss: 0.3256 - val_accuracy: 0.8791\n",
            "Epoch 2/20\n",
            "54/54 [==============================] - 5s 90ms/step - loss: 0.3758 - accuracy: 0.8676 - val_loss: 0.3337 - val_accuracy: 0.8767\n",
            "Epoch 3/20\n",
            "54/54 [==============================] - 5s 88ms/step - loss: 0.2072 - accuracy: 0.9262 - val_loss: 0.2461 - val_accuracy: 0.9116\n",
            "Epoch 4/20\n",
            "54/54 [==============================] - 5s 89ms/step - loss: 0.1690 - accuracy: 0.9460 - val_loss: 0.2226 - val_accuracy: 0.9186\n",
            "Epoch 5/20\n",
            "54/54 [==============================] - 5s 88ms/step - loss: 0.1279 - accuracy: 0.9553 - val_loss: 0.1527 - val_accuracy: 0.9419\n",
            "Epoch 6/20\n",
            "54/54 [==============================] - 5s 89ms/step - loss: 0.0677 - accuracy: 0.9762 - val_loss: 0.1294 - val_accuracy: 0.9512\n",
            "Epoch 7/20\n",
            "54/54 [==============================] - 5s 88ms/step - loss: 0.0397 - accuracy: 0.9878 - val_loss: 0.2449 - val_accuracy: 0.9233\n",
            "Epoch 8/20\n",
            "54/54 [==============================] - 5s 91ms/step - loss: 0.0277 - accuracy: 0.9901 - val_loss: 0.1869 - val_accuracy: 0.9395\n",
            "Epoch 9/20\n",
            "54/54 [==============================] - 5s 87ms/step - loss: 0.0527 - accuracy: 0.9855 - val_loss: 0.1941 - val_accuracy: 0.9395\n",
            "Epoch 10/20\n",
            "54/54 [==============================] - 5s 91ms/step - loss: 0.0510 - accuracy: 0.9843 - val_loss: 0.2733 - val_accuracy: 0.9326\n",
            "Epoch 11/20\n",
            "54/54 [==============================] - 5s 89ms/step - loss: 0.0199 - accuracy: 0.9936 - val_loss: 0.3342 - val_accuracy: 0.9302\n"
          ]
        }
      ]
    },
    {
      "cell_type": "code",
      "source": [
        "y_true_classes, y_pred_classes = model_preds(model4)\n",
        "\n",
        "cm = confusion_matrix(y_true_classes, y_pred_classes)\n",
        "\n",
        "fig, ax = plt.subplots(figsize=(12, 5))\n",
        "\n",
        "sns.heatmap(cm, annot=True, fmt='d')\n",
        "\n",
        "ax.set_yticklabels(['Early Blight', 'Late Blight', 'Healthy'], rotation=0, va=\"center\")\n",
        "ax.set_xticklabels(['Early Blight', 'Late Blight', 'Healthy'], rotation=0, ha=\"center\")\n",
        "\n",
        "plt.xlabel('Predicted')\n",
        "plt.ylabel('Truth')\n",
        "plt.show()"
      ],
      "metadata": {
        "id": "Y2Ec5lAy_Dq0",
        "colab": {
          "base_uri": "https://localhost:8080/",
          "height": 482
        },
        "outputId": "d829c8e8-8b0a-4930-8a88-97deb15aa699"
      },
      "execution_count": null,
      "outputs": [
        {
          "output_type": "stream",
          "name": "stdout",
          "text": [
            "14/14 [==============================] - 1s 69ms/step\n"
          ]
        },
        {
          "output_type": "display_data",
          "data": {
            "text/plain": [
              "<Figure size 1200x500 with 2 Axes>"
            ],
            "image/png": "[encoded data removed]"
          },
          "metadata": {}
        }
      ]
    },
    {
      "cell_type": "code",
      "execution_count": null,
      "metadata": {
        "id": "huyB7N327J7q",
        "colab": {
          "base_uri": "https://localhost:8080/"
        },
        "outputId": "202d2112-1036-4d6c-c6ce-94c2b220263f"
      },
      "outputs": [
        {
          "output_type": "stream",
          "name": "stdout",
          "text": [
            "                     precision    recall  f1-score   support\n",
            "\n",
            "Potato_Early_blight       0.98      0.93      0.96       200\n",
            " Potato_Late_blight       0.88      0.98      0.93       200\n",
            "     Potato_healthy       1.00      0.57      0.72        30\n",
            "\n",
            "           accuracy                           0.93       430\n",
            "          macro avg       0.95      0.83      0.87       430\n",
            "       weighted avg       0.94      0.93      0.93       430\n",
            "\n"
          ]
        }
      ],
      "source": [
        "report = classification_report(y_true_classes, y_pred_classes, target_names=val_ds.class_indices.keys())\n",
        "print(report)"
      ]
    },
    {
      "cell_type": "markdown",
      "source": [
        "This model does well but still not better than model 2. Let's see if using only one convolutional layer does better than 2 convolutional layers."
      ],
      "metadata": {
        "id": "RHtfdX5LGrpQ"
      }
    },
    {
      "cell_type": "code",
      "source": [
        "es = EarlyStopping(patience = 5)\n",
        "\n",
        "model5 = Sequential()\n",
        "\n",
        "model5.add(layers.Input(shape=(256,256,3)))\n",
        "model5.add(layers.Rescaling(1./255))\n",
        "\n",
        "# Convolutional and pooling layers\n",
        "model5.add(Conv2D(64, (3,3), activation='relu'))\n",
        "model5.add(MaxPooling2D(pool_size=(2,2)))\n",
        "\n",
        "model5.add(Flatten())\n",
        "\n",
        "# Dense Layers\n",
        "model5.add(Dense(64, activation='relu'))\n",
        "\n",
        "# Output\n",
        "model5.add(Dense(3, activation='softmax'))\n",
        "\n",
        "model5.compile(\n",
        "    optimizer=\"adam\",\n",
        "    loss=\"categorical_crossentropy\",\n",
        "    metrics=['accuracy']\n",
        ")\n",
        "\n",
        "h = model5.fit(train_ds,\n",
        "               validation_data=val_ds,\n",
        "               callbacks = [es],\n",
        "               epochs=20)"
      ],
      "metadata": {
        "id": "Y59cUr7w_BL9",
        "colab": {
          "base_uri": "https://localhost:8080/"
        },
        "outputId": "739a8dd7-10f0-4fb4-f04a-48f315af7e14"
      },
      "execution_count": null,
      "outputs": [
        {
          "output_type": "stream",
          "name": "stdout",
          "text": [
            "Epoch 1/20\n",
            "54/54 [==============================] - 6s 90ms/step - loss: 10.7851 - accuracy: 0.6852 - val_loss: 0.3589 - val_accuracy: 0.8814\n",
            "Epoch 2/20\n",
            "54/54 [==============================] - 5s 85ms/step - loss: 0.1976 - accuracy: 0.9373 - val_loss: 0.2215 - val_accuracy: 0.9209\n",
            "Epoch 3/20\n",
            "54/54 [==============================] - 5s 84ms/step - loss: 0.0621 - accuracy: 0.9843 - val_loss: 0.2096 - val_accuracy: 0.9163\n",
            "Epoch 4/20\n",
            "54/54 [==============================] - 5s 89ms/step - loss: 0.0219 - accuracy: 0.9942 - val_loss: 0.1580 - val_accuracy: 0.9465\n",
            "Epoch 5/20\n",
            "54/54 [==============================] - 5s 90ms/step - loss: 0.0059 - accuracy: 1.0000 - val_loss: 0.1409 - val_accuracy: 0.9465\n",
            "Epoch 6/20\n",
            "54/54 [==============================] - 5s 89ms/step - loss: 0.0029 - accuracy: 1.0000 - val_loss: 0.2157 - val_accuracy: 0.9233\n",
            "Epoch 7/20\n",
            "54/54 [==============================] - 5s 84ms/step - loss: 8.9474e-04 - accuracy: 1.0000 - val_loss: 0.1929 - val_accuracy: 0.9279\n",
            "Epoch 8/20\n",
            "54/54 [==============================] - 5s 88ms/step - loss: 5.0664e-04 - accuracy: 1.0000 - val_loss: 0.1853 - val_accuracy: 0.9326\n",
            "Epoch 9/20\n",
            "54/54 [==============================] - 5s 86ms/step - loss: 3.7482e-04 - accuracy: 1.0000 - val_loss: 0.1996 - val_accuracy: 0.9349\n",
            "Epoch 10/20\n",
            "54/54 [==============================] - 5s 88ms/step - loss: 3.0250e-04 - accuracy: 1.0000 - val_loss: 0.2036 - val_accuracy: 0.9372\n"
          ]
        }
      ]
    },
    {
      "cell_type": "code",
      "source": [
        "y_true_classes, y_pred_classes = model_preds(model5)\n",
        "\n",
        "cm = confusion_matrix(y_true_classes, y_pred_classes)\n",
        "\n",
        "fig, ax = plt.subplots(figsize=(12, 5))\n",
        "\n",
        "sns.heatmap(cm, annot=True, fmt='d')\n",
        "\n",
        "ax.set_yticklabels(['Early Blight', 'Late Blight', 'Healthy'], rotation=0, va=\"center\")\n",
        "ax.set_xticklabels(['Early Blight', 'Late Blight', 'Healthy'], rotation=0, ha=\"center\")\n",
        "\n",
        "plt.xlabel('Predicted')\n",
        "plt.ylabel('Truth')\n",
        "plt.show()"
      ],
      "metadata": {
        "colab": {
          "base_uri": "https://localhost:8080/",
          "height": 482
        },
        "id": "mQH6mgRHB2J4",
        "outputId": "622734f8-db71-4841-dc79-3bf7854bb348"
      },
      "execution_count": null,
      "outputs": [
        {
          "output_type": "stream",
          "name": "stdout",
          "text": [
            "14/14 [==============================] - 1s 64ms/step\n"
          ]
        },
        {
          "output_type": "display_data",
          "data": {
            "text/plain": [
              "<Figure size 1200x500 with 2 Axes>"
            ],
            "image/png": "[encoded data removed]"
          },
          "metadata": {}
        }
      ]
    },
    {
      "cell_type": "code",
      "source": [
        "report = classification_report(y_true_classes, y_pred_classes, target_names=val_ds.class_indices.keys())\n",
        "print(report)"
      ],
      "metadata": {
        "colab": {
          "base_uri": "https://localhost:8080/"
        },
        "id": "P3iWmjNqB9W2",
        "outputId": "a0abdbd3-ff59-4c05-80f6-cf2813cbcef0"
      },
      "execution_count": null,
      "outputs": [
        {
          "output_type": "stream",
          "name": "stdout",
          "text": [
            "                     precision    recall  f1-score   support\n",
            "\n",
            "Potato_Early_blight       0.98      0.94      0.96       200\n",
            " Potato_Late_blight       0.89      0.98      0.94       200\n",
            "     Potato_healthy       1.00      0.60      0.75        30\n",
            "\n",
            "           accuracy                           0.94       430\n",
            "          macro avg       0.96      0.84      0.88       430\n",
            "       weighted avg       0.94      0.94      0.93       430\n",
            "\n"
          ]
        }
      ]
    },
    {
      "cell_type": "markdown",
      "source": [
        "This did not do better than model 2."
      ],
      "metadata": {
        "id": "E7ed20qcHOCr"
      }
    },
    {
      "cell_type": "markdown",
      "source": [
        "----\n",
        "## Conclusion \n",
        "### Best Model: Model 2"
      ],
      "metadata": {
        "id": "s-m4j5u8H2Bf"
      }
    },
    {
      "cell_type": "markdown",
      "source": [
        "Model 2 does well on the on the testing data, but misclassifies 2 blight plants as healthy which is something we don't want. The recall score for early and late blight plants are high, but the recall score on healthy plants is a little lower. This just means we have a risk of misclassifying healthy plants as having some type of blight. Missclassifying a healthy plant as unhealthy is not as much of an issue since it would simply require a framer to check up on the plant.\n",
        "\n",
        "The next goal is to make our model stronger by fixing class imbalances present, so we have a better indication of what makes a plant healthy. This would hopefully improve the healthy plant recall score."
      ],
      "metadata": {
        "id": "IL2Wmm2kH_3C"
      }
    }
  ],
  "metadata": {
    "accelerator": "GPU",
    "colab": {
      "provenance": [],
      "gpuType": "A100"
    },
    "gpuClass": "standard",
    "kernelspec": {
      "display_name": "Python 3",
      "name": "python3"
    },
    "language_info": {
      "name": "python"
    }
  },
  "nbformat": 4,
  "nbformat_minor": 0
}